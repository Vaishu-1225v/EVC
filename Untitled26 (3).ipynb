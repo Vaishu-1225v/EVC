{
 "cells": [
  {
   "cell_type": "markdown",
   "id": "75bc7969-2e48-471c-ac1f-bf161e49d295",
   "metadata": {},
   "source": [
    "#TASK 1"
   ]
  },
  {
   "cell_type": "code",
   "execution_count": 1,
   "id": "7a60d5e3-27a0-43e4-85e0-47d93feb1b7b",
   "metadata": {},
   "outputs": [],
   "source": [
    "import pandas as pd"
   ]
  },
  {
   "cell_type": "code",
   "execution_count": 2,
   "id": "e14a4ec5-d7bf-41ac-b3c9-544bc3d43ea4",
   "metadata": {},
   "outputs": [],
   "source": [
    "df = pd.read_csv(r\"C:\\Users\\Soberr\\Desktop\\Innomatics Research lab internship data\\EVP\\dataset.csv\")"
   ]
  },
  {
   "cell_type": "code",
   "execution_count": 3,
   "id": "c33409f9-88c7-4896-83a5-ecccba72837d",
   "metadata": {},
   "outputs": [
    {
     "data": {
      "text/html": [
       "<div>\n",
       "<style scoped>\n",
       "    .dataframe tbody tr th:only-of-type {\n",
       "        vertical-align: middle;\n",
       "    }\n",
       "\n",
       "    .dataframe tbody tr th {\n",
       "        vertical-align: top;\n",
       "    }\n",
       "\n",
       "    .dataframe thead th {\n",
       "        text-align: right;\n",
       "    }\n",
       "</style>\n",
       "<table border=\"1\" class=\"dataframe\">\n",
       "  <thead>\n",
       "    <tr style=\"text-align: right;\">\n",
       "      <th></th>\n",
       "      <th>VIN (1-10)</th>\n",
       "      <th>County</th>\n",
       "      <th>City</th>\n",
       "      <th>State</th>\n",
       "      <th>Postal Code</th>\n",
       "      <th>Model Year</th>\n",
       "      <th>Make</th>\n",
       "      <th>Model</th>\n",
       "      <th>Electric Vehicle Type</th>\n",
       "      <th>Clean Alternative Fuel Vehicle (CAFV) Eligibility</th>\n",
       "      <th>Electric Range</th>\n",
       "      <th>Base MSRP</th>\n",
       "      <th>Legislative District</th>\n",
       "      <th>DOL Vehicle ID</th>\n",
       "      <th>Vehicle Location</th>\n",
       "      <th>Electric Utility</th>\n",
       "      <th>2020 Census Tract</th>\n",
       "    </tr>\n",
       "  </thead>\n",
       "  <tbody>\n",
       "    <tr>\n",
       "      <th>0</th>\n",
       "      <td>JTMEB3FV6N</td>\n",
       "      <td>Monroe</td>\n",
       "      <td>Key West</td>\n",
       "      <td>FL</td>\n",
       "      <td>33040</td>\n",
       "      <td>2022</td>\n",
       "      <td>TOYOTA</td>\n",
       "      <td>RAV4 PRIME</td>\n",
       "      <td>Plug-in Hybrid Electric Vehicle (PHEV)</td>\n",
       "      <td>Clean Alternative Fuel Vehicle Eligible</td>\n",
       "      <td>42</td>\n",
       "      <td>0</td>\n",
       "      <td>NaN</td>\n",
       "      <td>198968248</td>\n",
       "      <td>POINT (-81.80023 24.5545)</td>\n",
       "      <td>NaN</td>\n",
       "      <td>12087972100</td>\n",
       "    </tr>\n",
       "    <tr>\n",
       "      <th>1</th>\n",
       "      <td>1G1RD6E45D</td>\n",
       "      <td>Clark</td>\n",
       "      <td>Laughlin</td>\n",
       "      <td>NV</td>\n",
       "      <td>89029</td>\n",
       "      <td>2013</td>\n",
       "      <td>CHEVROLET</td>\n",
       "      <td>VOLT</td>\n",
       "      <td>Plug-in Hybrid Electric Vehicle (PHEV)</td>\n",
       "      <td>Clean Alternative Fuel Vehicle Eligible</td>\n",
       "      <td>38</td>\n",
       "      <td>0</td>\n",
       "      <td>NaN</td>\n",
       "      <td>5204412</td>\n",
       "      <td>POINT (-114.57245 35.16815)</td>\n",
       "      <td>NaN</td>\n",
       "      <td>32003005702</td>\n",
       "    </tr>\n",
       "    <tr>\n",
       "      <th>2</th>\n",
       "      <td>JN1AZ0CP8B</td>\n",
       "      <td>Yakima</td>\n",
       "      <td>Yakima</td>\n",
       "      <td>WA</td>\n",
       "      <td>98901</td>\n",
       "      <td>2011</td>\n",
       "      <td>NISSAN</td>\n",
       "      <td>LEAF</td>\n",
       "      <td>Battery Electric Vehicle (BEV)</td>\n",
       "      <td>Clean Alternative Fuel Vehicle Eligible</td>\n",
       "      <td>73</td>\n",
       "      <td>0</td>\n",
       "      <td>15.0</td>\n",
       "      <td>218972519</td>\n",
       "      <td>POINT (-120.50721 46.60448)</td>\n",
       "      <td>PACIFICORP</td>\n",
       "      <td>53077001602</td>\n",
       "    </tr>\n",
       "    <tr>\n",
       "      <th>3</th>\n",
       "      <td>1G1FW6S08H</td>\n",
       "      <td>Skagit</td>\n",
       "      <td>Concrete</td>\n",
       "      <td>WA</td>\n",
       "      <td>98237</td>\n",
       "      <td>2017</td>\n",
       "      <td>CHEVROLET</td>\n",
       "      <td>BOLT EV</td>\n",
       "      <td>Battery Electric Vehicle (BEV)</td>\n",
       "      <td>Clean Alternative Fuel Vehicle Eligible</td>\n",
       "      <td>238</td>\n",
       "      <td>0</td>\n",
       "      <td>39.0</td>\n",
       "      <td>186750406</td>\n",
       "      <td>POINT (-121.7515 48.53892)</td>\n",
       "      <td>PUGET SOUND ENERGY INC</td>\n",
       "      <td>53057951101</td>\n",
       "    </tr>\n",
       "    <tr>\n",
       "      <th>4</th>\n",
       "      <td>3FA6P0SU1K</td>\n",
       "      <td>Snohomish</td>\n",
       "      <td>Everett</td>\n",
       "      <td>WA</td>\n",
       "      <td>98201</td>\n",
       "      <td>2019</td>\n",
       "      <td>FORD</td>\n",
       "      <td>FUSION</td>\n",
       "      <td>Plug-in Hybrid Electric Vehicle (PHEV)</td>\n",
       "      <td>Not eligible due to low battery range</td>\n",
       "      <td>26</td>\n",
       "      <td>0</td>\n",
       "      <td>38.0</td>\n",
       "      <td>2006714</td>\n",
       "      <td>POINT (-122.20596 47.97659)</td>\n",
       "      <td>PUGET SOUND ENERGY INC</td>\n",
       "      <td>53061041500</td>\n",
       "    </tr>\n",
       "  </tbody>\n",
       "</table>\n",
       "</div>"
      ],
      "text/plain": [
       "   VIN (1-10)     County      City State  Postal Code  Model Year       Make  \\\n",
       "0  JTMEB3FV6N     Monroe  Key West    FL        33040        2022     TOYOTA   \n",
       "1  1G1RD6E45D      Clark  Laughlin    NV        89029        2013  CHEVROLET   \n",
       "2  JN1AZ0CP8B     Yakima    Yakima    WA        98901        2011     NISSAN   \n",
       "3  1G1FW6S08H     Skagit  Concrete    WA        98237        2017  CHEVROLET   \n",
       "4  3FA6P0SU1K  Snohomish   Everett    WA        98201        2019       FORD   \n",
       "\n",
       "        Model                   Electric Vehicle Type  \\\n",
       "0  RAV4 PRIME  Plug-in Hybrid Electric Vehicle (PHEV)   \n",
       "1        VOLT  Plug-in Hybrid Electric Vehicle (PHEV)   \n",
       "2        LEAF          Battery Electric Vehicle (BEV)   \n",
       "3     BOLT EV          Battery Electric Vehicle (BEV)   \n",
       "4      FUSION  Plug-in Hybrid Electric Vehicle (PHEV)   \n",
       "\n",
       "  Clean Alternative Fuel Vehicle (CAFV) Eligibility  Electric Range  \\\n",
       "0           Clean Alternative Fuel Vehicle Eligible              42   \n",
       "1           Clean Alternative Fuel Vehicle Eligible              38   \n",
       "2           Clean Alternative Fuel Vehicle Eligible              73   \n",
       "3           Clean Alternative Fuel Vehicle Eligible             238   \n",
       "4             Not eligible due to low battery range              26   \n",
       "\n",
       "   Base MSRP  Legislative District  DOL Vehicle ID  \\\n",
       "0          0                   NaN       198968248   \n",
       "1          0                   NaN         5204412   \n",
       "2          0                  15.0       218972519   \n",
       "3          0                  39.0       186750406   \n",
       "4          0                  38.0         2006714   \n",
       "\n",
       "              Vehicle Location        Electric Utility  2020 Census Tract  \n",
       "0    POINT (-81.80023 24.5545)                     NaN        12087972100  \n",
       "1  POINT (-114.57245 35.16815)                     NaN        32003005702  \n",
       "2  POINT (-120.50721 46.60448)              PACIFICORP        53077001602  \n",
       "3   POINT (-121.7515 48.53892)  PUGET SOUND ENERGY INC        53057951101  \n",
       "4  POINT (-122.20596 47.97659)  PUGET SOUND ENERGY INC        53061041500  "
      ]
     },
     "execution_count": 3,
     "metadata": {},
     "output_type": "execute_result"
    }
   ],
   "source": [
    "df.head()"
   ]
  },
  {
   "cell_type": "code",
   "execution_count": 4,
   "id": "7027d350-0f7a-4288-ae51-23766b3d7547",
   "metadata": {},
   "outputs": [
    {
     "data": {
      "text/html": [
       "<div>\n",
       "<style scoped>\n",
       "    .dataframe tbody tr th:only-of-type {\n",
       "        vertical-align: middle;\n",
       "    }\n",
       "\n",
       "    .dataframe tbody tr th {\n",
       "        vertical-align: top;\n",
       "    }\n",
       "\n",
       "    .dataframe thead th {\n",
       "        text-align: right;\n",
       "    }\n",
       "</style>\n",
       "<table border=\"1\" class=\"dataframe\">\n",
       "  <thead>\n",
       "    <tr style=\"text-align: right;\">\n",
       "      <th></th>\n",
       "      <th>VIN (1-10)</th>\n",
       "      <th>County</th>\n",
       "      <th>City</th>\n",
       "      <th>State</th>\n",
       "      <th>Postal Code</th>\n",
       "      <th>Model Year</th>\n",
       "      <th>Make</th>\n",
       "      <th>Model</th>\n",
       "      <th>Electric Vehicle Type</th>\n",
       "      <th>Clean Alternative Fuel Vehicle (CAFV) Eligibility</th>\n",
       "      <th>Electric Range</th>\n",
       "      <th>Base MSRP</th>\n",
       "      <th>Legislative District</th>\n",
       "      <th>DOL Vehicle ID</th>\n",
       "      <th>Vehicle Location</th>\n",
       "      <th>Electric Utility</th>\n",
       "      <th>2020 Census Tract</th>\n",
       "    </tr>\n",
       "  </thead>\n",
       "  <tbody>\n",
       "    <tr>\n",
       "      <th>0</th>\n",
       "      <td>False</td>\n",
       "      <td>False</td>\n",
       "      <td>False</td>\n",
       "      <td>False</td>\n",
       "      <td>False</td>\n",
       "      <td>False</td>\n",
       "      <td>False</td>\n",
       "      <td>False</td>\n",
       "      <td>False</td>\n",
       "      <td>False</td>\n",
       "      <td>False</td>\n",
       "      <td>False</td>\n",
       "      <td>True</td>\n",
       "      <td>False</td>\n",
       "      <td>False</td>\n",
       "      <td>True</td>\n",
       "      <td>False</td>\n",
       "    </tr>\n",
       "    <tr>\n",
       "      <th>1</th>\n",
       "      <td>False</td>\n",
       "      <td>False</td>\n",
       "      <td>False</td>\n",
       "      <td>False</td>\n",
       "      <td>False</td>\n",
       "      <td>False</td>\n",
       "      <td>False</td>\n",
       "      <td>False</td>\n",
       "      <td>False</td>\n",
       "      <td>False</td>\n",
       "      <td>False</td>\n",
       "      <td>False</td>\n",
       "      <td>True</td>\n",
       "      <td>False</td>\n",
       "      <td>False</td>\n",
       "      <td>True</td>\n",
       "      <td>False</td>\n",
       "    </tr>\n",
       "    <tr>\n",
       "      <th>2</th>\n",
       "      <td>False</td>\n",
       "      <td>False</td>\n",
       "      <td>False</td>\n",
       "      <td>False</td>\n",
       "      <td>False</td>\n",
       "      <td>False</td>\n",
       "      <td>False</td>\n",
       "      <td>False</td>\n",
       "      <td>False</td>\n",
       "      <td>False</td>\n",
       "      <td>False</td>\n",
       "      <td>False</td>\n",
       "      <td>False</td>\n",
       "      <td>False</td>\n",
       "      <td>False</td>\n",
       "      <td>False</td>\n",
       "      <td>False</td>\n",
       "    </tr>\n",
       "    <tr>\n",
       "      <th>3</th>\n",
       "      <td>False</td>\n",
       "      <td>False</td>\n",
       "      <td>False</td>\n",
       "      <td>False</td>\n",
       "      <td>False</td>\n",
       "      <td>False</td>\n",
       "      <td>False</td>\n",
       "      <td>False</td>\n",
       "      <td>False</td>\n",
       "      <td>False</td>\n",
       "      <td>False</td>\n",
       "      <td>False</td>\n",
       "      <td>False</td>\n",
       "      <td>False</td>\n",
       "      <td>False</td>\n",
       "      <td>False</td>\n",
       "      <td>False</td>\n",
       "    </tr>\n",
       "    <tr>\n",
       "      <th>4</th>\n",
       "      <td>False</td>\n",
       "      <td>False</td>\n",
       "      <td>False</td>\n",
       "      <td>False</td>\n",
       "      <td>False</td>\n",
       "      <td>False</td>\n",
       "      <td>False</td>\n",
       "      <td>False</td>\n",
       "      <td>False</td>\n",
       "      <td>False</td>\n",
       "      <td>False</td>\n",
       "      <td>False</td>\n",
       "      <td>False</td>\n",
       "      <td>False</td>\n",
       "      <td>False</td>\n",
       "      <td>False</td>\n",
       "      <td>False</td>\n",
       "    </tr>\n",
       "    <tr>\n",
       "      <th>...</th>\n",
       "      <td>...</td>\n",
       "      <td>...</td>\n",
       "      <td>...</td>\n",
       "      <td>...</td>\n",
       "      <td>...</td>\n",
       "      <td>...</td>\n",
       "      <td>...</td>\n",
       "      <td>...</td>\n",
       "      <td>...</td>\n",
       "      <td>...</td>\n",
       "      <td>...</td>\n",
       "      <td>...</td>\n",
       "      <td>...</td>\n",
       "      <td>...</td>\n",
       "      <td>...</td>\n",
       "      <td>...</td>\n",
       "      <td>...</td>\n",
       "    </tr>\n",
       "    <tr>\n",
       "      <th>112629</th>\n",
       "      <td>False</td>\n",
       "      <td>False</td>\n",
       "      <td>False</td>\n",
       "      <td>False</td>\n",
       "      <td>False</td>\n",
       "      <td>False</td>\n",
       "      <td>False</td>\n",
       "      <td>False</td>\n",
       "      <td>False</td>\n",
       "      <td>False</td>\n",
       "      <td>False</td>\n",
       "      <td>False</td>\n",
       "      <td>False</td>\n",
       "      <td>False</td>\n",
       "      <td>False</td>\n",
       "      <td>False</td>\n",
       "      <td>False</td>\n",
       "    </tr>\n",
       "    <tr>\n",
       "      <th>112630</th>\n",
       "      <td>False</td>\n",
       "      <td>False</td>\n",
       "      <td>False</td>\n",
       "      <td>False</td>\n",
       "      <td>False</td>\n",
       "      <td>False</td>\n",
       "      <td>False</td>\n",
       "      <td>False</td>\n",
       "      <td>False</td>\n",
       "      <td>False</td>\n",
       "      <td>False</td>\n",
       "      <td>False</td>\n",
       "      <td>False</td>\n",
       "      <td>False</td>\n",
       "      <td>False</td>\n",
       "      <td>False</td>\n",
       "      <td>False</td>\n",
       "    </tr>\n",
       "    <tr>\n",
       "      <th>112631</th>\n",
       "      <td>False</td>\n",
       "      <td>False</td>\n",
       "      <td>False</td>\n",
       "      <td>False</td>\n",
       "      <td>False</td>\n",
       "      <td>False</td>\n",
       "      <td>False</td>\n",
       "      <td>False</td>\n",
       "      <td>False</td>\n",
       "      <td>False</td>\n",
       "      <td>False</td>\n",
       "      <td>False</td>\n",
       "      <td>False</td>\n",
       "      <td>False</td>\n",
       "      <td>False</td>\n",
       "      <td>False</td>\n",
       "      <td>False</td>\n",
       "    </tr>\n",
       "    <tr>\n",
       "      <th>112632</th>\n",
       "      <td>False</td>\n",
       "      <td>False</td>\n",
       "      <td>False</td>\n",
       "      <td>False</td>\n",
       "      <td>False</td>\n",
       "      <td>False</td>\n",
       "      <td>False</td>\n",
       "      <td>False</td>\n",
       "      <td>False</td>\n",
       "      <td>False</td>\n",
       "      <td>False</td>\n",
       "      <td>False</td>\n",
       "      <td>False</td>\n",
       "      <td>False</td>\n",
       "      <td>False</td>\n",
       "      <td>False</td>\n",
       "      <td>False</td>\n",
       "    </tr>\n",
       "    <tr>\n",
       "      <th>112633</th>\n",
       "      <td>False</td>\n",
       "      <td>False</td>\n",
       "      <td>False</td>\n",
       "      <td>False</td>\n",
       "      <td>False</td>\n",
       "      <td>False</td>\n",
       "      <td>False</td>\n",
       "      <td>False</td>\n",
       "      <td>False</td>\n",
       "      <td>False</td>\n",
       "      <td>False</td>\n",
       "      <td>False</td>\n",
       "      <td>False</td>\n",
       "      <td>False</td>\n",
       "      <td>False</td>\n",
       "      <td>False</td>\n",
       "      <td>False</td>\n",
       "    </tr>\n",
       "  </tbody>\n",
       "</table>\n",
       "<p>112634 rows × 17 columns</p>\n",
       "</div>"
      ],
      "text/plain": [
       "        VIN (1-10)  County   City  State  Postal Code  Model Year   Make  \\\n",
       "0            False   False  False  False        False       False  False   \n",
       "1            False   False  False  False        False       False  False   \n",
       "2            False   False  False  False        False       False  False   \n",
       "3            False   False  False  False        False       False  False   \n",
       "4            False   False  False  False        False       False  False   \n",
       "...            ...     ...    ...    ...          ...         ...    ...   \n",
       "112629       False   False  False  False        False       False  False   \n",
       "112630       False   False  False  False        False       False  False   \n",
       "112631       False   False  False  False        False       False  False   \n",
       "112632       False   False  False  False        False       False  False   \n",
       "112633       False   False  False  False        False       False  False   \n",
       "\n",
       "        Model  Electric Vehicle Type  \\\n",
       "0       False                  False   \n",
       "1       False                  False   \n",
       "2       False                  False   \n",
       "3       False                  False   \n",
       "4       False                  False   \n",
       "...       ...                    ...   \n",
       "112629  False                  False   \n",
       "112630  False                  False   \n",
       "112631  False                  False   \n",
       "112632  False                  False   \n",
       "112633  False                  False   \n",
       "\n",
       "        Clean Alternative Fuel Vehicle (CAFV) Eligibility  Electric Range  \\\n",
       "0                                                   False           False   \n",
       "1                                                   False           False   \n",
       "2                                                   False           False   \n",
       "3                                                   False           False   \n",
       "4                                                   False           False   \n",
       "...                                                   ...             ...   \n",
       "112629                                              False           False   \n",
       "112630                                              False           False   \n",
       "112631                                              False           False   \n",
       "112632                                              False           False   \n",
       "112633                                              False           False   \n",
       "\n",
       "        Base MSRP  Legislative District  DOL Vehicle ID  Vehicle Location  \\\n",
       "0           False                  True           False             False   \n",
       "1           False                  True           False             False   \n",
       "2           False                 False           False             False   \n",
       "3           False                 False           False             False   \n",
       "4           False                 False           False             False   \n",
       "...           ...                   ...             ...               ...   \n",
       "112629      False                 False           False             False   \n",
       "112630      False                 False           False             False   \n",
       "112631      False                 False           False             False   \n",
       "112632      False                 False           False             False   \n",
       "112633      False                 False           False             False   \n",
       "\n",
       "        Electric Utility  2020 Census Tract  \n",
       "0                   True              False  \n",
       "1                   True              False  \n",
       "2                  False              False  \n",
       "3                  False              False  \n",
       "4                  False              False  \n",
       "...                  ...                ...  \n",
       "112629             False              False  \n",
       "112630             False              False  \n",
       "112631             False              False  \n",
       "112632             False              False  \n",
       "112633             False              False  \n",
       "\n",
       "[112634 rows x 17 columns]"
      ]
     },
     "execution_count": 4,
     "metadata": {},
     "output_type": "execute_result"
    }
   ],
   "source": [
    "df.isnull()"
   ]
  },
  {
   "cell_type": "code",
   "execution_count": 5,
   "id": "529347ad-6bd9-4c05-be26-79328f1dd344",
   "metadata": {},
   "outputs": [
    {
     "data": {
      "text/html": [
       "<div>\n",
       "<style scoped>\n",
       "    .dataframe tbody tr th:only-of-type {\n",
       "        vertical-align: middle;\n",
       "    }\n",
       "\n",
       "    .dataframe tbody tr th {\n",
       "        vertical-align: top;\n",
       "    }\n",
       "\n",
       "    .dataframe thead th {\n",
       "        text-align: right;\n",
       "    }\n",
       "</style>\n",
       "<table border=\"1\" class=\"dataframe\">\n",
       "  <thead>\n",
       "    <tr style=\"text-align: right;\">\n",
       "      <th></th>\n",
       "      <th>Postal Code</th>\n",
       "      <th>Model Year</th>\n",
       "      <th>Electric Range</th>\n",
       "      <th>Base MSRP</th>\n",
       "      <th>Legislative District</th>\n",
       "      <th>DOL Vehicle ID</th>\n",
       "      <th>2020 Census Tract</th>\n",
       "    </tr>\n",
       "  </thead>\n",
       "  <tbody>\n",
       "    <tr>\n",
       "      <th>count</th>\n",
       "      <td>112634.000000</td>\n",
       "      <td>112634.000000</td>\n",
       "      <td>112634.000000</td>\n",
       "      <td>112634.000000</td>\n",
       "      <td>112348.000000</td>\n",
       "      <td>1.126340e+05</td>\n",
       "      <td>1.126340e+05</td>\n",
       "    </tr>\n",
       "    <tr>\n",
       "      <th>mean</th>\n",
       "      <td>98156.226850</td>\n",
       "      <td>2019.003365</td>\n",
       "      <td>87.812987</td>\n",
       "      <td>1793.439681</td>\n",
       "      <td>29.805604</td>\n",
       "      <td>1.994567e+08</td>\n",
       "      <td>5.296650e+10</td>\n",
       "    </tr>\n",
       "    <tr>\n",
       "      <th>std</th>\n",
       "      <td>2648.733064</td>\n",
       "      <td>2.892364</td>\n",
       "      <td>102.334216</td>\n",
       "      <td>10783.753486</td>\n",
       "      <td>14.700545</td>\n",
       "      <td>9.398427e+07</td>\n",
       "      <td>1.699104e+09</td>\n",
       "    </tr>\n",
       "    <tr>\n",
       "      <th>min</th>\n",
       "      <td>1730.000000</td>\n",
       "      <td>1997.000000</td>\n",
       "      <td>0.000000</td>\n",
       "      <td>0.000000</td>\n",
       "      <td>1.000000</td>\n",
       "      <td>4.777000e+03</td>\n",
       "      <td>1.101001e+09</td>\n",
       "    </tr>\n",
       "    <tr>\n",
       "      <th>25%</th>\n",
       "      <td>98052.000000</td>\n",
       "      <td>2017.000000</td>\n",
       "      <td>0.000000</td>\n",
       "      <td>0.000000</td>\n",
       "      <td>18.000000</td>\n",
       "      <td>1.484142e+08</td>\n",
       "      <td>5.303301e+10</td>\n",
       "    </tr>\n",
       "    <tr>\n",
       "      <th>50%</th>\n",
       "      <td>98119.000000</td>\n",
       "      <td>2020.000000</td>\n",
       "      <td>32.000000</td>\n",
       "      <td>0.000000</td>\n",
       "      <td>34.000000</td>\n",
       "      <td>1.923896e+08</td>\n",
       "      <td>5.303303e+10</td>\n",
       "    </tr>\n",
       "    <tr>\n",
       "      <th>75%</th>\n",
       "      <td>98370.000000</td>\n",
       "      <td>2022.000000</td>\n",
       "      <td>208.000000</td>\n",
       "      <td>0.000000</td>\n",
       "      <td>43.000000</td>\n",
       "      <td>2.191899e+08</td>\n",
       "      <td>5.305307e+10</td>\n",
       "    </tr>\n",
       "    <tr>\n",
       "      <th>max</th>\n",
       "      <td>99701.000000</td>\n",
       "      <td>2023.000000</td>\n",
       "      <td>337.000000</td>\n",
       "      <td>845000.000000</td>\n",
       "      <td>49.000000</td>\n",
       "      <td>4.792548e+08</td>\n",
       "      <td>5.603300e+10</td>\n",
       "    </tr>\n",
       "  </tbody>\n",
       "</table>\n",
       "</div>"
      ],
      "text/plain": [
       "         Postal Code     Model Year  Electric Range      Base MSRP  \\\n",
       "count  112634.000000  112634.000000   112634.000000  112634.000000   \n",
       "mean    98156.226850    2019.003365       87.812987    1793.439681   \n",
       "std      2648.733064       2.892364      102.334216   10783.753486   \n",
       "min      1730.000000    1997.000000        0.000000       0.000000   \n",
       "25%     98052.000000    2017.000000        0.000000       0.000000   \n",
       "50%     98119.000000    2020.000000       32.000000       0.000000   \n",
       "75%     98370.000000    2022.000000      208.000000       0.000000   \n",
       "max     99701.000000    2023.000000      337.000000  845000.000000   \n",
       "\n",
       "       Legislative District  DOL Vehicle ID  2020 Census Tract  \n",
       "count         112348.000000    1.126340e+05       1.126340e+05  \n",
       "mean              29.805604    1.994567e+08       5.296650e+10  \n",
       "std               14.700545    9.398427e+07       1.699104e+09  \n",
       "min                1.000000    4.777000e+03       1.101001e+09  \n",
       "25%               18.000000    1.484142e+08       5.303301e+10  \n",
       "50%               34.000000    1.923896e+08       5.303303e+10  \n",
       "75%               43.000000    2.191899e+08       5.305307e+10  \n",
       "max               49.000000    4.792548e+08       5.603300e+10  "
      ]
     },
     "execution_count": 5,
     "metadata": {},
     "output_type": "execute_result"
    }
   ],
   "source": [
    "df.describe()"
   ]
  },
  {
   "cell_type": "code",
   "execution_count": 6,
   "id": "cbc81cbb-dd2e-4d61-8db2-ce44c27915d0",
   "metadata": {},
   "outputs": [
    {
     "name": "stdout",
     "output_type": "stream",
     "text": [
      "<class 'pandas.core.frame.DataFrame'>\n",
      "RangeIndex: 112634 entries, 0 to 112633\n",
      "Data columns (total 17 columns):\n",
      " #   Column                                             Non-Null Count   Dtype  \n",
      "---  ------                                             --------------   -----  \n",
      " 0   VIN (1-10)                                         112634 non-null  object \n",
      " 1   County                                             112634 non-null  object \n",
      " 2   City                                               112634 non-null  object \n",
      " 3   State                                              112634 non-null  object \n",
      " 4   Postal Code                                        112634 non-null  int64  \n",
      " 5   Model Year                                         112634 non-null  int64  \n",
      " 6   Make                                               112634 non-null  object \n",
      " 7   Model                                              112614 non-null  object \n",
      " 8   Electric Vehicle Type                              112634 non-null  object \n",
      " 9   Clean Alternative Fuel Vehicle (CAFV) Eligibility  112634 non-null  object \n",
      " 10  Electric Range                                     112634 non-null  int64  \n",
      " 11  Base MSRP                                          112634 non-null  int64  \n",
      " 12  Legislative District                               112348 non-null  float64\n",
      " 13  DOL Vehicle ID                                     112634 non-null  int64  \n",
      " 14  Vehicle Location                                   112610 non-null  object \n",
      " 15  Electric Utility                                   112191 non-null  object \n",
      " 16  2020 Census Tract                                  112634 non-null  int64  \n",
      "dtypes: float64(1), int64(6), object(10)\n",
      "memory usage: 14.6+ MB\n"
     ]
    }
   ],
   "source": [
    "df.info()"
   ]
  },
  {
   "cell_type": "code",
   "execution_count": 7,
   "id": "49c9504f-1893-4b00-8506-445d13cd4a36",
   "metadata": {},
   "outputs": [
    {
     "name": "stdout",
     "output_type": "stream",
     "text": [
      "        VIN (1-10)     County           City State  Postal Code  Model Year  \\\n",
      "0       JTMEB3FV6N     Monroe       Key West    FL        33040        2022   \n",
      "1       1G1RD6E45D      Clark       Laughlin    NV        89029        2013   \n",
      "2       JN1AZ0CP8B     Yakima         Yakima    WA        98901        2011   \n",
      "3       1G1FW6S08H     Skagit       Concrete    WA        98237        2017   \n",
      "4       3FA6P0SU1K  Snohomish        Everett    WA        98201        2019   \n",
      "...            ...        ...            ...   ...          ...         ...   \n",
      "112629  7SAYGDEF2N       King         Duvall    WA        98019        2022   \n",
      "112630  1N4BZ1CP7K   San Juan  Friday Harbor    WA        98250        2019   \n",
      "112631  1FMCU0KZ4N       King         Vashon    WA        98070        2022   \n",
      "112632  KNDCD3LD4J       King      Covington    WA        98042        2018   \n",
      "112633  YV4BR0CL8N       King      Covington    WA        98042        2022   \n",
      "\n",
      "             Make       Model                   Electric Vehicle Type  \\\n",
      "0          TOYOTA  RAV4 PRIME  Plug-in Hybrid Electric Vehicle (PHEV)   \n",
      "1       CHEVROLET        VOLT  Plug-in Hybrid Electric Vehicle (PHEV)   \n",
      "2          NISSAN        LEAF          Battery Electric Vehicle (BEV)   \n",
      "3       CHEVROLET     BOLT EV          Battery Electric Vehicle (BEV)   \n",
      "4            FORD      FUSION  Plug-in Hybrid Electric Vehicle (PHEV)   \n",
      "...           ...         ...                                     ...   \n",
      "112629      TESLA     MODEL Y          Battery Electric Vehicle (BEV)   \n",
      "112630     NISSAN        LEAF          Battery Electric Vehicle (BEV)   \n",
      "112631       FORD      ESCAPE  Plug-in Hybrid Electric Vehicle (PHEV)   \n",
      "112632        KIA        NIRO  Plug-in Hybrid Electric Vehicle (PHEV)   \n",
      "112633      VOLVO        XC90  Plug-in Hybrid Electric Vehicle (PHEV)   \n",
      "\n",
      "        Clean Alternative Fuel Vehicle (CAFV) Eligibility  Electric Range  \\\n",
      "0                 Clean Alternative Fuel Vehicle Eligible              42   \n",
      "1                 Clean Alternative Fuel Vehicle Eligible              38   \n",
      "2                 Clean Alternative Fuel Vehicle Eligible              73   \n",
      "3                 Clean Alternative Fuel Vehicle Eligible             238   \n",
      "4                   Not eligible due to low battery range              26   \n",
      "...                                                   ...             ...   \n",
      "112629  Eligibility unknown as battery range has not b...               0   \n",
      "112630            Clean Alternative Fuel Vehicle Eligible             150   \n",
      "112631            Clean Alternative Fuel Vehicle Eligible              38   \n",
      "112632              Not eligible due to low battery range              26   \n",
      "112633              Not eligible due to low battery range              18   \n",
      "\n",
      "        Base MSRP  Legislative District  DOL Vehicle ID  \\\n",
      "0               0                   0.0       198968248   \n",
      "1               0                   0.0         5204412   \n",
      "2               0                  15.0       218972519   \n",
      "3               0                  39.0       186750406   \n",
      "4               0                  38.0         2006714   \n",
      "...           ...                   ...             ...   \n",
      "112629          0                  45.0       217955265   \n",
      "112630          0                  40.0       103663227   \n",
      "112631          0                  34.0       193878387   \n",
      "112632          0                  47.0       125039043   \n",
      "112633          0                  47.0       194673692   \n",
      "\n",
      "                   Vehicle Location  \\\n",
      "0         POINT (-81.80023 24.5545)   \n",
      "1       POINT (-114.57245 35.16815)   \n",
      "2       POINT (-120.50721 46.60448)   \n",
      "3        POINT (-121.7515 48.53892)   \n",
      "4       POINT (-122.20596 47.97659)   \n",
      "...                             ...   \n",
      "112629  POINT (-121.98609 47.74068)   \n",
      "112630  POINT (-123.01648 48.53448)   \n",
      "112631   POINT (-122.4573 47.44929)   \n",
      "112632  POINT (-122.09124 47.33778)   \n",
      "112633  POINT (-122.09124 47.33778)   \n",
      "\n",
      "                                         Electric Utility  2020 Census Tract  \n",
      "0                                                     NaN        12087972100  \n",
      "1                                                     NaN        32003005702  \n",
      "2                                              PACIFICORP        53077001602  \n",
      "3                                  PUGET SOUND ENERGY INC        53057951101  \n",
      "4                                  PUGET SOUND ENERGY INC        53061041500  \n",
      "...                                                   ...                ...  \n",
      "112629      PUGET SOUND ENERGY INC||CITY OF TACOMA - (WA)        53033032401  \n",
      "112630  BONNEVILLE POWER ADMINISTRATION||ORCAS POWER &...        53055960301  \n",
      "112631      PUGET SOUND ENERGY INC||CITY OF TACOMA - (WA)        53033027702  \n",
      "112632      PUGET SOUND ENERGY INC||CITY OF TACOMA - (WA)        53033032007  \n",
      "112633      PUGET SOUND ENERGY INC||CITY OF TACOMA - (WA)        53033032005  \n",
      "\n",
      "[112634 rows x 17 columns]\n"
     ]
    }
   ],
   "source": [
    "import numpy as np\n",
    "# Fill numerical columns with 0\n",
    "df[df.select_dtypes(include=['number']).columns] = df.select_dtypes(include=['number']).fillna(0)\n",
    "\n",
    "# Fill categorical columns with NaN\n",
    "df[df.select_dtypes(include=['object', 'category']).columns] = df.select_dtypes(include=['object', 'category']).fillna(np.nan)\n",
    "print(df)"
   ]
  },
  {
   "cell_type": "code",
   "execution_count": 8,
   "id": "ad4598e6-0630-4b69-8dd5-37dda0bacbaa",
   "metadata": {},
   "outputs": [
    {
     "name": "stdout",
     "output_type": "stream",
     "text": [
      "VIN (1-10)                                             0\n",
      "County                                                 0\n",
      "City                                                   0\n",
      "State                                                  0\n",
      "Postal Code                                            0\n",
      "Model Year                                             0\n",
      "Make                                                   0\n",
      "Model                                                 20\n",
      "Electric Vehicle Type                                  0\n",
      "Clean Alternative Fuel Vehicle (CAFV) Eligibility      0\n",
      "Electric Range                                         0\n",
      "Base MSRP                                              0\n",
      "Legislative District                                   0\n",
      "DOL Vehicle ID                                         0\n",
      "Vehicle Location                                      24\n",
      "Electric Utility                                     443\n",
      "2020 Census Tract                                      0\n",
      "dtype: int64\n"
     ]
    }
   ],
   "source": [
    "# Check for null values after filling\n",
    "null_counts_after_filling = df.isnull().sum()\n",
    "print(null_counts_after_filling)"
   ]
  },
  {
   "cell_type": "code",
   "execution_count": 9,
   "id": "258abdd9-6c6b-42e3-8f27-f8db1ed74a9e",
   "metadata": {},
   "outputs": [
    {
     "name": "stdout",
     "output_type": "stream",
     "text": [
      "        Legislative District\n",
      "0                        0.0\n",
      "1                        0.0\n",
      "2                       15.0\n",
      "3                       39.0\n",
      "4                       38.0\n",
      "...                      ...\n",
      "112629                  45.0\n",
      "112630                  40.0\n",
      "112631                  34.0\n",
      "112632                  47.0\n",
      "112633                  47.0\n",
      "\n",
      "[112634 rows x 1 columns]\n"
     ]
    }
   ],
   "source": [
    "# Check for columns containing float type\n",
    "float_columns = df.select_dtypes(include=['float'])\n",
    "print(float_columns)"
   ]
  },
  {
   "cell_type": "code",
   "execution_count": 10,
   "id": "44fa0904-f5c7-4930-a2ba-8bf767e7ee33",
   "metadata": {},
   "outputs": [
    {
     "name": "stdout",
     "output_type": "stream",
     "text": [
      "0          0.0\n",
      "1          0.0\n",
      "2         15.0\n",
      "3         39.0\n",
      "4         38.0\n",
      "          ... \n",
      "112629    45.0\n",
      "112630    40.0\n",
      "112631    34.0\n",
      "112632    47.0\n",
      "112633    47.0\n",
      "Name: Legislative District, Length: 112634, dtype: float64\n"
     ]
    }
   ],
   "source": [
    "# Print float values in a specific column\n",
    "float_values = df['Legislative District'][df['Legislative District'].apply(lambda x: isinstance(x, float))]\n",
    "print(float_values)"
   ]
  },
  {
   "cell_type": "code",
   "execution_count": 11,
   "id": "437bf8cc-045a-4880-9034-6becbea20ad4",
   "metadata": {},
   "outputs": [
    {
     "name": "stdout",
     "output_type": "stream",
     "text": [
      "VIN (1-10)                                           object\n",
      "County                                               object\n",
      "City                                                 object\n",
      "State                                                object\n",
      "Postal Code                                           int64\n",
      "Model Year                                            int64\n",
      "Make                                                 object\n",
      "Model                                                object\n",
      "Electric Vehicle Type                                object\n",
      "Clean Alternative Fuel Vehicle (CAFV) Eligibility    object\n",
      "Electric Range                                        int64\n",
      "Base MSRP                                             int64\n",
      "Legislative District                                  int32\n",
      "DOL Vehicle ID                                        int64\n",
      "Vehicle Location                                     object\n",
      "Electric Utility                                     object\n",
      "2020 Census Tract                                     int64\n",
      "dtype: object\n"
     ]
    }
   ],
   "source": [
    "# Convert a specific column from float to int\n",
    "df['Legislative District'] = df['Legislative District'].astype(int)\n",
    "print(df.dtypes)  # To verify the datatype change"
   ]
  },
  {
   "cell_type": "code",
   "execution_count": 12,
   "id": "cdc620a9-e91f-4bd7-bd49-78c60bb7e7fb",
   "metadata": {},
   "outputs": [
    {
     "name": "stdout",
     "output_type": "stream",
     "text": [
      "        VIN (1-10)     County           City State  Postal Code  Model Year  \\\n",
      "0       JTMEB3FV6N     Monroe       Key West    FL        33040        2022   \n",
      "1       1G1RD6E45D      Clark       Laughlin    NV        89029        2013   \n",
      "2       JN1AZ0CP8B     Yakima         Yakima    WA        98901        2011   \n",
      "3       1G1FW6S08H     Skagit       Concrete    WA        98237        2017   \n",
      "4       3FA6P0SU1K  Snohomish        Everett    WA        98201        2019   \n",
      "...            ...        ...            ...   ...          ...         ...   \n",
      "112629  7SAYGDEF2N       King         Duvall    WA        98019        2022   \n",
      "112630  1N4BZ1CP7K   San Juan  Friday Harbor    WA        98250        2019   \n",
      "112631  1FMCU0KZ4N       King         Vashon    WA        98070        2022   \n",
      "112632  KNDCD3LD4J       King      Covington    WA        98042        2018   \n",
      "112633  YV4BR0CL8N       King      Covington    WA        98042        2022   \n",
      "\n",
      "             Make       Model                   Electric Vehicle Type  \\\n",
      "0          TOYOTA  RAV4 PRIME  Plug-in Hybrid Electric Vehicle (PHEV)   \n",
      "1       CHEVROLET        VOLT  Plug-in Hybrid Electric Vehicle (PHEV)   \n",
      "2          NISSAN        LEAF          Battery Electric Vehicle (BEV)   \n",
      "3       CHEVROLET     BOLT EV          Battery Electric Vehicle (BEV)   \n",
      "4            FORD      FUSION  Plug-in Hybrid Electric Vehicle (PHEV)   \n",
      "...           ...         ...                                     ...   \n",
      "112629      TESLA     MODEL Y          Battery Electric Vehicle (BEV)   \n",
      "112630     NISSAN        LEAF          Battery Electric Vehicle (BEV)   \n",
      "112631       FORD      ESCAPE  Plug-in Hybrid Electric Vehicle (PHEV)   \n",
      "112632        KIA        NIRO  Plug-in Hybrid Electric Vehicle (PHEV)   \n",
      "112633      VOLVO        XC90  Plug-in Hybrid Electric Vehicle (PHEV)   \n",
      "\n",
      "        Clean Alternative Fuel Vehicle (CAFV) Eligibility  Electric Range  \\\n",
      "0                 Clean Alternative Fuel Vehicle Eligible              42   \n",
      "1                 Clean Alternative Fuel Vehicle Eligible              38   \n",
      "2                 Clean Alternative Fuel Vehicle Eligible              73   \n",
      "3                 Clean Alternative Fuel Vehicle Eligible             238   \n",
      "4                   Not eligible due to low battery range              26   \n",
      "...                                                   ...             ...   \n",
      "112629  Eligibility unknown as battery range has not b...               0   \n",
      "112630            Clean Alternative Fuel Vehicle Eligible             150   \n",
      "112631            Clean Alternative Fuel Vehicle Eligible              38   \n",
      "112632              Not eligible due to low battery range              26   \n",
      "112633              Not eligible due to low battery range              18   \n",
      "\n",
      "        Base MSRP  Legislative District  DOL Vehicle ID  \\\n",
      "0               0                     0       198968248   \n",
      "1               0                     0         5204412   \n",
      "2               0                    15       218972519   \n",
      "3               0                    39       186750406   \n",
      "4               0                    38         2006714   \n",
      "...           ...                   ...             ...   \n",
      "112629          0                    45       217955265   \n",
      "112630          0                    40       103663227   \n",
      "112631          0                    34       193878387   \n",
      "112632          0                    47       125039043   \n",
      "112633          0                    47       194673692   \n",
      "\n",
      "                   Vehicle Location  \\\n",
      "0         POINT (-81.80023 24.5545)   \n",
      "1       POINT (-114.57245 35.16815)   \n",
      "2       POINT (-120.50721 46.60448)   \n",
      "3        POINT (-121.7515 48.53892)   \n",
      "4       POINT (-122.20596 47.97659)   \n",
      "...                             ...   \n",
      "112629  POINT (-121.98609 47.74068)   \n",
      "112630  POINT (-123.01648 48.53448)   \n",
      "112631   POINT (-122.4573 47.44929)   \n",
      "112632  POINT (-122.09124 47.33778)   \n",
      "112633  POINT (-122.09124 47.33778)   \n",
      "\n",
      "                                         Electric Utility  2020 Census Tract  \\\n",
      "0                                                     NaN        12087972100   \n",
      "1                                                     NaN        32003005702   \n",
      "2                                              PACIFICORP        53077001602   \n",
      "3                                  PUGET SOUND ENERGY INC        53057951101   \n",
      "4                                  PUGET SOUND ENERGY INC        53061041500   \n",
      "...                                                   ...                ...   \n",
      "112629      PUGET SOUND ENERGY INC||CITY OF TACOMA - (WA)        53033032401   \n",
      "112630  BONNEVILLE POWER ADMINISTRATION||ORCAS POWER &...        53055960301   \n",
      "112631      PUGET SOUND ENERGY INC||CITY OF TACOMA - (WA)        53033027702   \n",
      "112632      PUGET SOUND ENERGY INC||CITY OF TACOMA - (WA)        53033032007   \n",
      "112633      PUGET SOUND ENERGY INC||CITY OF TACOMA - (WA)        53033032005   \n",
      "\n",
      "       model_year  \n",
      "0      2022-01-01  \n",
      "1      2013-01-01  \n",
      "2      2011-01-01  \n",
      "3      2017-01-01  \n",
      "4      2019-01-01  \n",
      "...           ...  \n",
      "112629 2022-01-01  \n",
      "112630 2019-01-01  \n",
      "112631 2022-01-01  \n",
      "112632 2018-01-01  \n",
      "112633 2022-01-01  \n",
      "\n",
      "[112634 rows x 18 columns]\n"
     ]
    }
   ],
   "source": [
    "# Convert 'model_year' to datetime format, assuming it only contains the year\n",
    "df['model_year'] = pd.to_datetime(df['Model Year'], format='%Y', errors='coerce')\n",
    "print(df)"
   ]
  },
  {
   "cell_type": "code",
   "execution_count": 13,
   "id": "95e3c093-f625-41a9-af4d-596806398e4b",
   "metadata": {},
   "outputs": [
    {
     "name": "stdout",
     "output_type": "stream",
     "text": [
      "VIN (1-10)                                                   object\n",
      "County                                                       object\n",
      "City                                                         object\n",
      "State                                                        object\n",
      "Postal Code                                                   int64\n",
      "Model Year                                                   object\n",
      "Make                                                         object\n",
      "Model                                                        object\n",
      "Electric Vehicle Type                                        object\n",
      "Clean Alternative Fuel Vehicle (CAFV) Eligibility            object\n",
      "Electric Range                                                int64\n",
      "Base MSRP                                                     int64\n",
      "Legislative District                                          int32\n",
      "DOL Vehicle ID                                                int64\n",
      "Vehicle Location                                             object\n",
      "Electric Utility                                             object\n",
      "2020 Census Tract                                             int64\n",
      "model_year                                           datetime64[ns]\n",
      "dtype: object\n"
     ]
    }
   ],
   "source": [
    "# Convert 'model_year' column to object (string) data type\n",
    "df['Model Year'] = df['Model Year'].astype(str)\n",
    "print(df.dtypes)  # To verify the data type change"
   ]
  },
  {
   "cell_type": "code",
   "execution_count": 15,
   "id": "bb571129-5e29-44ea-8a4b-6e16ebf5e02b",
   "metadata": {},
   "outputs": [
    {
     "name": "stdout",
     "output_type": "stream",
     "text": [
      "        VIN (1-10)     County           City State  Postal Code Model Year  \\\n",
      "0       JTMEB3FV6N     Monroe       Key West    FL        33040       2022   \n",
      "1       1G1RD6E45D      Clark       Laughlin    NV        89029       2013   \n",
      "2       JN1AZ0CP8B     Yakima         Yakima    WA        98901       2011   \n",
      "3       1G1FW6S08H     Skagit       Concrete    WA        98237       2017   \n",
      "4       3FA6P0SU1K  Snohomish        Everett    WA        98201       2019   \n",
      "...            ...        ...            ...   ...          ...        ...   \n",
      "112629  7SAYGDEF2N       King         Duvall    WA        98019       2022   \n",
      "112630  1N4BZ1CP7K   San Juan  Friday Harbor    WA        98250       2019   \n",
      "112631  1FMCU0KZ4N       King         Vashon    WA        98070       2022   \n",
      "112632  KNDCD3LD4J       King      Covington    WA        98042       2018   \n",
      "112633  YV4BR0CL8N       King      Covington    WA        98042       2022   \n",
      "\n",
      "             Make       Model                   Electric Vehicle Type  \\\n",
      "0          TOYOTA  RAV4 PRIME  Plug-in Hybrid Electric Vehicle (PHEV)   \n",
      "1       CHEVROLET        VOLT  Plug-in Hybrid Electric Vehicle (PHEV)   \n",
      "2          NISSAN        LEAF          Battery Electric Vehicle (BEV)   \n",
      "3       CHEVROLET     BOLT EV          Battery Electric Vehicle (BEV)   \n",
      "4            FORD      FUSION  Plug-in Hybrid Electric Vehicle (PHEV)   \n",
      "...           ...         ...                                     ...   \n",
      "112629      TESLA     MODEL Y          Battery Electric Vehicle (BEV)   \n",
      "112630     NISSAN        LEAF          Battery Electric Vehicle (BEV)   \n",
      "112631       FORD      ESCAPE  Plug-in Hybrid Electric Vehicle (PHEV)   \n",
      "112632        KIA        NIRO  Plug-in Hybrid Electric Vehicle (PHEV)   \n",
      "112633      VOLVO        XC90  Plug-in Hybrid Electric Vehicle (PHEV)   \n",
      "\n",
      "        Clean Alternative Fuel Vehicle (CAFV) Eligibility  Electric Range  \\\n",
      "0                 Clean Alternative Fuel Vehicle Eligible              42   \n",
      "1                 Clean Alternative Fuel Vehicle Eligible              38   \n",
      "2                 Clean Alternative Fuel Vehicle Eligible              73   \n",
      "3                 Clean Alternative Fuel Vehicle Eligible             238   \n",
      "4                   Not eligible due to low battery range              26   \n",
      "...                                                   ...             ...   \n",
      "112629  Eligibility unknown as battery range has not b...               0   \n",
      "112630            Clean Alternative Fuel Vehicle Eligible             150   \n",
      "112631            Clean Alternative Fuel Vehicle Eligible              38   \n",
      "112632              Not eligible due to low battery range              26   \n",
      "112633              Not eligible due to low battery range              18   \n",
      "\n",
      "        Base MSRP  Legislative District  DOL Vehicle ID  \\\n",
      "0               0                     0       198968248   \n",
      "1               0                     0         5204412   \n",
      "2               0                    15       218972519   \n",
      "3               0                    39       186750406   \n",
      "4               0                    38         2006714   \n",
      "...           ...                   ...             ...   \n",
      "112629          0                    45       217955265   \n",
      "112630          0                    40       103663227   \n",
      "112631          0                    34       193878387   \n",
      "112632          0                    47       125039043   \n",
      "112633          0                    47       194673692   \n",
      "\n",
      "                   Vehicle Location  \\\n",
      "0         POINT (-81.80023 24.5545)   \n",
      "1       POINT (-114.57245 35.16815)   \n",
      "2       POINT (-120.50721 46.60448)   \n",
      "3        POINT (-121.7515 48.53892)   \n",
      "4       POINT (-122.20596 47.97659)   \n",
      "...                             ...   \n",
      "112629  POINT (-121.98609 47.74068)   \n",
      "112630  POINT (-123.01648 48.53448)   \n",
      "112631   POINT (-122.4573 47.44929)   \n",
      "112632  POINT (-122.09124 47.33778)   \n",
      "112633  POINT (-122.09124 47.33778)   \n",
      "\n",
      "                                         Electric Utility  2020 Census Tract  \\\n",
      "0                                                     NaN        12087972100   \n",
      "1                                                     NaN        32003005702   \n",
      "2                                              PACIFICORP        53077001602   \n",
      "3                                  PUGET SOUND ENERGY INC        53057951101   \n",
      "4                                  PUGET SOUND ENERGY INC        53061041500   \n",
      "...                                                   ...                ...   \n",
      "112629      PUGET SOUND ENERGY INC||CITY OF TACOMA - (WA)        53033032401   \n",
      "112630  BONNEVILLE POWER ADMINISTRATION||ORCAS POWER &...        53055960301   \n",
      "112631      PUGET SOUND ENERGY INC||CITY OF TACOMA - (WA)        53033027702   \n",
      "112632      PUGET SOUND ENERGY INC||CITY OF TACOMA - (WA)        53033032007   \n",
      "112633      PUGET SOUND ENERGY INC||CITY OF TACOMA - (WA)        53033032005   \n",
      "\n",
      "       model_year  \n",
      "0      2022-01-01  \n",
      "1      2013-01-01  \n",
      "2      2011-01-01  \n",
      "3      2017-01-01  \n",
      "4      2019-01-01  \n",
      "...           ...  \n",
      "112629 2022-01-01  \n",
      "112630 2019-01-01  \n",
      "112631 2022-01-01  \n",
      "112632 2018-01-01  \n",
      "112633 2022-01-01  \n",
      "\n",
      "[112634 rows x 18 columns]\n"
     ]
    }
   ],
   "source": [
    "import numpy as np\n",
    "# Fill numerical columns with 0\n",
    "df[df.select_dtypes(include=['number']).columns] = df.select_dtypes(include=['number']).fillna(0)\n",
    "\n",
    "# Fill categorical columns with NaN\n",
    "df[df.select_dtypes(include=['object', 'category']).columns] = df.select_dtypes(include=['object', 'category']).fillna(np.nan)\n",
    "print(df)"
   ]
  },
  {
   "cell_type": "code",
   "execution_count": 16,
   "id": "48126aa3-4640-4dc3-ae76-8c817be01f39",
   "metadata": {},
   "outputs": [
    {
     "name": "stdout",
     "output_type": "stream",
     "text": [
      "        VIN (1-10)     County           City State  Postal Code Model Year  \\\n",
      "0       JTMEB3FV6N     Monroe       Key West    FL        33040       2022   \n",
      "1       1G1RD6E45D      Clark       Laughlin    NV        89029       2013   \n",
      "2       JN1AZ0CP8B     Yakima         Yakima    WA        98901       2011   \n",
      "3       1G1FW6S08H     Skagit       Concrete    WA        98237       2017   \n",
      "4       3FA6P0SU1K  Snohomish        Everett    WA        98201       2019   \n",
      "...            ...        ...            ...   ...          ...        ...   \n",
      "112629  7SAYGDEF2N       King         Duvall    WA        98019       2022   \n",
      "112630  1N4BZ1CP7K   San Juan  Friday Harbor    WA        98250       2019   \n",
      "112631  1FMCU0KZ4N       King         Vashon    WA        98070       2022   \n",
      "112632  KNDCD3LD4J       King      Covington    WA        98042       2018   \n",
      "112633  YV4BR0CL8N       King      Covington    WA        98042       2022   \n",
      "\n",
      "             Make       Model                   Electric Vehicle Type  \\\n",
      "0          TOYOTA  RAV4 PRIME  Plug-in Hybrid Electric Vehicle (PHEV)   \n",
      "1       CHEVROLET        VOLT  Plug-in Hybrid Electric Vehicle (PHEV)   \n",
      "2          NISSAN        LEAF          Battery Electric Vehicle (BEV)   \n",
      "3       CHEVROLET     BOLT EV          Battery Electric Vehicle (BEV)   \n",
      "4            FORD      FUSION  Plug-in Hybrid Electric Vehicle (PHEV)   \n",
      "...           ...         ...                                     ...   \n",
      "112629      TESLA     MODEL Y          Battery Electric Vehicle (BEV)   \n",
      "112630     NISSAN        LEAF          Battery Electric Vehicle (BEV)   \n",
      "112631       FORD      ESCAPE  Plug-in Hybrid Electric Vehicle (PHEV)   \n",
      "112632        KIA        NIRO  Plug-in Hybrid Electric Vehicle (PHEV)   \n",
      "112633      VOLVO        XC90  Plug-in Hybrid Electric Vehicle (PHEV)   \n",
      "\n",
      "        Clean Alternative Fuel Vehicle (CAFV) Eligibility  Electric Range  \\\n",
      "0                 Clean Alternative Fuel Vehicle Eligible              42   \n",
      "1                 Clean Alternative Fuel Vehicle Eligible              38   \n",
      "2                 Clean Alternative Fuel Vehicle Eligible              73   \n",
      "3                 Clean Alternative Fuel Vehicle Eligible             238   \n",
      "4                   Not eligible due to low battery range              26   \n",
      "...                                                   ...             ...   \n",
      "112629  Eligibility unknown as battery range has not b...               0   \n",
      "112630            Clean Alternative Fuel Vehicle Eligible             150   \n",
      "112631            Clean Alternative Fuel Vehicle Eligible              38   \n",
      "112632              Not eligible due to low battery range              26   \n",
      "112633              Not eligible due to low battery range              18   \n",
      "\n",
      "        Base MSRP  Legislative District  DOL Vehicle ID  \\\n",
      "0               0                     0       198968248   \n",
      "1               0                     0         5204412   \n",
      "2               0                    15       218972519   \n",
      "3               0                    39       186750406   \n",
      "4               0                    38         2006714   \n",
      "...           ...                   ...             ...   \n",
      "112629          0                    45       217955265   \n",
      "112630          0                    40       103663227   \n",
      "112631          0                    34       193878387   \n",
      "112632          0                    47       125039043   \n",
      "112633          0                    47       194673692   \n",
      "\n",
      "                   Vehicle Location  \\\n",
      "0         POINT (-81.80023 24.5545)   \n",
      "1       POINT (-114.57245 35.16815)   \n",
      "2       POINT (-120.50721 46.60448)   \n",
      "3        POINT (-121.7515 48.53892)   \n",
      "4       POINT (-122.20596 47.97659)   \n",
      "...                             ...   \n",
      "112629  POINT (-121.98609 47.74068)   \n",
      "112630  POINT (-123.01648 48.53448)   \n",
      "112631   POINT (-122.4573 47.44929)   \n",
      "112632  POINT (-122.09124 47.33778)   \n",
      "112633  POINT (-122.09124 47.33778)   \n",
      "\n",
      "                                         Electric Utility  2020 Census Tract  \\\n",
      "0                                                     NaN        12087972100   \n",
      "1                                                     NaN        32003005702   \n",
      "2                                              PACIFICORP        53077001602   \n",
      "3                                  PUGET SOUND ENERGY INC        53057951101   \n",
      "4                                  PUGET SOUND ENERGY INC        53061041500   \n",
      "...                                                   ...                ...   \n",
      "112629      PUGET SOUND ENERGY INC||CITY OF TACOMA - (WA)        53033032401   \n",
      "112630  BONNEVILLE POWER ADMINISTRATION||ORCAS POWER &...        53055960301   \n",
      "112631      PUGET SOUND ENERGY INC||CITY OF TACOMA - (WA)        53033027702   \n",
      "112632      PUGET SOUND ENERGY INC||CITY OF TACOMA - (WA)        53033032007   \n",
      "112633      PUGET SOUND ENERGY INC||CITY OF TACOMA - (WA)        53033032005   \n",
      "\n",
      "       model_year  \n",
      "0      2022-01-01  \n",
      "1      2013-01-01  \n",
      "2      2011-01-01  \n",
      "3      2017-01-01  \n",
      "4      2019-01-01  \n",
      "...           ...  \n",
      "112629 2022-01-01  \n",
      "112630 2019-01-01  \n",
      "112631 2022-01-01  \n",
      "112632 2018-01-01  \n",
      "112633 2022-01-01  \n",
      "\n",
      "[112634 rows x 18 columns]\n"
     ]
    }
   ],
   "source": [
    "# Fill null values in all object columns with NaN\n",
    "object_columns = df.select_dtypes(include=['object'])\n",
    "\n",
    "for column in object_columns.columns:\n",
    "    df[column] = df[column].fillna(np.nan)\n",
    "print(df)"
   ]
  },
  {
   "cell_type": "code",
   "execution_count": 17,
   "id": "a94dd6ef-ff93-4506-be73-28d6f30a73f1",
   "metadata": {},
   "outputs": [
    {
     "name": "stdout",
     "output_type": "stream",
     "text": [
      "        VIN (1-10)     County           City State  Postal Code Model Year  \\\n",
      "0       JTMEB3FV6N     Monroe       Key West    FL        33040       2022   \n",
      "1       1G1RD6E45D      Clark       Laughlin    NV        89029       2013   \n",
      "2       JN1AZ0CP8B     Yakima         Yakima    WA        98901       2011   \n",
      "3       1G1FW6S08H     Skagit       Concrete    WA        98237       2017   \n",
      "4       3FA6P0SU1K  Snohomish        Everett    WA        98201       2019   \n",
      "...            ...        ...            ...   ...          ...        ...   \n",
      "112629  7SAYGDEF2N       King         Duvall    WA        98019       2022   \n",
      "112630  1N4BZ1CP7K   San Juan  Friday Harbor    WA        98250       2019   \n",
      "112631  1FMCU0KZ4N       King         Vashon    WA        98070       2022   \n",
      "112632  KNDCD3LD4J       King      Covington    WA        98042       2018   \n",
      "112633  YV4BR0CL8N       King      Covington    WA        98042       2022   \n",
      "\n",
      "             Make       Model                   Electric Vehicle Type  \\\n",
      "0          TOYOTA  RAV4 PRIME  Plug-in Hybrid Electric Vehicle (PHEV)   \n",
      "1       CHEVROLET        VOLT  Plug-in Hybrid Electric Vehicle (PHEV)   \n",
      "2          NISSAN        LEAF          Battery Electric Vehicle (BEV)   \n",
      "3       CHEVROLET     BOLT EV          Battery Electric Vehicle (BEV)   \n",
      "4            FORD      FUSION  Plug-in Hybrid Electric Vehicle (PHEV)   \n",
      "...           ...         ...                                     ...   \n",
      "112629      TESLA     MODEL Y          Battery Electric Vehicle (BEV)   \n",
      "112630     NISSAN        LEAF          Battery Electric Vehicle (BEV)   \n",
      "112631       FORD      ESCAPE  Plug-in Hybrid Electric Vehicle (PHEV)   \n",
      "112632        KIA        NIRO  Plug-in Hybrid Electric Vehicle (PHEV)   \n",
      "112633      VOLVO        XC90  Plug-in Hybrid Electric Vehicle (PHEV)   \n",
      "\n",
      "        Clean Alternative Fuel Vehicle (CAFV) Eligibility  Electric Range  \\\n",
      "0                 Clean Alternative Fuel Vehicle Eligible              42   \n",
      "1                 Clean Alternative Fuel Vehicle Eligible              38   \n",
      "2                 Clean Alternative Fuel Vehicle Eligible              73   \n",
      "3                 Clean Alternative Fuel Vehicle Eligible             238   \n",
      "4                   Not eligible due to low battery range              26   \n",
      "...                                                   ...             ...   \n",
      "112629  Eligibility unknown as battery range has not b...               0   \n",
      "112630            Clean Alternative Fuel Vehicle Eligible             150   \n",
      "112631            Clean Alternative Fuel Vehicle Eligible              38   \n",
      "112632              Not eligible due to low battery range              26   \n",
      "112633              Not eligible due to low battery range              18   \n",
      "\n",
      "        Base MSRP  Legislative District  DOL Vehicle ID  \\\n",
      "0               0                     0       198968248   \n",
      "1               0                     0         5204412   \n",
      "2               0                    15       218972519   \n",
      "3               0                    39       186750406   \n",
      "4               0                    38         2006714   \n",
      "...           ...                   ...             ...   \n",
      "112629          0                    45       217955265   \n",
      "112630          0                    40       103663227   \n",
      "112631          0                    34       193878387   \n",
      "112632          0                    47       125039043   \n",
      "112633          0                    47       194673692   \n",
      "\n",
      "                   Vehicle Location  \\\n",
      "0         POINT (-81.80023 24.5545)   \n",
      "1       POINT (-114.57245 35.16815)   \n",
      "2       POINT (-120.50721 46.60448)   \n",
      "3        POINT (-121.7515 48.53892)   \n",
      "4       POINT (-122.20596 47.97659)   \n",
      "...                             ...   \n",
      "112629  POINT (-121.98609 47.74068)   \n",
      "112630  POINT (-123.01648 48.53448)   \n",
      "112631   POINT (-122.4573 47.44929)   \n",
      "112632  POINT (-122.09124 47.33778)   \n",
      "112633  POINT (-122.09124 47.33778)   \n",
      "\n",
      "                                         Electric Utility  2020 Census Tract  \\\n",
      "0                                                     NaN        12087972100   \n",
      "1                                                     NaN        32003005702   \n",
      "2                                              PACIFICORP        53077001602   \n",
      "3                                  PUGET SOUND ENERGY INC        53057951101   \n",
      "4                                  PUGET SOUND ENERGY INC        53061041500   \n",
      "...                                                   ...                ...   \n",
      "112629      PUGET SOUND ENERGY INC||CITY OF TACOMA - (WA)        53033032401   \n",
      "112630  BONNEVILLE POWER ADMINISTRATION||ORCAS POWER &...        53055960301   \n",
      "112631      PUGET SOUND ENERGY INC||CITY OF TACOMA - (WA)        53033027702   \n",
      "112632      PUGET SOUND ENERGY INC||CITY OF TACOMA - (WA)        53033032007   \n",
      "112633      PUGET SOUND ENERGY INC||CITY OF TACOMA - (WA)        53033032005   \n",
      "\n",
      "       model_year  \n",
      "0      2022-01-01  \n",
      "1      2013-01-01  \n",
      "2      2011-01-01  \n",
      "3      2017-01-01  \n",
      "4      2019-01-01  \n",
      "...           ...  \n",
      "112629 2022-01-01  \n",
      "112630 2019-01-01  \n",
      "112631 2022-01-01  \n",
      "112632 2018-01-01  \n",
      "112633 2022-01-01  \n",
      "\n",
      "[112634 rows x 18 columns]\n"
     ]
    }
   ],
   "source": [
    "# Replace 'modelx' with NaN in the 'model_year' column\n",
    "df['Model'] = df['Model'].replace('Model', np.nan)\n",
    "print(df)"
   ]
  },
  {
   "cell_type": "code",
   "execution_count": 18,
   "id": "4e8f2337-8439-4a72-8105-73f24bbc9c1e",
   "metadata": {},
   "outputs": [
    {
     "name": "stdout",
     "output_type": "stream",
     "text": [
      "        VIN (1-10)     County           City State  Postal Code Model Year  \\\n",
      "0       JTMEB3FV6N     Monroe       Key West    FL        33040       2022   \n",
      "1       1G1RD6E45D      Clark       Laughlin    NV        89029       2013   \n",
      "2       JN1AZ0CP8B     Yakima         Yakima    WA        98901       2011   \n",
      "3       1G1FW6S08H     Skagit       Concrete    WA        98237       2017   \n",
      "4       3FA6P0SU1K  Snohomish        Everett    WA        98201       2019   \n",
      "...            ...        ...            ...   ...          ...        ...   \n",
      "112629  7SAYGDEF2N       King         Duvall    WA        98019       2022   \n",
      "112630  1N4BZ1CP7K   San Juan  Friday Harbor    WA        98250       2019   \n",
      "112631  1FMCU0KZ4N       King         Vashon    WA        98070       2022   \n",
      "112632  KNDCD3LD4J       King      Covington    WA        98042       2018   \n",
      "112633  YV4BR0CL8N       King      Covington    WA        98042       2022   \n",
      "\n",
      "             Make       Model                   Electric Vehicle Type  \\\n",
      "0          TOYOTA  RAV4 PRIME  Plug-in Hybrid Electric Vehicle (PHEV)   \n",
      "1       CHEVROLET        VOLT  Plug-in Hybrid Electric Vehicle (PHEV)   \n",
      "2          NISSAN        LEAF          Battery Electric Vehicle (BEV)   \n",
      "3       CHEVROLET     BOLT EV          Battery Electric Vehicle (BEV)   \n",
      "4            FORD      FUSION  Plug-in Hybrid Electric Vehicle (PHEV)   \n",
      "...           ...         ...                                     ...   \n",
      "112629      TESLA     MODEL Y          Battery Electric Vehicle (BEV)   \n",
      "112630     NISSAN        LEAF          Battery Electric Vehicle (BEV)   \n",
      "112631       FORD      ESCAPE  Plug-in Hybrid Electric Vehicle (PHEV)   \n",
      "112632        KIA        NIRO  Plug-in Hybrid Electric Vehicle (PHEV)   \n",
      "112633      VOLVO        XC90  Plug-in Hybrid Electric Vehicle (PHEV)   \n",
      "\n",
      "        Clean Alternative Fuel Vehicle (CAFV) Eligibility  Electric Range  \\\n",
      "0                 Clean Alternative Fuel Vehicle Eligible              42   \n",
      "1                 Clean Alternative Fuel Vehicle Eligible              38   \n",
      "2                 Clean Alternative Fuel Vehicle Eligible              73   \n",
      "3                 Clean Alternative Fuel Vehicle Eligible             238   \n",
      "4                   Not eligible due to low battery range              26   \n",
      "...                                                   ...             ...   \n",
      "112629  Eligibility unknown as battery range has not b...               0   \n",
      "112630            Clean Alternative Fuel Vehicle Eligible             150   \n",
      "112631            Clean Alternative Fuel Vehicle Eligible              38   \n",
      "112632              Not eligible due to low battery range              26   \n",
      "112633              Not eligible due to low battery range              18   \n",
      "\n",
      "        Base MSRP  Legislative District  DOL Vehicle ID  \\\n",
      "0               0                     0       198968248   \n",
      "1               0                     0         5204412   \n",
      "2               0                    15       218972519   \n",
      "3               0                    39       186750406   \n",
      "4               0                    38         2006714   \n",
      "...           ...                   ...             ...   \n",
      "112629          0                    45       217955265   \n",
      "112630          0                    40       103663227   \n",
      "112631          0                    34       193878387   \n",
      "112632          0                    47       125039043   \n",
      "112633          0                    47       194673692   \n",
      "\n",
      "                   Vehicle Location  \\\n",
      "0         POINT (-81.80023 24.5545)   \n",
      "1       POINT (-114.57245 35.16815)   \n",
      "2       POINT (-120.50721 46.60448)   \n",
      "3        POINT (-121.7515 48.53892)   \n",
      "4       POINT (-122.20596 47.97659)   \n",
      "...                             ...   \n",
      "112629  POINT (-121.98609 47.74068)   \n",
      "112630  POINT (-123.01648 48.53448)   \n",
      "112631   POINT (-122.4573 47.44929)   \n",
      "112632  POINT (-122.09124 47.33778)   \n",
      "112633  POINT (-122.09124 47.33778)   \n",
      "\n",
      "                                         Electric Utility  2020 Census Tract  \\\n",
      "0                                                     NaN        12087972100   \n",
      "1                                                     NaN        32003005702   \n",
      "2                                              PACIFICORP        53077001602   \n",
      "3                                  PUGET SOUND ENERGY INC        53057951101   \n",
      "4                                  PUGET SOUND ENERGY INC        53061041500   \n",
      "...                                                   ...                ...   \n",
      "112629      PUGET SOUND ENERGY INC||CITY OF TACOMA - (WA)        53033032401   \n",
      "112630  BONNEVILLE POWER ADMINISTRATION||ORCAS POWER &...        53055960301   \n",
      "112631      PUGET SOUND ENERGY INC||CITY OF TACOMA - (WA)        53033027702   \n",
      "112632      PUGET SOUND ENERGY INC||CITY OF TACOMA - (WA)        53033032007   \n",
      "112633      PUGET SOUND ENERGY INC||CITY OF TACOMA - (WA)        53033032005   \n",
      "\n",
      "       model_year  \n",
      "0      2022-01-01  \n",
      "1      2013-01-01  \n",
      "2      2011-01-01  \n",
      "3      2017-01-01  \n",
      "4      2019-01-01  \n",
      "...           ...  \n",
      "112629 2022-01-01  \n",
      "112630 2019-01-01  \n",
      "112631 2022-01-01  \n",
      "112632 2018-01-01  \n",
      "112633 2022-01-01  \n",
      "\n",
      "[112614 rows x 18 columns]\n"
     ]
    }
   ],
   "source": [
    "# Drop rows where 'model_year' column has NaN values\n",
    "df = df.dropna(subset=['Model'])\n",
    "print(df)"
   ]
  },
  {
   "cell_type": "code",
   "execution_count": 19,
   "id": "eaf40fef-8148-4725-890d-deea3f3d716f",
   "metadata": {},
   "outputs": [
    {
     "name": "stdout",
     "output_type": "stream",
     "text": [
      "[nan 'PACIFICORP' 'PUGET SOUND ENERGY INC' 'PUD NO 2 OF GRANT COUNTY'\n",
      " 'PUGET SOUND ENERGY INC||CITY OF TACOMA - (WA)'\n",
      " 'CITY OF SEATTLE - (WA)|CITY OF TACOMA - (WA)' 'AVISTA CORP'\n",
      " 'MODERN ELECTRIC WATER COMPANY'\n",
      " 'BONNEVILLE POWER ADMINISTRATION||PUD NO 1 OF COWLITZ COUNTY'\n",
      " 'BONNEVILLE POWER ADMINISTRATION||CITY OF TACOMA - (WA)||PENINSULA LIGHT COMPANY'\n",
      " 'BONNEVILLE POWER ADMINISTRATION||CITY OF ELLENSBURG - (WA)'\n",
      " 'BONNEVILLE POWER ADMINISTRATION||PUD NO 1 OF GRAYS HARBOR COUNTY'\n",
      " 'BONNEVILLE POWER ADMINISTRATION||PUD NO 1 OF CLARK COUNTY - (WA)'\n",
      " 'BONNEVILLE POWER ADMINISTRATION||AVISTA CORP||INLAND POWER & LIGHT COMPANY'\n",
      " 'BONNEVILLE POWER ADMINISTRATION||PUD 1 OF SNOHOMISH COUNTY'\n",
      " 'PUD NO 1 OF CHELAN COUNTY'\n",
      " 'BONNEVILLE POWER ADMINISTRATION||VERA IRRIGATION DISTRICT #15'\n",
      " 'BONNEVILLE POWER ADMINISTRATION||CITY OF TACOMA - (WA)||ELMHURST MUTUAL POWER & LIGHT CO|PENINSULA LIGHT COMPANY'\n",
      " 'PUGET SOUND ENERGY INC||PUD NO 1 OF WHATCOM COUNTY'\n",
      " 'BONNEVILLE POWER ADMINISTRATION||CITY OF RICHLAND - (WA)'\n",
      " 'BONNEVILLE POWER ADMINISTRATION||PUD NO 1 OF BENTON COUNTY'\n",
      " 'BONNEVILLE POWER ADMINISTRATION||CITY OF TACOMA - (WA)||PUD NO 3 OF MASON COUNTY'\n",
      " 'BONNEVILLE POWER ADMINISTRATION||ORCAS POWER & LIGHT COOP'\n",
      " 'BONNEVILLE POWER ADMINISTRATION||CITY OF TACOMA - (WA)||PUD NO 1 OF LEWIS COUNTY'\n",
      " 'BONNEVILLE POWER ADMINISTRATION||PUGET SOUND ENERGY INC||PUD NO 1 OF JEFFERSON COUNTY'\n",
      " 'BONNEVILLE POWER ADMINISTRATION||PUD NO 1 OF CLALLAM COUNTY'\n",
      " 'PUD NO 1 OF DOUGLAS COUNTY'\n",
      " 'BONNEVILLE POWER ADMINISTRATION||PUD NO 1 OF KLICKITAT COUNTY'\n",
      " 'BONNEVILLE POWER ADMINISTRATION||TOWN OF STEILACOOM|CITY OF TACOMA - (WA)||PENINSULA LIGHT COMPANY'\n",
      " 'BONNEVILLE POWER ADMINISTRATION||INLAND POWER & LIGHT COMPANY'\n",
      " 'BONNEVILLE POWER ADMINISTRATION||PUD NO 1 OF SKAMANIA CO'\n",
      " 'BONNEVILLE POWER ADMINISTRATION||CITY OF TACOMA - (WA)||LAKEVIEW LIGHT & POWER|PENINSULA LIGHT COMPANY'\n",
      " 'BONNEVILLE POWER ADMINISTRATION||AVISTA CORP||BIG BEND ELECTRIC COOP, INC'\n",
      " 'BONNEVILLE POWER ADMINISTRATION||CITY OF TACOMA - (WA)||PUD NO 1 OF MASON COUNTY'\n",
      " 'BONNEVILLE POWER ADMINISTRATION||PUD NO 1 OF FRANKLIN COUNTY'\n",
      " 'PUD NO 1 OF OKANOGAN COUNTY'\n",
      " 'BONNEVILLE POWER ADMINISTRATION||CITY OF MCCLEARY - (WA)'\n",
      " 'BONNEVILLE POWER ADMINISTRATION||PACIFICORP||BENTON RURAL ELECTRIC ASSN'\n",
      " 'BONNEVILLE POWER ADMINISTRATION||CITY OF PORT ANGELES - (WA)'\n",
      " 'OKANOGAN COUNTY ELEC COOP, INC'\n",
      " 'BONNEVILLE POWER ADMINISTRATION||CITY OF TACOMA - (WA)||OHOP MUTUAL LIGHT COMPANY, INC|PENINSULA LIGHT COMPANY'\n",
      " 'BONNEVILLE POWER ADMINISTRATION||AVISTA CORP||PUD NO 1 OF ASOTIN COUNTY'\n",
      " 'BONNEVILLE POWER ADMINISTRATION||PUD NO 1 OF FERRY COUNTY'\n",
      " 'BONNEVILLE POWER ADMINISTRATION||CITY OF MILTON - (WA)|CITY OF TACOMA - (WA)'\n",
      " 'BONNEVILLE POWER ADMINISTRATION||CITY OF TACOMA - (WA)||PARKLAND LIGHT & WATER COMPANY|PENINSULA LIGHT COMPANY'\n",
      " 'BONNEVILLE POWER ADMINISTRATION||PUD NO 2 OF PACIFIC COUNTY'\n",
      " 'CITY OF TACOMA - (WA)||TANNER ELECTRIC COOP'\n",
      " 'CITY OF BLAINE - (WA)||PUD NO 1 OF WHATCOM COUNTY'\n",
      " 'BONNEVILLE POWER ADMINISTRATION||PACIFICORP||PUD NO 1 OF CLARK COUNTY - (WA)'\n",
      " 'BONNEVILLE POWER ADMINISTRATION||COLUMBIA RURAL ELEC ASSN, INC'\n",
      " 'BONNEVILLE POWER ADMINISTRATION||PACIFICORP||COLUMBIA RURAL ELEC ASSN, INC'\n",
      " 'BONNEVILLE POWER ADMINISTRATION||CITY OF CENTRALIA - (WA)|CITY OF TACOMA - (WA)'\n",
      " 'PUD NO 1 OF WHATCOM COUNTY'\n",
      " 'BONNEVILLE POWER ADMINISTRATION||PUD NO 1 OF WAHKIAKUM COUNTY'\n",
      " 'CITY OF CHENEY - (WA)' 'CITY OF CHEWELAH'\n",
      " 'BONNEVILLE POWER ADMINISTRATION||BENTON RURAL ELECTRIC ASSN'\n",
      " 'PUD NO 1 OF PEND OREILLE COUNTY'\n",
      " 'BONNEVILLE POWER ADMINISTRATION||BIG BEND ELECTRIC COOP, INC'\n",
      " 'BONNEVILLE POWER ADMINISTRATION||PUD NO 1 OF MASON COUNTY|PUD NO 1 OF JEFFERSON COUNTY'\n",
      " 'BONNEVILLE POWER ADMINISTRATION||PUD NO 1 OF KITTITAS COUNTY'\n",
      " 'BONNEVILLE POWER ADMINISTRATION||TOWN OF EATONVILLE - (WA)|CITY OF TACOMA - (WA)'\n",
      " 'BONNEVILLE POWER ADMINISTRATION||TOWN OF RUSTON - (WA)|CITY OF TACOMA - (WA)||PENINSULA LIGHT COMPANY'\n",
      " 'BONNEVILLE POWER ADMINISTRATION||CITY OF TACOMA - (WA)||BENTON RURAL ELECTRIC ASSN|PENINSULA LIGHT COMPANY'\n",
      " 'CITY OF SEATTLE - (WA)'\n",
      " 'CITY OF SUMAS - (WA)||PUD NO 1 OF WHATCOM COUNTY'\n",
      " 'BONNEVILLE POWER ADMINISTRATION||CITY OF COULEE DAM - (WA)'\n",
      " 'BONNEVILLE POWER ADMINISTRATION||PENINSULA LIGHT COMPANY'\n",
      " 'CITY OF TACOMA - (WA)'\n",
      " 'BONNEVILLE POWER ADMINISTRATION||PUD NO 1 OF ASOTIN COUNTY'\n",
      " 'PORTLAND GENERAL ELECTRIC CO'\n",
      " 'BONNEVILLE POWER ADMINISTRATION||PUD NO 1 OF ASOTIN COUNTY||INLAND POWER & LIGHT COMPANY'\n",
      " 'BONNEVILLE POWER ADMINISTRATION||NESPELEM VALLEY ELEC COOP, INC'\n",
      " 'BONNEVILLE POWER ADMINISTRATION||PUD NO 1 OF CLALLAM COUNTY|PUD NO 1 OF JEFFERSON COUNTY']\n"
     ]
    }
   ],
   "source": [
    "# Get unique values in the 'electric utility' column\n",
    "unique_values = df['Electric Utility'].unique()\n",
    "print(unique_values)"
   ]
  },
  {
   "cell_type": "code",
   "execution_count": 20,
   "id": "f931483e-65dc-4623-8b83-4ed464c4c477",
   "metadata": {},
   "outputs": [
    {
     "name": "stdout",
     "output_type": "stream",
     "text": [
      "        VIN (1-10)     County           City State  Postal Code Model Year  \\\n",
      "0       JTMEB3FV6N     Monroe       Key West    FL        33040       2022   \n",
      "1       1G1RD6E45D      Clark       Laughlin    NV        89029       2013   \n",
      "2       JN1AZ0CP8B     Yakima         Yakima    WA        98901       2011   \n",
      "3       1G1FW6S08H     Skagit       Concrete    WA        98237       2017   \n",
      "4       3FA6P0SU1K  Snohomish        Everett    WA        98201       2019   \n",
      "...            ...        ...            ...   ...          ...        ...   \n",
      "112629  7SAYGDEF2N       King         Duvall    WA        98019       2022   \n",
      "112630  1N4BZ1CP7K   San Juan  Friday Harbor    WA        98250       2019   \n",
      "112631  1FMCU0KZ4N       King         Vashon    WA        98070       2022   \n",
      "112632  KNDCD3LD4J       King      Covington    WA        98042       2018   \n",
      "112633  YV4BR0CL8N       King      Covington    WA        98042       2022   \n",
      "\n",
      "             Make       Model                   Electric Vehicle Type  \\\n",
      "0          TOYOTA  RAV4 PRIME  Plug-in Hybrid Electric Vehicle (PHEV)   \n",
      "1       CHEVROLET        VOLT  Plug-in Hybrid Electric Vehicle (PHEV)   \n",
      "2          NISSAN        LEAF          Battery Electric Vehicle (BEV)   \n",
      "3       CHEVROLET     BOLT EV          Battery Electric Vehicle (BEV)   \n",
      "4            FORD      FUSION  Plug-in Hybrid Electric Vehicle (PHEV)   \n",
      "...           ...         ...                                     ...   \n",
      "112629      TESLA     MODEL Y          Battery Electric Vehicle (BEV)   \n",
      "112630     NISSAN        LEAF          Battery Electric Vehicle (BEV)   \n",
      "112631       FORD      ESCAPE  Plug-in Hybrid Electric Vehicle (PHEV)   \n",
      "112632        KIA        NIRO  Plug-in Hybrid Electric Vehicle (PHEV)   \n",
      "112633      VOLVO        XC90  Plug-in Hybrid Electric Vehicle (PHEV)   \n",
      "\n",
      "        Clean Alternative Fuel Vehicle (CAFV) Eligibility  Electric Range  \\\n",
      "0                 Clean Alternative Fuel Vehicle Eligible              42   \n",
      "1                 Clean Alternative Fuel Vehicle Eligible              38   \n",
      "2                 Clean Alternative Fuel Vehicle Eligible              73   \n",
      "3                 Clean Alternative Fuel Vehicle Eligible             238   \n",
      "4                   Not eligible due to low battery range              26   \n",
      "...                                                   ...             ...   \n",
      "112629  Eligibility unknown as battery range has not b...               0   \n",
      "112630            Clean Alternative Fuel Vehicle Eligible             150   \n",
      "112631            Clean Alternative Fuel Vehicle Eligible              38   \n",
      "112632              Not eligible due to low battery range              26   \n",
      "112633              Not eligible due to low battery range              18   \n",
      "\n",
      "        Base MSRP  Legislative District  DOL Vehicle ID  \\\n",
      "0               0                     0       198968248   \n",
      "1               0                     0         5204412   \n",
      "2               0                    15       218972519   \n",
      "3               0                    39       186750406   \n",
      "4               0                    38         2006714   \n",
      "...           ...                   ...             ...   \n",
      "112629          0                    45       217955265   \n",
      "112630          0                    40       103663227   \n",
      "112631          0                    34       193878387   \n",
      "112632          0                    47       125039043   \n",
      "112633          0                    47       194673692   \n",
      "\n",
      "                   Vehicle Location  \\\n",
      "0         POINT (-81.80023 24.5545)   \n",
      "1       POINT (-114.57245 35.16815)   \n",
      "2       POINT (-120.50721 46.60448)   \n",
      "3        POINT (-121.7515 48.53892)   \n",
      "4       POINT (-122.20596 47.97659)   \n",
      "...                             ...   \n",
      "112629  POINT (-121.98609 47.74068)   \n",
      "112630  POINT (-123.01648 48.53448)   \n",
      "112631   POINT (-122.4573 47.44929)   \n",
      "112632  POINT (-122.09124 47.33778)   \n",
      "112633  POINT (-122.09124 47.33778)   \n",
      "\n",
      "                                         Electric Utility  2020 Census Tract  \\\n",
      "0                                                     NaN        12087972100   \n",
      "1                                                     NaN        32003005702   \n",
      "2                                              PACIFICORP        53077001602   \n",
      "3                                  PUGET SOUND ENERGY INC        53057951101   \n",
      "4                                  PUGET SOUND ENERGY INC        53061041500   \n",
      "...                                                   ...                ...   \n",
      "112629      PUGET SOUND ENERGY INC||CITY OF TACOMA - (WA)        53033032401   \n",
      "112630  BONNEVILLE POWER ADMINISTRATION||ORCAS POWER &...        53055960301   \n",
      "112631      PUGET SOUND ENERGY INC||CITY OF TACOMA - (WA)        53033027702   \n",
      "112632      PUGET SOUND ENERGY INC||CITY OF TACOMA - (WA)        53033032007   \n",
      "112633      PUGET SOUND ENERGY INC||CITY OF TACOMA - (WA)        53033032005   \n",
      "\n",
      "       model_year  \n",
      "0      2022-01-01  \n",
      "1      2013-01-01  \n",
      "2      2011-01-01  \n",
      "3      2017-01-01  \n",
      "4      2019-01-01  \n",
      "...           ...  \n",
      "112629 2022-01-01  \n",
      "112630 2019-01-01  \n",
      "112631 2022-01-01  \n",
      "112632 2018-01-01  \n",
      "112633 2022-01-01  \n",
      "\n",
      "[112614 rows x 18 columns]\n"
     ]
    }
   ],
   "source": [
    "# Fill missing values in the 'Electric Utility' column with NaN\n",
    "df['Electric Utility'] = df['Electric Utility'].fillna(np.nan)\n",
    "print(df)"
   ]
  },
  {
   "cell_type": "code",
   "execution_count": 26,
   "id": "bcf41e11-4894-42dd-92dd-8ab25c1f5a26",
   "metadata": {},
   "outputs": [
    {
     "name": "stdout",
     "output_type": "stream",
     "text": [
      "           County           City State Model Year       Make       Model  \\\n",
      "0          Monroe       Key West    FL       2022     TOYOTA  RAV4 PRIME   \n",
      "1           Clark       Laughlin    NV       2013  CHEVROLET        VOLT   \n",
      "2          Yakima         Yakima    WA       2011     NISSAN        LEAF   \n",
      "3          Skagit       Concrete    WA       2017  CHEVROLET     BOLT EV   \n",
      "4       Snohomish        Everett    WA       2019       FORD      FUSION   \n",
      "...           ...            ...   ...        ...        ...         ...   \n",
      "112629       King         Duvall    WA       2022      TESLA     MODEL Y   \n",
      "112630   San Juan  Friday Harbor    WA       2019     NISSAN        LEAF   \n",
      "112631       King         Vashon    WA       2022       FORD      ESCAPE   \n",
      "112632       King      Covington    WA       2018        KIA        NIRO   \n",
      "112633       King      Covington    WA       2022      VOLVO        XC90   \n",
      "\n",
      "                         Electric Vehicle Type  \\\n",
      "0       Plug-in Hybrid Electric Vehicle (PHEV)   \n",
      "1       Plug-in Hybrid Electric Vehicle (PHEV)   \n",
      "2               Battery Electric Vehicle (BEV)   \n",
      "3               Battery Electric Vehicle (BEV)   \n",
      "4       Plug-in Hybrid Electric Vehicle (PHEV)   \n",
      "...                                        ...   \n",
      "112629          Battery Electric Vehicle (BEV)   \n",
      "112630          Battery Electric Vehicle (BEV)   \n",
      "112631  Plug-in Hybrid Electric Vehicle (PHEV)   \n",
      "112632  Plug-in Hybrid Electric Vehicle (PHEV)   \n",
      "112633  Plug-in Hybrid Electric Vehicle (PHEV)   \n",
      "\n",
      "        Clean Alternative Fuel Vehicle (CAFV) Eligibility  Electric Range  \\\n",
      "0                 Clean Alternative Fuel Vehicle Eligible              42   \n",
      "1                 Clean Alternative Fuel Vehicle Eligible              38   \n",
      "2                 Clean Alternative Fuel Vehicle Eligible              73   \n",
      "3                 Clean Alternative Fuel Vehicle Eligible             238   \n",
      "4                   Not eligible due to low battery range              26   \n",
      "...                                                   ...             ...   \n",
      "112629  Eligibility unknown as battery range has not b...               0   \n",
      "112630            Clean Alternative Fuel Vehicle Eligible             150   \n",
      "112631            Clean Alternative Fuel Vehicle Eligible              38   \n",
      "112632              Not eligible due to low battery range              26   \n",
      "112633              Not eligible due to low battery range              18   \n",
      "\n",
      "        Base MSRP  Legislative District  DOL Vehicle ID  \\\n",
      "0               0                     0       198968248   \n",
      "1               0                     0         5204412   \n",
      "2               0                    15       218972519   \n",
      "3               0                    39       186750406   \n",
      "4               0                    38         2006714   \n",
      "...           ...                   ...             ...   \n",
      "112629          0                    45       217955265   \n",
      "112630          0                    40       103663227   \n",
      "112631          0                    34       193878387   \n",
      "112632          0                    47       125039043   \n",
      "112633          0                    47       194673692   \n",
      "\n",
      "                   Vehicle Location  \\\n",
      "0         POINT (-81.80023 24.5545)   \n",
      "1       POINT (-114.57245 35.16815)   \n",
      "2       POINT (-120.50721 46.60448)   \n",
      "3        POINT (-121.7515 48.53892)   \n",
      "4       POINT (-122.20596 47.97659)   \n",
      "...                             ...   \n",
      "112629  POINT (-121.98609 47.74068)   \n",
      "112630  POINT (-123.01648 48.53448)   \n",
      "112631   POINT (-122.4573 47.44929)   \n",
      "112632  POINT (-122.09124 47.33778)   \n",
      "112633  POINT (-122.09124 47.33778)   \n",
      "\n",
      "                                         Electric Utility  2020 Census Tract  \\\n",
      "0                                                     NaN        12087972100   \n",
      "1                                                     NaN        32003005702   \n",
      "2                                              PACIFICORP        53077001602   \n",
      "3                                  PUGET SOUND ENERGY INC        53057951101   \n",
      "4                                  PUGET SOUND ENERGY INC        53061041500   \n",
      "...                                                   ...                ...   \n",
      "112629      PUGET SOUND ENERGY INC||CITY OF TACOMA - (WA)        53033032401   \n",
      "112630  BONNEVILLE POWER ADMINISTRATION||ORCAS POWER &...        53055960301   \n",
      "112631      PUGET SOUND ENERGY INC||CITY OF TACOMA - (WA)        53033027702   \n",
      "112632      PUGET SOUND ENERGY INC||CITY OF TACOMA - (WA)        53033032007   \n",
      "112633      PUGET SOUND ENERGY INC||CITY OF TACOMA - (WA)        53033032005   \n",
      "\n",
      "       model_year  \n",
      "0      2022-01-01  \n",
      "1      2013-01-01  \n",
      "2      2011-01-01  \n",
      "3      2017-01-01  \n",
      "4      2019-01-01  \n",
      "...           ...  \n",
      "112629 2022-01-01  \n",
      "112630 2019-01-01  \n",
      "112631 2022-01-01  \n",
      "112632 2018-01-01  \n",
      "112633 2022-01-01  \n",
      "\n",
      "[112614 rows x 16 columns]\n"
     ]
    }
   ],
   "source": [
    "# Drop the 'VIN(1-10)' column\n",
    "df = df.drop(columns=['Postal Code'])\n",
    "print(df)"
   ]
  },
  {
   "cell_type": "code",
   "execution_count": 24,
   "id": "1e25c548-c234-4be7-a064-0e5bf75ce7d3",
   "metadata": {},
   "outputs": [
    {
     "name": "stdout",
     "output_type": "stream",
     "text": [
      "           County           City State  Postal Code Model Year       Make  \\\n",
      "0          Monroe       Key West    FL        33040       2022     TOYOTA   \n",
      "1           Clark       Laughlin    NV        89029       2013  CHEVROLET   \n",
      "2          Yakima         Yakima    WA        98901       2011     NISSAN   \n",
      "3          Skagit       Concrete    WA        98237       2017  CHEVROLET   \n",
      "4       Snohomish        Everett    WA        98201       2019       FORD   \n",
      "...           ...            ...   ...          ...        ...        ...   \n",
      "112629       King         Duvall    WA        98019       2022      TESLA   \n",
      "112630   San Juan  Friday Harbor    WA        98250       2019     NISSAN   \n",
      "112631       King         Vashon    WA        98070       2022       FORD   \n",
      "112632       King      Covington    WA        98042       2018        KIA   \n",
      "112633       King      Covington    WA        98042       2022      VOLVO   \n",
      "\n",
      "             Model                   Electric Vehicle Type  \\\n",
      "0       RAV4 PRIME  Plug-in Hybrid Electric Vehicle (PHEV)   \n",
      "1             VOLT  Plug-in Hybrid Electric Vehicle (PHEV)   \n",
      "2             LEAF          Battery Electric Vehicle (BEV)   \n",
      "3          BOLT EV          Battery Electric Vehicle (BEV)   \n",
      "4           FUSION  Plug-in Hybrid Electric Vehicle (PHEV)   \n",
      "...            ...                                     ...   \n",
      "112629     MODEL Y          Battery Electric Vehicle (BEV)   \n",
      "112630        LEAF          Battery Electric Vehicle (BEV)   \n",
      "112631      ESCAPE  Plug-in Hybrid Electric Vehicle (PHEV)   \n",
      "112632        NIRO  Plug-in Hybrid Electric Vehicle (PHEV)   \n",
      "112633        XC90  Plug-in Hybrid Electric Vehicle (PHEV)   \n",
      "\n",
      "        Clean Alternative Fuel Vehicle (CAFV) Eligibility  Electric Range  \\\n",
      "0                 Clean Alternative Fuel Vehicle Eligible              42   \n",
      "1                 Clean Alternative Fuel Vehicle Eligible              38   \n",
      "2                 Clean Alternative Fuel Vehicle Eligible              73   \n",
      "3                 Clean Alternative Fuel Vehicle Eligible             238   \n",
      "4                   Not eligible due to low battery range              26   \n",
      "...                                                   ...             ...   \n",
      "112629  Eligibility unknown as battery range has not b...               0   \n",
      "112630            Clean Alternative Fuel Vehicle Eligible             150   \n",
      "112631            Clean Alternative Fuel Vehicle Eligible              38   \n",
      "112632              Not eligible due to low battery range              26   \n",
      "112633              Not eligible due to low battery range              18   \n",
      "\n",
      "        Base MSRP  Legislative District  DOL Vehicle ID  \\\n",
      "0               0                     0       198968248   \n",
      "1               0                     0         5204412   \n",
      "2               0                    15       218972519   \n",
      "3               0                    39       186750406   \n",
      "4               0                    38         2006714   \n",
      "...           ...                   ...             ...   \n",
      "112629          0                    45       217955265   \n",
      "112630          0                    40       103663227   \n",
      "112631          0                    34       193878387   \n",
      "112632          0                    47       125039043   \n",
      "112633          0                    47       194673692   \n",
      "\n",
      "                   Vehicle Location  \\\n",
      "0         POINT (-81.80023 24.5545)   \n",
      "1       POINT (-114.57245 35.16815)   \n",
      "2       POINT (-120.50721 46.60448)   \n",
      "3        POINT (-121.7515 48.53892)   \n",
      "4       POINT (-122.20596 47.97659)   \n",
      "...                             ...   \n",
      "112629  POINT (-121.98609 47.74068)   \n",
      "112630  POINT (-123.01648 48.53448)   \n",
      "112631   POINT (-122.4573 47.44929)   \n",
      "112632  POINT (-122.09124 47.33778)   \n",
      "112633  POINT (-122.09124 47.33778)   \n",
      "\n",
      "                                         Electric Utility  2020 Census Tract  \\\n",
      "0                                                     NaN        12087972100   \n",
      "1                                                     NaN        32003005702   \n",
      "2                                              PACIFICORP        53077001602   \n",
      "3                                  PUGET SOUND ENERGY INC        53057951101   \n",
      "4                                  PUGET SOUND ENERGY INC        53061041500   \n",
      "...                                                   ...                ...   \n",
      "112629      PUGET SOUND ENERGY INC||CITY OF TACOMA - (WA)        53033032401   \n",
      "112630  BONNEVILLE POWER ADMINISTRATION||ORCAS POWER &...        53055960301   \n",
      "112631      PUGET SOUND ENERGY INC||CITY OF TACOMA - (WA)        53033027702   \n",
      "112632      PUGET SOUND ENERGY INC||CITY OF TACOMA - (WA)        53033032007   \n",
      "112633      PUGET SOUND ENERGY INC||CITY OF TACOMA - (WA)        53033032005   \n",
      "\n",
      "       model_year  \n",
      "0      2022-01-01  \n",
      "1      2013-01-01  \n",
      "2      2011-01-01  \n",
      "3      2017-01-01  \n",
      "4      2019-01-01  \n",
      "...           ...  \n",
      "112629 2022-01-01  \n",
      "112630 2019-01-01  \n",
      "112631 2022-01-01  \n",
      "112632 2018-01-01  \n",
      "112633 2022-01-01  \n",
      "\n",
      "[112614 rows x 17 columns]\n"
     ]
    }
   ],
   "source": [
    "# Drop the 'VIN(1-10)' column\n",
    "df = df.drop(columns=['VIN (1-10)'])\n",
    "print(df)"
   ]
  },
  {
   "cell_type": "code",
   "execution_count": 25,
   "id": "d5ae1aca-d8ba-4784-8236-38a061464840",
   "metadata": {},
   "outputs": [
    {
     "name": "stdout",
     "output_type": "stream",
     "text": [
      "<class 'pandas.core.frame.DataFrame'>\n",
      "Index: 112614 entries, 0 to 112633\n",
      "Data columns (total 17 columns):\n",
      " #   Column                                             Non-Null Count   Dtype         \n",
      "---  ------                                             --------------   -----         \n",
      " 0   County                                             112614 non-null  object        \n",
      " 1   City                                               112614 non-null  object        \n",
      " 2   State                                              112614 non-null  object        \n",
      " 3   Postal Code                                        112614 non-null  int64         \n",
      " 4   Model Year                                         112614 non-null  object        \n",
      " 5   Make                                               112614 non-null  object        \n",
      " 6   Model                                              112614 non-null  object        \n",
      " 7   Electric Vehicle Type                              112614 non-null  object        \n",
      " 8   Clean Alternative Fuel Vehicle (CAFV) Eligibility  112614 non-null  object        \n",
      " 9   Electric Range                                     112614 non-null  int64         \n",
      " 10  Base MSRP                                          112614 non-null  int64         \n",
      " 11  Legislative District                               112614 non-null  int32         \n",
      " 12  DOL Vehicle ID                                     112614 non-null  int64         \n",
      " 13  Vehicle Location                                   112590 non-null  object        \n",
      " 14  Electric Utility                                   112171 non-null  object        \n",
      " 15  2020 Census Tract                                  112614 non-null  int64         \n",
      " 16  model_year                                         112614 non-null  datetime64[ns]\n",
      "dtypes: datetime64[ns](1), int32(1), int64(5), object(10)\n",
      "memory usage: 15.0+ MB\n"
     ]
    }
   ],
   "source": [
    "df.info()"
   ]
  },
  {
   "cell_type": "code",
   "execution_count": 27,
   "id": "d4095e88-3aed-4f56-9364-1388a8e624d6",
   "metadata": {},
   "outputs": [
    {
     "name": "stdout",
     "output_type": "stream",
     "text": [
      "           County           City State Model Year       Make       Model  \\\n",
      "0          Monroe       Key West    FL       2022     TOYOTA  RAV4 PRIME   \n",
      "1           Clark       Laughlin    NV       2013  CHEVROLET        VOLT   \n",
      "2          Yakima         Yakima    WA       2011     NISSAN        LEAF   \n",
      "3          Skagit       Concrete    WA       2017  CHEVROLET     BOLT EV   \n",
      "4       Snohomish        Everett    WA       2019       FORD      FUSION   \n",
      "...           ...            ...   ...        ...        ...         ...   \n",
      "112629       King         Duvall    WA       2022      TESLA     MODEL Y   \n",
      "112630   San Juan  Friday Harbor    WA       2019     NISSAN        LEAF   \n",
      "112631       King         Vashon    WA       2022       FORD      ESCAPE   \n",
      "112632       King      Covington    WA       2018        KIA        NIRO   \n",
      "112633       King      Covington    WA       2022      VOLVO        XC90   \n",
      "\n",
      "                         Electric Vehicle Type  \\\n",
      "0       Plug-in Hybrid Electric Vehicle (PHEV)   \n",
      "1       Plug-in Hybrid Electric Vehicle (PHEV)   \n",
      "2               Battery Electric Vehicle (BEV)   \n",
      "3               Battery Electric Vehicle (BEV)   \n",
      "4       Plug-in Hybrid Electric Vehicle (PHEV)   \n",
      "...                                        ...   \n",
      "112629          Battery Electric Vehicle (BEV)   \n",
      "112630          Battery Electric Vehicle (BEV)   \n",
      "112631  Plug-in Hybrid Electric Vehicle (PHEV)   \n",
      "112632  Plug-in Hybrid Electric Vehicle (PHEV)   \n",
      "112633  Plug-in Hybrid Electric Vehicle (PHEV)   \n",
      "\n",
      "        Clean Alternative Fuel Vehicle (CAFV) Eligibility  Electric Range  \\\n",
      "0                 Clean Alternative Fuel Vehicle Eligible              42   \n",
      "1                 Clean Alternative Fuel Vehicle Eligible              38   \n",
      "2                 Clean Alternative Fuel Vehicle Eligible              73   \n",
      "3                 Clean Alternative Fuel Vehicle Eligible             238   \n",
      "4                   Not eligible due to low battery range              26   \n",
      "...                                                   ...             ...   \n",
      "112629  Eligibility unknown as battery range has not b...               0   \n",
      "112630            Clean Alternative Fuel Vehicle Eligible             150   \n",
      "112631            Clean Alternative Fuel Vehicle Eligible              38   \n",
      "112632              Not eligible due to low battery range              26   \n",
      "112633              Not eligible due to low battery range              18   \n",
      "\n",
      "        Base MSRP  Legislative District             Vehicle Location  \\\n",
      "0               0                     0    POINT (-81.80023 24.5545)   \n",
      "1               0                     0  POINT (-114.57245 35.16815)   \n",
      "2               0                    15  POINT (-120.50721 46.60448)   \n",
      "3               0                    39   POINT (-121.7515 48.53892)   \n",
      "4               0                    38  POINT (-122.20596 47.97659)   \n",
      "...           ...                   ...                          ...   \n",
      "112629          0                    45  POINT (-121.98609 47.74068)   \n",
      "112630          0                    40  POINT (-123.01648 48.53448)   \n",
      "112631          0                    34   POINT (-122.4573 47.44929)   \n",
      "112632          0                    47  POINT (-122.09124 47.33778)   \n",
      "112633          0                    47  POINT (-122.09124 47.33778)   \n",
      "\n",
      "                                         Electric Utility  2020 Census Tract  \\\n",
      "0                                                     NaN        12087972100   \n",
      "1                                                     NaN        32003005702   \n",
      "2                                              PACIFICORP        53077001602   \n",
      "3                                  PUGET SOUND ENERGY INC        53057951101   \n",
      "4                                  PUGET SOUND ENERGY INC        53061041500   \n",
      "...                                                   ...                ...   \n",
      "112629      PUGET SOUND ENERGY INC||CITY OF TACOMA - (WA)        53033032401   \n",
      "112630  BONNEVILLE POWER ADMINISTRATION||ORCAS POWER &...        53055960301   \n",
      "112631      PUGET SOUND ENERGY INC||CITY OF TACOMA - (WA)        53033027702   \n",
      "112632      PUGET SOUND ENERGY INC||CITY OF TACOMA - (WA)        53033032007   \n",
      "112633      PUGET SOUND ENERGY INC||CITY OF TACOMA - (WA)        53033032005   \n",
      "\n",
      "       model_year  \n",
      "0      2022-01-01  \n",
      "1      2013-01-01  \n",
      "2      2011-01-01  \n",
      "3      2017-01-01  \n",
      "4      2019-01-01  \n",
      "...           ...  \n",
      "112629 2022-01-01  \n",
      "112630 2019-01-01  \n",
      "112631 2022-01-01  \n",
      "112632 2018-01-01  \n",
      "112633 2022-01-01  \n",
      "\n",
      "[112614 rows x 15 columns]\n"
     ]
    }
   ],
   "source": [
    "# Drop the 'VIN(1-10)' column\n",
    "df = df.drop(columns=['DOL Vehicle ID'])\n",
    "print(df)"
   ]
  },
  {
   "cell_type": "markdown",
   "id": "dae0a5cf-f101-4dcf-81fc-de68b52c9864",
   "metadata": {},
   "source": [
    "#univariate analysis"
   ]
  },
  {
   "cell_type": "code",
   "execution_count": 28,
   "id": "9937babd-7538-471b-8299-f44de20abcf4",
   "metadata": {},
   "outputs": [
    {
     "name": "stdout",
     "output_type": "stream",
     "text": [
      "Summary Statistics:\n",
      "        Electric Range      Base MSRP  Legislative District  2020 Census Tract  \\\n",
      "count   112614.000000  112614.000000         112614.000000       1.126140e+05   \n",
      "mean        87.828583    1793.758192             29.729732       5.296648e+10   \n",
      "min          0.000000       0.000000              0.000000       1.101001e+09   \n",
      "25%          0.000000       0.000000             18.000000       5.303301e+10   \n",
      "50%         32.000000       0.000000             34.000000       5.303303e+10   \n",
      "75%        208.000000       0.000000             43.000000       5.305307e+10   \n",
      "max        337.000000  845000.000000             49.000000       5.603300e+10   \n",
      "std        102.336611   10784.684549             14.758040       1.699255e+09   \n",
      "\n",
      "                          model_year  \n",
      "count                         112614  \n",
      "mean   2019-01-02 04:02:11.195055360  \n",
      "min              1997-01-01 00:00:00  \n",
      "25%              2017-01-01 00:00:00  \n",
      "50%              2020-01-01 00:00:00  \n",
      "75%              2022-01-01 00:00:00  \n",
      "max              2023-01-01 00:00:00  \n",
      "std                              NaN  \n",
      "\n",
      "Missing Values:\n",
      " Electric Range          0\n",
      "Base MSRP               0\n",
      "Legislative District    0\n",
      "2020 Census Tract       0\n",
      "dtype: int64\n",
      "\n",
      "Skewness of Numerical Columns:\n",
      " Electric Range           0.816846\n",
      "Base MSRP               10.099587\n",
      "Legislative District    -0.540119\n",
      "2020 Census Tract      -25.011695\n",
      "dtype: float64\n",
      "\n",
      "Kurtosis of Numerical Columns:\n",
      " Electric Range           -0.876728\n",
      "Base MSRP               371.631639\n",
      "Legislative District     -0.986547\n",
      "2020 Census Tract       645.782853\n",
      "dtype: float64\n"
     ]
    }
   ],
   "source": [
    "# Summary statistics for numerical columns\n",
    "summary_stats = df.describe()\n",
    "\n",
    "# Count of missing values in numerical columns\n",
    "missing_values = df.select_dtypes(include=['number']).isnull().sum()\n",
    "\n",
    "# Skewness for each numerical column\n",
    "skewness = df.select_dtypes(include=['number']).skew()\n",
    "\n",
    "# Kurtosis for each numerical column\n",
    "kurtosis = df.select_dtypes(include=['number']).kurt()\n",
    "\n",
    "# Display the results\n",
    "print(\"Summary Statistics:\\n\", summary_stats)\n",
    "print(\"\\nMissing Values:\\n\", missing_values)\n",
    "print(\"\\nSkewness of Numerical Columns:\\n\", skewness)\n",
    "print(\"\\nKurtosis of Numerical Columns:\\n\", kurtosis)"
   ]
  },
  {
   "cell_type": "code",
   "execution_count": null,
   "id": "88a9da0b-7f8d-40f6-982d-d77c0d3ed87d",
   "metadata": {},
   "outputs": [],
   "source": [
    "import plotly.express as px\n",
    "\n",
    "# Create a box plot for all numerical columns with hover functionality\n",
    "fig = px.box(df.select_dtypes(include=['number']), \n",
    "             title='Interactive Box Plot of Numerical Columns')\n",
    "\n",
    "\n",
    "fig.show()"
   ]
  },
  {
   "cell_type": "code",
   "execution_count": null,
   "id": "76a77a65-0f23-40d9-899a-ff773d5d6c02",
   "metadata": {},
   "outputs": [],
   "source": [
    "import plotly.express as px\n",
    "\n",
    "# Create a histogram for all numerical columns\n",
    "for column in df.select_dtypes(include=['number']).columns:\n",
    "    fig = px.histogram(df, x=column, title=f'Histogram of {column}', \n",
    "                       labels={column: f'{column}'}, \n",
    "                       nbins=30)  \n",
    "    \n",
    "\n",
    "    fig.show()\n"
   ]
  },
  {
   "cell_type": "code",
   "execution_count": null,
   "id": "e8af9c12-5409-4c40-b58f-1087b465720b",
   "metadata": {},
   "outputs": [],
   "source": [
    "import plotly.express as px\n",
    "\n",
    "# Create individual box plots for each numerical column\n",
    "for column in df.select_dtypes(include=['number']).columns:\n",
    "    fig = px.box(df, y=column, title=f'Box Plot of {column}', \n",
    "                 labels={column: f'{column}'})\n",
    "    \n",
    "    \n",
    "    fig.show()"
   ]
  },
  {
   "cell_type": "code",
   "execution_count": 32,
   "id": "f3bd1df7-1e52-43a4-aa9e-6bd6cfbf7101",
   "metadata": {},
   "outputs": [
    {
     "name": "stdout",
     "output_type": "stream",
     "text": [
      "['Monroe' 'Clark' 'Yakima' 'Skagit' 'Snohomish' 'Island' 'Thurston'\n",
      " 'Grant' 'St. Clair' 'Pierce' 'Saratoga' 'Stevens' 'King' 'Kitsap'\n",
      " 'Newport News' 'Jackson' 'Whitman' 'Lake' 'Spokane' 'Clallam' 'Cowlitz'\n",
      " 'Kittitas' 'Grays Harbor' 'Chelan' 'Whatcom' 'Benton' 'Walla Walla'\n",
      " 'Mason' 'San Juan' 'Lewis' 'Jefferson' 'Douglas' 'Klickitat' 'Geary'\n",
      " 'Skamania' 'Fairfax' 'Adams' 'Franklin' 'Okanogan' 'Sonoma' 'Asotin'\n",
      " 'Ferry' 'Pacific' 'Riverside' 'Orange' 'Columbia' 'Wahkiakum'\n",
      " 'Leavenworth' 'Contra Costa' 'Howard' 'Larimer' 'District of Columbia'\n",
      " 'Washington' 'Tipton' 'San Diego' 'Sumter' \"Prince George's\" 'New Haven'\n",
      " 'Lincoln' 'Las Animas' 'Frederick' 'Hidalgo' 'Pend Oreille' 'Bexar'\n",
      " 'Garfield' 'Pennington' 'Honolulu' 'Anne Arundel' 'Montgomery' 'Houston'\n",
      " 'Charleston' 'Monterey' 'Kern' 'Napa' 'Loudoun' 'Harrison' 'Pulaski'\n",
      " 'Cumberland' 'Los Angeles' 'Ray' 'Salt Lake' 'Solano' 'Allegheny'\n",
      " 'Carroll' 'Clackamas' 'Kent' 'Harris' 'Ventura' 'Hamilton' 'Polk'\n",
      " 'Placer' 'Calvert' 'Sheridan' 'Kings' 'El Paso' 'Portsmouth' 'Elmore'\n",
      " 'Santa Clara' 'Pinal' 'Wayne' 'Alameda' 'Maricopa' 'Stafford'\n",
      " 'Santa Barbara' 'Fairbanks North Star' 'Plaquemines' 'Rock Island'\n",
      " 'Chaves' 'Palm Beach' 'Danville' 'Galveston' 'Virginia Beach' 'Suffolk'\n",
      " 'Louisa' 'Hillsborough' 'Denton' 'Bell' 'Norfolk' 'Okaloosa' 'Rockdale'\n",
      " 'Cook' 'Chesapeake' 'Alexandria' 'Charles' 'Boulder' 'Beaufort'\n",
      " 'St. Louis' \"St. Mary's\" 'Marin' 'Arapahoe' 'Laramie' 'Multnomah' 'Hoke'\n",
      " 'Sarasota' 'Santa Cruz' 'Queens' 'Wichita' 'San Bernardino' 'Oldham'\n",
      " 'Onslow' 'Arlington' 'Sarpy' 'Moore' 'Sevier' 'Bartow' 'Sacramento'\n",
      " 'Camden' 'Hennepin' 'Middlesex' 'New London' 'Platte' 'Penobscot'\n",
      " 'Nassau' 'Richmond' 'Newport' 'Rockingham' 'San Mateo' 'DeKalb' 'Kauai'\n",
      " 'Burlington' 'St. Tammany' 'Bryan' 'Dorchester' 'Williams' 'Kootenai']\n"
     ]
    }
   ],
   "source": [
    "# Get unique values in the 'country' column\n",
    "unique_countries = df['County'].unique()\n",
    "print(unique_countries)"
   ]
  },
  {
   "cell_type": "code",
   "execution_count": 33,
   "id": "8b64f197-2bfa-4e32-95f7-c00208cf9a0e",
   "metadata": {},
   "outputs": [
    {
     "name": "stdout",
     "output_type": "stream",
     "text": [
      "['2022' '2013' '2011' '2017' '2019' '2018' '2016' '2020' '2021' '2015'\n",
      " '2014' '2012' '2023' '2010' '2008' '2000' '1997' '1999' '1998' '2002']\n"
     ]
    }
   ],
   "source": [
    "# Get unique values in the 'country' column\n",
    "unique_countries = df['Model Year'].unique()\n",
    "print(unique_countries)"
   ]
  },
  {
   "cell_type": "code",
   "execution_count": null,
   "id": "1a409f96-ccc0-40a2-8b40-c75089207005",
   "metadata": {},
   "outputs": [],
   "source": [
    "import plotly.express as px\n",
    "\n",
    "# Count occurrences of each model year\n",
    "model_year_counts = df['Model Year'].value_counts().reset_index()\n",
    "\n",
    "# Rename columns for better clarity\n",
    "model_year_counts.columns = ['Model Year', 'count']\n",
    "\n",
    "# Create a bar plot for model year\n",
    "fig = px.bar(model_year_counts, x='Model Year', y='count', \n",
    "             title='Bar Plot of Model Year',\n",
    "             labels={'model_year': 'Model Year', 'count': 'Count'})\n",
    "fig.show()\n"
   ]
  },
  {
   "cell_type": "code",
   "execution_count": 35,
   "id": "aa1cd6cc-0568-42f7-a464-c2d60682f614",
   "metadata": {},
   "outputs": [
    {
     "name": "stdout",
     "output_type": "stream",
     "text": [
      "['RAV4 PRIME' 'VOLT' 'LEAF' 'BOLT EV' 'FUSION' 'MODEL 3' 'SOUL' 'Q5 E'\n",
      " 'MODEL X' '500' 'X5' '530E' 'TAYCAN' 'X3' 'A3' 'SOUL EV' 'C-MAX'\n",
      " 'MODEL S' 'F-150' 'CT6' 'I3' 'CLARITY' 'MODEL Y' 'NIRO' 'OUTLANDER'\n",
      " 'PACIFICA' 'R1T' 'KONA ELECTRIC' 'XC40' 'ID.4' 'PRIUS PLUG-IN'\n",
      " 'MUSTANG MACH-E' 'EQB-CLASS' 'E-GOLF' 'PRIUS PRIME' 'C40' 'SORENTO'\n",
      " 'XC60' 'CAYENNE' 'WRANGLER' 'COUNTRYMAN' 'S60' 'EV6'\n",
      " 'FORTWO ELECTRIC DRIVE' 'GRAND CHEROKEE' '330E' 'CROSSTREK' 'IONIQ 5'\n",
      " 'IONIQ' 'E-TRON' 'ROADSTER' 'KONA' 'XC90' 'SPARK' 'PS2' 'A7' 'HARDTOP'\n",
      " 'ESCAPE' 'LUCID AIR' 'E-TRON SPORTBACK' 'Q5' 'RAV4' 'AVIATOR' 'E-TRON GT'\n",
      " 'EDV' 'IX' 'FORTWO' 'I-PACE' 'SANTA FE' 'B-CLASS' 'KARMA' 'I4' 'OPTIMA'\n",
      " 'GLC-CLASS' 'Q4' 'SONATA' 'EQ FORTWO' 'FOCUS' 'RANGE ROVER SPORT'\n",
      " 'TRANSIT' 'PANAMERA' 'I8' 'BOLT EUV' 'CORSAIR' 'ELR' 'GLE-CLASS' 'V60'\n",
      " 'EQS-CLASS SEDAN' 'R1S' 'I-MIEV' 'NX' '740E' 'SPORTAGE' 'C-CLASS'\n",
      " 'S-CLASS' 'CITY' 'S90' 'TUCSON' 'GV60' 'EQS-CLASS SUV' 'A8 E'\n",
      " 'RANGE ROVER' 'RS E-TRON GT' 'RANGER' 'BENTAYGA' '745E'\n",
      " 'TRANSIT CONNECT ELECTRIC' 'ACCORD' 'S-10 PICKUP' 'SOLTERRA' 'G80' '918'\n",
      " 'FLYING SPUR' '745LE']\n"
     ]
    }
   ],
   "source": [
    "unique_countries = df['Model'].unique()\n",
    "print(unique_countries)"
   ]
  },
  {
   "cell_type": "code",
   "execution_count": 36,
   "id": "1eddc15b-99b9-4422-a3ce-b8c96a1812d9",
   "metadata": {},
   "outputs": [
    {
     "name": "stdout",
     "output_type": "stream",
     "text": [
      "['Clean Alternative Fuel Vehicle Eligible'\n",
      " 'Not eligible due to low battery range'\n",
      " 'Eligibility unknown as battery range has not been researched']\n"
     ]
    }
   ],
   "source": [
    "unique_countries = df['Clean Alternative Fuel Vehicle (CAFV) Eligibility'].unique()\n",
    "print(unique_countries)"
   ]
  },
  {
   "cell_type": "markdown",
   "id": "1e245122-17f8-4d58-8ebb-3b69c71450e9",
   "metadata": {},
   "source": [
    "import plotly.express as px\n",
    "\n",
    "# Assume 'CAFV_Eligibility' is the column name representing eligibility status\n",
    "# Replace 'CAFV_Eligibility' with your actual column name\n",
    "\n",
    "# Count occurrences of each eligibility status\n",
    "cafv_counts = df['Clean Alternative Fuel Vehicle (CAFV) Eligibility'].value_counts()\n",
    "\n",
    "# Create a pie chart for CAFV eligibility\n",
    "fig = px.pie(cafv_counts, values=cafv_counts.values, names=cafv_counts.index,\n",
    "             title='Clean Alternative Fuel Vehicle (CAFV) Eligibility)',\n",
    "             labels={'index': 'Clean Alternative Fuel Vehicle (CAFV) Eligibility', 'values': 'Count'},\n",
    "             color_discrete_sequence=px.colors.qualitative.Set2)\n",
    "fig.show()\n"
   ]
  },
  {
   "cell_type": "markdown",
   "id": "2cfd5222-6598-4fc3-a105-6d18be579afa",
   "metadata": {},
   "source": [
    "import plotly.express as px\n",
    "\n",
    "# Replace 'Electric_Vehicle_Type' with the actual name of your Electric Vehicle Type column\n",
    "# Count occurrences of each vehicle type\n",
    "ev_type_counts = df['Electric Vehicle Type'].value_counts().reset_index()\n",
    "\n",
    "# Rename columns for better clarity\n",
    "ev_type_counts.columns = ['Electric Vehicle Type', 'Count']\n",
    "\n",
    "# Create a bar plot for Electric Vehicle Type\n",
    "fig = px.bar(ev_type_counts, x='Electric Vehicle Type', y='Count', \n",
    "             title='Bar Plot of Electric Vehicle Types',\n",
    "             labels={'Electric Vehicle Type': 'Electric Vehicle Type', 'Count': 'Count'},\n",
    "             text='Count')\n",
    "fig.update_traces(texttemplate='%{text:.2f}', textposition='outside')\n",
    "fig.show()"
   ]
  },
  {
   "cell_type": "code",
   "execution_count": 39,
   "id": "b0840461-dcb4-4a77-82bc-bd943428c863",
   "metadata": {},
   "outputs": [],
   "source": [
    "#bivarite analysis"
   ]
  },
  {
   "cell_type": "markdown",
   "id": "3f79574c-1ba5-4bfe-8eee-1717a67e4132",
   "metadata": {},
   "source": [
    "import plotly.express as px\n",
    "\n",
    "# Replace 'Model_Year' and 'Model' with your actual column names\n",
    "fig = px.scatter(df, x='Model Year', y='Model',\n",
    "                 title='Scatter Plot of Models Manufactured by Model Year',\n",
    "                 labels={'Model Year': 'Model Year', 'Model': 'Model'},\n",
    "                 hover_name='Model',\n",
    "                 template='plotly')\n",
    "fig.show()\n"
   ]
  },
  {
   "cell_type": "markdown",
   "id": "d65b21f9-72e4-478c-a4c4-659fe776321e",
   "metadata": {},
   "source": [
    "import plotly.express as px\n",
    "\n",
    "# Replace 'Electric_Range', 'Base_MSRP', and 'Model' with your actual column names\n",
    "fig = px.scatter(df, x='Electric Range', y='Base MSRP',\n",
    "                 color='Model',  # Color points based on the model\n",
    "                 hover_name='Model',  # Hover over each point to show the model name\n",
    "                 title='Electric Range vs Base MSRP by Model',\n",
    "                 labels={'Electric_Range': 'Electric Range (miles)', 'Base_MSRP': 'Base MSRP ($)'})\n",
    "fig.show()\n"
   ]
  },
  {
   "cell_type": "markdown",
   "id": "3b9b0ddb-cbdf-4994-80b8-e127bb76210f",
   "metadata": {},
   "source": [
    "import plotly.express as px\n",
    "\n",
    "# Replace 'Electric_Vehicle_Type', 'Electric_Range', and 'Model' with your actual column names\n",
    "fig = px.scatter(df, x='Electric Vehicle Type', y='Electric Range',\n",
    "                 color='Model',  # Color the points by the model\n",
    "                 hover_name='Model',  # Hover over each point to see the model name\n",
    "                 title='Electric Vehicle Type vs Electric Range by Model',\n",
    "                 labels={'Electric_Vehicle_Type': 'Electric Vehicle Type', 'Electric_Range': 'Electric Range (miles)'})\n",
    "fig.show()\n"
   ]
  },
  {
   "cell_type": "markdown",
   "id": "db681473-48d5-4c32-a8e2-d926fa6e425a",
   "metadata": {},
   "source": [
    "import plotly.express as px\n",
    "\n",
    "# Replace 'Electric_Vehicle_Type', 'Electric_Range', and 'Make' with your actual column names\n",
    "fig = px.scatter(df, x='Electric Vehicle Type', y='Electric Range',\n",
    "                 color='Make',  # Color points based on the make\n",
    "                 hover_name='Make',  # Hover to see the make name\n",
    "                 title='Electric Vehicle Type vs Electric Range by Make',\n",
    "                 labels={'Electric_Vehicle_Type': 'Electric Vehicle Type', 'Electric_Range': 'Electric Range (miles)'})\n",
    "fig.show()\n"
   ]
  },
  {
   "cell_type": "code",
   "execution_count": null,
   "id": "ffdb2bad-6fd1-4f14-9ea7-214e0170adb1",
   "metadata": {},
   "outputs": [],
   "source": [
    "import seaborn as sns\n",
    "import matplotlib.pyplot as plt\n",
    "\n",
    "# Replace 'Electric Vehicle Type', 'Electric Range', and 'Make' with your actual column names\n",
    "plt.figure(figsize=(10, 6))\n",
    "scatter_plot = sns.scatterplot(x='Electric Vehicle Type', y='Electric Range', hue='Make', data=df, s=100)\n",
    "\n",
    "plt.title('Electric Vehicle Type vs Electric Range by Make')\n",
    "plt.xlabel('Electric Vehicle Type')\n",
    "plt.ylabel('Electric Range (miles)')\n",
    "plt.grid(True)\n",
    "\n",
    "# Move the legend to the right side and split it into multiple columns for better scrolling-like effect\n",
    "plt.legend(bbox_to_anchor=(1.05, 1), loc='upper left', ncol=1, title='Make')\n",
    "\n",
    "plt.tight_layout()  \n",
    "plt.show()\n"
   ]
  },
  {
   "cell_type": "raw",
   "id": "2c5ae7de-ee2f-4898-b493-2f75a66f9fbb",
   "metadata": {},
   "source": [
    "TASK 2"
   ]
  },
  {
   "cell_type": "code",
   "execution_count": null,
   "id": "377a4942-e220-48c8-be45-a94a94ede4bf",
   "metadata": {},
   "outputs": [],
   "source": [
    "#Create a Choropleth using plotly.express to display the number of EV vehicles based on location"
   ]
  },
  {
   "cell_type": "code",
   "execution_count": 57,
   "id": "ad20c975-5a67-4033-860b-cb674f0f6754",
   "metadata": {},
   "outputs": [],
   "source": [
    "import plotly.express as px"
   ]
  },
  {
   "cell_type": "code",
   "execution_count": 59,
   "id": "050d2635-2b57-4ede-9695-e049757a0c38",
   "metadata": {},
   "outputs": [
    {
     "name": "stdout",
     "output_type": "stream",
     "text": [
      "['AK' 'AL' 'AR' 'AZ' 'CA' 'CO' 'CT' 'DC' 'DE' 'FL' 'GA' 'HI' 'ID' 'IL'\n",
      " 'KS' 'KY' 'LA' 'MA' 'MD' 'ME' 'MN' 'MO' 'MS' 'NC' 'ND' 'NE' 'NH' 'NJ'\n",
      " 'NM' 'NV' 'NY' 'OH' 'OK' 'OR' 'PA' 'RI' 'SC' 'SD' 'TN' 'TX' 'UT' 'VA'\n",
      " 'WA' 'WI' 'WY']\n"
     ]
    }
   ],
   "source": [
    "# Aggregating EV counts by State\n",
    "df = pd.read_csv(r\"C:\\Users\\Soberr\\Desktop\\Innomatics Research lab internship data\\EVP\\dataset.csv\")\n",
    "choropleth_data_state = df.groupby('State').agg({'VIN (1-10)': 'count'}).reset_index()\n",
    "choropleth_data_state.rename(columns={'VIN (1-10)': 'EV_Count'}, inplace=True)\n",
    "print(choropleth_data_state['State'].unique())"
   ]
  },
  {
   "cell_type": "code",
   "execution_count": null,
   "id": "e972afac-95da-433f-9cde-9f2f6cd8be3e",
   "metadata": {},
   "outputs": [],
   "source": [
    "fig = px.choropleth(\n",
    "    choropleth_data_state,\n",
    "    locations='State',\n",
    "    locationmode='USA-states',  \n",
    "    color='EV_Count',\n",
    "    scope='usa', \n",
    "    hover_name='State',\n",
    "    color_continuous_scale='Viridis',\n",
    "    title='Number of Electric Vehicles by State'\n",
    ")\n",
    "\n",
    "fig.update_layout(\n",
    "    geo=dict(showframe=False, showcoastlines=False),\n",
    "    coloraxis_colorbar=dict(title=\"EV Count\")\n",
    ")\n",
    "\n",
    "fig.show()"
   ]
  },
  {
   "cell_type": "code",
   "execution_count": null,
   "id": "8bafe75d-3c72-4b28-8195-740642e3ba73",
   "metadata": {},
   "outputs": [],
   "source": [
    "# Assuming you want to visualize EV counts over 'Model Year'\n",
    "import plotly.express as px\n",
    "\n",
    "# Aggregate data by State and Year\n",
    "choropleth_data_year = df.groupby(['State', 'Model Year']).agg({'VIN (1-10)': 'count'}).reset_index()\n",
    "choropleth_data_year.rename(columns={'VIN (1-10)': 'EV_Count'}, inplace=True)\n",
    "\n",
    "# Create the Choropleth map\n",
    "fig = px.choropleth(\n",
    "    choropleth_data_year,\n",
    "    locations='State',\n",
    "    locationmode='USA-states',\n",
    "    color='EV_Count',\n",
    "    animation_frame='Model Year',\n",
    "    color_continuous_scale='Plasma',  # Change the color scale for variation\n",
    "    title='Electric Vehicle Count by State Over the Years',\n",
    "    labels={'EV_Count': 'Number of EVs'},  # Customize the label for the color bar\n",
    "    hover_name='State'\n",
    ")\n",
    "\n",
    "# Update layout for better appearance\n",
    "fig.update_geos(\n",
    "    visible=False,  # Hide the frame and coastlines\n",
    "    resolution=50,  # Increase resolution for better visuals\n",
    ")\n",
    "fig.update_coloraxes(colorbar=dict(title='EV Count'))\n",
    "fig.show()\n"
   ]
  },
  {
   "cell_type": "markdown",
   "id": "5d3fef8b-dad9-49b0-8447-249c85286d63",
   "metadata": {},
   "source": [
    "#task 4"
   ]
  },
  {
   "cell_type": "code",
   "execution_count": 65,
   "id": "4f8c793c-e62f-4280-aba5-91553c245cd1",
   "metadata": {},
   "outputs": [],
   "source": [
    "import bar_chart_race as bcr"
   ]
  },
  {
   "cell_type": "code",
   "execution_count": 68,
   "id": "f6be1fd8-7b26-45ea-9b2f-29c37af3c7d1",
   "metadata": {},
   "outputs": [],
   "source": [
    "# Aggregate data by Model Year and Make\n",
    "racing_data = df.groupby(['Model Year', 'Make']).size().reset_index(name='Count')\n",
    "\n",
    "# Sort data for better animation\n",
    "racing_data = racing_data.sort_values(['Model Year', 'Count'], ascending=[True, False])\n",
    "\n",
    "# Optionally, filter for top N makes to avoid clutter\n",
    "top_makes = racing_data.groupby('Make')['Count'].sum().nlargest(10).index\n",
    "racing_data = racing_data[racing_data['Make'].isin(top_makes)]"
   ]
  },
  {
   "cell_type": "code",
   "execution_count": 69,
   "id": "40712666-0208-4b33-af5b-3832c2e0029e",
   "metadata": {},
   "outputs": [
    {
     "data": {
      "application/vnd.plotly.v1+json": {
       "config": {
        "plotlyServerURL": "https://plot.ly"
       },
       "data": [
        {
         "alignmentgroup": "True",
         "hovertemplate": "EV Make=%{y}<br>Model Year=1997<br>Number of EVs=%{x}<extra></extra>",
         "ids": [
          "CHEVROLET"
         ],
         "legendgroup": "CHEVROLET",
         "marker": {
          "color": "#636efa",
          "pattern": {
           "shape": ""
          }
         },
         "name": "CHEVROLET",
         "offsetgroup": "CHEVROLET",
         "orientation": "h",
         "showlegend": true,
         "textposition": "auto",
         "type": "bar",
         "visible": "legendonly",
         "x": [
          1
         ],
         "xaxis": "x",
         "y": [
          "CHEVROLET"
         ],
         "yaxis": "y"
        }
       ],
       "frames": [
        {
         "data": [
          {
           "alignmentgroup": "True",
           "hovertemplate": "EV Make=%{y}<br>Model Year=1997<br>Number of EVs=%{x}<extra></extra>",
           "ids": [
            "CHEVROLET"
           ],
           "legendgroup": "CHEVROLET",
           "marker": {
            "color": "#636efa",
            "pattern": {
             "shape": ""
            }
           },
           "name": "CHEVROLET",
           "offsetgroup": "CHEVROLET",
           "orientation": "h",
           "showlegend": true,
           "textposition": "auto",
           "type": "bar",
           "x": [
            1
           ],
           "xaxis": "x",
           "y": [
            "CHEVROLET"
           ],
           "yaxis": "y"
          }
         ],
         "name": "1997"
        },
        {
         "data": [
          {
           "alignmentgroup": "True",
           "hovertemplate": "EV Make=%{y}<br>Model Year=1998<br>Number of EVs=%{x}<extra></extra>",
           "ids": [
            "FORD"
           ],
           "legendgroup": "FORD",
           "marker": {
            "color": "#EF553B",
            "pattern": {
             "shape": ""
            }
           },
           "name": "FORD",
           "offsetgroup": "FORD",
           "orientation": "h",
           "showlegend": true,
           "textposition": "auto",
           "type": "bar",
           "x": [
            1
           ],
           "xaxis": "x",
           "y": [
            "FORD"
           ],
           "yaxis": "y"
          }
         ],
         "name": "1998"
        },
        {
         "data": [
          {
           "alignmentgroup": "True",
           "hovertemplate": "EV Make=%{y}<br>Model Year=1999<br>Number of EVs=%{x}<extra></extra>",
           "ids": [
            "FORD"
           ],
           "legendgroup": "FORD",
           "marker": {
            "color": "#EF553B",
            "pattern": {
             "shape": ""
            }
           },
           "name": "FORD",
           "offsetgroup": "FORD",
           "orientation": "h",
           "showlegend": true,
           "textposition": "auto",
           "type": "bar",
           "x": [
            3
           ],
           "xaxis": "x",
           "y": [
            "FORD"
           ],
           "yaxis": "y"
          }
         ],
         "name": "1999"
        },
        {
         "data": [
          {
           "alignmentgroup": "True",
           "hovertemplate": "EV Make=%{y}<br>Model Year=2000<br>Number of EVs=%{x}<extra></extra>",
           "ids": [
            "FORD"
           ],
           "legendgroup": "FORD",
           "marker": {
            "color": "#EF553B",
            "pattern": {
             "shape": ""
            }
           },
           "name": "FORD",
           "offsetgroup": "FORD",
           "orientation": "h",
           "showlegend": true,
           "textposition": "auto",
           "type": "bar",
           "x": [
            10
           ],
           "xaxis": "x",
           "y": [
            "FORD"
           ],
           "yaxis": "y"
          }
         ],
         "name": "2000"
        },
        {
         "data": [
          {
           "alignmentgroup": "True",
           "hovertemplate": "EV Make=%{y}<br>Model Year=2002<br>Number of EVs=%{x}<extra></extra>",
           "ids": [
            "TOYOTA"
           ],
           "legendgroup": "TOYOTA",
           "marker": {
            "color": "#00cc96",
            "pattern": {
             "shape": ""
            }
           },
           "name": "TOYOTA",
           "offsetgroup": "TOYOTA",
           "orientation": "h",
           "showlegend": true,
           "textposition": "auto",
           "type": "bar",
           "x": [
            2
           ],
           "xaxis": "x",
           "y": [
            "TOYOTA"
           ],
           "yaxis": "y"
          }
         ],
         "name": "2002"
        },
        {
         "data": [
          {
           "alignmentgroup": "True",
           "hovertemplate": "EV Make=%{y}<br>Model Year=2008<br>Number of EVs=%{x}<extra></extra>",
           "ids": [
            "TESLA"
           ],
           "legendgroup": "TESLA",
           "marker": {
            "color": "#ab63fa",
            "pattern": {
             "shape": ""
            }
           },
           "name": "TESLA",
           "offsetgroup": "TESLA",
           "orientation": "h",
           "showlegend": true,
           "textposition": "auto",
           "type": "bar",
           "x": [
            23
           ],
           "xaxis": "x",
           "y": [
            "TESLA"
           ],
           "yaxis": "y"
          }
         ],
         "name": "2008"
        },
        {
         "data": [
          {
           "alignmentgroup": "True",
           "hovertemplate": "EV Make=%{y}<br>Model Year=2010<br>Number of EVs=%{x}<extra></extra>",
           "ids": [
            "TESLA"
           ],
           "legendgroup": "TESLA",
           "marker": {
            "color": "#ab63fa",
            "pattern": {
             "shape": ""
            }
           },
           "name": "TESLA",
           "offsetgroup": "TESLA",
           "orientation": "h",
           "showlegend": true,
           "textposition": "auto",
           "type": "bar",
           "x": [
            24
           ],
           "xaxis": "x",
           "y": [
            "TESLA"
           ],
           "yaxis": "y"
          }
         ],
         "name": "2010"
        },
        {
         "data": [
          {
           "alignmentgroup": "True",
           "hovertemplate": "EV Make=%{y}<br>Model Year=2011<br>Number of EVs=%{x}<extra></extra>",
           "ids": [
            "CHEVROLET"
           ],
           "legendgroup": "CHEVROLET",
           "marker": {
            "color": "#636efa",
            "pattern": {
             "shape": ""
            }
           },
           "name": "CHEVROLET",
           "offsetgroup": "CHEVROLET",
           "orientation": "h",
           "showlegend": true,
           "textposition": "auto",
           "type": "bar",
           "x": [
            71
           ],
           "xaxis": "x",
           "y": [
            "CHEVROLET"
           ],
           "yaxis": "y"
          },
          {
           "alignmentgroup": "True",
           "hovertemplate": "EV Make=%{y}<br>Model Year=2011<br>Number of EVs=%{x}<extra></extra>",
           "ids": [
            "TESLA"
           ],
           "legendgroup": "TESLA",
           "marker": {
            "color": "#ab63fa",
            "pattern": {
             "shape": ""
            }
           },
           "name": "TESLA",
           "offsetgroup": "TESLA",
           "orientation": "h",
           "showlegend": true,
           "textposition": "auto",
           "type": "bar",
           "x": [
            7
           ],
           "xaxis": "x",
           "y": [
            "TESLA"
           ],
           "yaxis": "y"
          },
          {
           "alignmentgroup": "True",
           "hovertemplate": "EV Make=%{y}<br>Model Year=2011<br>Number of EVs=%{x}<extra></extra>",
           "ids": [
            "NISSAN"
           ],
           "legendgroup": "NISSAN",
           "marker": {
            "color": "#FFA15A",
            "pattern": {
             "shape": ""
            }
           },
           "name": "NISSAN",
           "offsetgroup": "NISSAN",
           "orientation": "h",
           "showlegend": true,
           "textposition": "auto",
           "type": "bar",
           "x": [
            755
           ],
           "xaxis": "x",
           "y": [
            "NISSAN"
           ],
           "yaxis": "y"
          }
         ],
         "name": "2011"
        },
        {
         "data": [
          {
           "alignmentgroup": "True",
           "hovertemplate": "EV Make=%{y}<br>Model Year=2012<br>Number of EVs=%{x}<extra></extra>",
           "ids": [
            "CHEVROLET"
           ],
           "legendgroup": "CHEVROLET",
           "marker": {
            "color": "#636efa",
            "pattern": {
             "shape": ""
            }
           },
           "name": "CHEVROLET",
           "offsetgroup": "CHEVROLET",
           "orientation": "h",
           "showlegend": true,
           "textposition": "auto",
           "type": "bar",
           "x": [
            496
           ],
           "xaxis": "x",
           "y": [
            "CHEVROLET"
           ],
           "yaxis": "y"
          },
          {
           "alignmentgroup": "True",
           "hovertemplate": "EV Make=%{y}<br>Model Year=2012<br>Number of EVs=%{x}<extra></extra>",
           "ids": [
            "FORD"
           ],
           "legendgroup": "FORD",
           "marker": {
            "color": "#EF553B",
            "pattern": {
             "shape": ""
            }
           },
           "name": "FORD",
           "offsetgroup": "FORD",
           "orientation": "h",
           "showlegend": true,
           "textposition": "auto",
           "type": "bar",
           "x": [
            15
           ],
           "xaxis": "x",
           "y": [
            "FORD"
           ],
           "yaxis": "y"
          },
          {
           "alignmentgroup": "True",
           "hovertemplate": "EV Make=%{y}<br>Model Year=2012<br>Number of EVs=%{x}<extra></extra>",
           "ids": [
            "TOYOTA"
           ],
           "legendgroup": "TOYOTA",
           "marker": {
            "color": "#00cc96",
            "pattern": {
             "shape": ""
            }
           },
           "name": "TOYOTA",
           "offsetgroup": "TOYOTA",
           "orientation": "h",
           "showlegend": true,
           "textposition": "auto",
           "type": "bar",
           "x": [
            385
           ],
           "xaxis": "x",
           "y": [
            "TOYOTA"
           ],
           "yaxis": "y"
          },
          {
           "alignmentgroup": "True",
           "hovertemplate": "EV Make=%{y}<br>Model Year=2012<br>Number of EVs=%{x}<extra></extra>",
           "ids": [
            "TESLA"
           ],
           "legendgroup": "TESLA",
           "marker": {
            "color": "#ab63fa",
            "pattern": {
             "shape": ""
            }
           },
           "name": "TESLA",
           "offsetgroup": "TESLA",
           "orientation": "h",
           "showlegend": true,
           "textposition": "auto",
           "type": "bar",
           "x": [
            134
           ],
           "xaxis": "x",
           "y": [
            "TESLA"
           ],
           "yaxis": "y"
          },
          {
           "alignmentgroup": "True",
           "hovertemplate": "EV Make=%{y}<br>Model Year=2012<br>Number of EVs=%{x}<extra></extra>",
           "ids": [
            "NISSAN"
           ],
           "legendgroup": "NISSAN",
           "marker": {
            "color": "#FFA15A",
            "pattern": {
             "shape": ""
            }
           },
           "name": "NISSAN",
           "offsetgroup": "NISSAN",
           "orientation": "h",
           "showlegend": true,
           "textposition": "auto",
           "type": "bar",
           "x": [
            610
           ],
           "xaxis": "x",
           "y": [
            "NISSAN"
           ],
           "yaxis": "y"
          }
         ],
         "name": "2012"
        },
        {
         "data": [
          {
           "alignmentgroup": "True",
           "hovertemplate": "EV Make=%{y}<br>Model Year=2013<br>Number of EVs=%{x}<extra></extra>",
           "ids": [
            "CHEVROLET"
           ],
           "legendgroup": "CHEVROLET",
           "marker": {
            "color": "#636efa",
            "pattern": {
             "shape": ""
            }
           },
           "name": "CHEVROLET",
           "offsetgroup": "CHEVROLET",
           "orientation": "h",
           "showlegend": true,
           "textposition": "auto",
           "type": "bar",
           "x": [
            818
           ],
           "xaxis": "x",
           "y": [
            "CHEVROLET"
           ],
           "yaxis": "y"
          },
          {
           "alignmentgroup": "True",
           "hovertemplate": "EV Make=%{y}<br>Model Year=2013<br>Number of EVs=%{x}<extra></extra>",
           "ids": [
            "FORD"
           ],
           "legendgroup": "FORD",
           "marker": {
            "color": "#EF553B",
            "pattern": {
             "shape": ""
            }
           },
           "name": "FORD",
           "offsetgroup": "FORD",
           "orientation": "h",
           "showlegend": true,
           "textposition": "auto",
           "type": "bar",
           "x": [
            662
           ],
           "xaxis": "x",
           "y": [
            "FORD"
           ],
           "yaxis": "y"
          },
          {
           "alignmentgroup": "True",
           "hovertemplate": "EV Make=%{y}<br>Model Year=2013<br>Number of EVs=%{x}<extra></extra>",
           "ids": [
            "TOYOTA"
           ],
           "legendgroup": "TOYOTA",
           "marker": {
            "color": "#00cc96",
            "pattern": {
             "shape": ""
            }
           },
           "name": "TOYOTA",
           "offsetgroup": "TOYOTA",
           "orientation": "h",
           "showlegend": true,
           "textposition": "auto",
           "type": "bar",
           "x": [
            296
           ],
           "xaxis": "x",
           "y": [
            "TOYOTA"
           ],
           "yaxis": "y"
          },
          {
           "alignmentgroup": "True",
           "hovertemplate": "EV Make=%{y}<br>Model Year=2013<br>Number of EVs=%{x}<extra></extra>",
           "ids": [
            "TESLA"
           ],
           "legendgroup": "TESLA",
           "marker": {
            "color": "#ab63fa",
            "pattern": {
             "shape": ""
            }
           },
           "name": "TESLA",
           "offsetgroup": "TESLA",
           "orientation": "h",
           "showlegend": true,
           "textposition": "auto",
           "type": "bar",
           "x": [
            814
           ],
           "xaxis": "x",
           "y": [
            "TESLA"
           ],
           "yaxis": "y"
          },
          {
           "alignmentgroup": "True",
           "hovertemplate": "EV Make=%{y}<br>Model Year=2013<br>Number of EVs=%{x}<extra></extra>",
           "ids": [
            "NISSAN"
           ],
           "legendgroup": "NISSAN",
           "marker": {
            "color": "#FFA15A",
            "pattern": {
             "shape": ""
            }
           },
           "name": "NISSAN",
           "offsetgroup": "NISSAN",
           "orientation": "h",
           "showlegend": true,
           "textposition": "auto",
           "type": "bar",
           "x": [
            1966
           ],
           "xaxis": "x",
           "y": [
            "NISSAN"
           ],
           "yaxis": "y"
          }
         ],
         "name": "2013"
        },
        {
         "data": [
          {
           "alignmentgroup": "True",
           "hovertemplate": "EV Make=%{y}<br>Model Year=2014<br>Number of EVs=%{x}<extra></extra>",
           "ids": [
            "CHEVROLET"
           ],
           "legendgroup": "CHEVROLET",
           "marker": {
            "color": "#636efa",
            "pattern": {
             "shape": ""
            }
           },
           "name": "CHEVROLET",
           "offsetgroup": "CHEVROLET",
           "orientation": "h",
           "showlegend": true,
           "textposition": "auto",
           "type": "bar",
           "x": [
            724
           ],
           "xaxis": "x",
           "y": [
            "CHEVROLET"
           ],
           "yaxis": "y"
          },
          {
           "alignmentgroup": "True",
           "hovertemplate": "EV Make=%{y}<br>Model Year=2014<br>Number of EVs=%{x}<extra></extra>",
           "ids": [
            "FORD"
           ],
           "legendgroup": "FORD",
           "marker": {
            "color": "#EF553B",
            "pattern": {
             "shape": ""
            }
           },
           "name": "FORD",
           "offsetgroup": "FORD",
           "orientation": "h",
           "showlegend": true,
           "textposition": "auto",
           "type": "bar",
           "x": [
            628
           ],
           "xaxis": "x",
           "y": [
            "FORD"
           ],
           "yaxis": "y"
          },
          {
           "alignmentgroup": "True",
           "hovertemplate": "EV Make=%{y}<br>Model Year=2014<br>Number of EVs=%{x}<extra></extra>",
           "ids": [
            "TOYOTA"
           ],
           "legendgroup": "TOYOTA",
           "marker": {
            "color": "#00cc96",
            "pattern": {
             "shape": ""
            }
           },
           "name": "TOYOTA",
           "offsetgroup": "TOYOTA",
           "orientation": "h",
           "showlegend": true,
           "textposition": "auto",
           "type": "bar",
           "x": [
            215
           ],
           "xaxis": "x",
           "y": [
            "TOYOTA"
           ],
           "yaxis": "y"
          },
          {
           "alignmentgroup": "True",
           "hovertemplate": "EV Make=%{y}<br>Model Year=2014<br>Number of EVs=%{x}<extra></extra>",
           "ids": [
            "TESLA"
           ],
           "legendgroup": "TESLA",
           "marker": {
            "color": "#ab63fa",
            "pattern": {
             "shape": ""
            }
           },
           "name": "TESLA",
           "offsetgroup": "TESLA",
           "orientation": "h",
           "showlegend": true,
           "textposition": "auto",
           "type": "bar",
           "x": [
            683
           ],
           "xaxis": "x",
           "y": [
            "TESLA"
           ],
           "yaxis": "y"
          },
          {
           "alignmentgroup": "True",
           "hovertemplate": "EV Make=%{y}<br>Model Year=2014<br>Number of EVs=%{x}<extra></extra>",
           "ids": [
            "NISSAN"
           ],
           "legendgroup": "NISSAN",
           "marker": {
            "color": "#FFA15A",
            "pattern": {
             "shape": ""
            }
           },
           "name": "NISSAN",
           "offsetgroup": "NISSAN",
           "orientation": "h",
           "showlegend": true,
           "textposition": "auto",
           "type": "bar",
           "x": [
            694
           ],
           "xaxis": "x",
           "y": [
            "NISSAN"
           ],
           "yaxis": "y"
          },
          {
           "alignmentgroup": "True",
           "hovertemplate": "EV Make=%{y}<br>Model Year=2014<br>Number of EVs=%{x}<extra></extra>",
           "ids": [
            "BMW"
           ],
           "legendgroup": "BMW",
           "marker": {
            "color": "#19d3f3",
            "pattern": {
             "shape": ""
            }
           },
           "name": "BMW",
           "offsetgroup": "BMW",
           "orientation": "h",
           "showlegend": true,
           "textposition": "auto",
           "type": "bar",
           "x": [
            457
           ],
           "xaxis": "x",
           "y": [
            "BMW"
           ],
           "yaxis": "y"
          }
         ],
         "name": "2014"
        },
        {
         "data": [
          {
           "alignmentgroup": "True",
           "hovertemplate": "EV Make=%{y}<br>Model Year=2015<br>Number of EVs=%{x}<extra></extra>",
           "ids": [
            "CHEVROLET"
           ],
           "legendgroup": "CHEVROLET",
           "marker": {
            "color": "#636efa",
            "pattern": {
             "shape": ""
            }
           },
           "name": "CHEVROLET",
           "offsetgroup": "CHEVROLET",
           "orientation": "h",
           "showlegend": true,
           "textposition": "auto",
           "type": "bar",
           "x": [
            467
           ],
           "xaxis": "x",
           "y": [
            "CHEVROLET"
           ],
           "yaxis": "y"
          },
          {
           "alignmentgroup": "True",
           "hovertemplate": "EV Make=%{y}<br>Model Year=2015<br>Number of EVs=%{x}<extra></extra>",
           "ids": [
            "FORD"
           ],
           "legendgroup": "FORD",
           "marker": {
            "color": "#EF553B",
            "pattern": {
             "shape": ""
            }
           },
           "name": "FORD",
           "offsetgroup": "FORD",
           "orientation": "h",
           "showlegend": true,
           "textposition": "auto",
           "type": "bar",
           "x": [
            556
           ],
           "xaxis": "x",
           "y": [
            "FORD"
           ],
           "yaxis": "y"
          },
          {
           "alignmentgroup": "True",
           "hovertemplate": "EV Make=%{y}<br>Model Year=2015<br>Number of EVs=%{x}<extra></extra>",
           "ids": [
            "TOYOTA"
           ],
           "legendgroup": "TOYOTA",
           "marker": {
            "color": "#00cc96",
            "pattern": {
             "shape": ""
            }
           },
           "name": "TOYOTA",
           "offsetgroup": "TOYOTA",
           "orientation": "h",
           "showlegend": true,
           "textposition": "auto",
           "type": "bar",
           "x": [
            89
           ],
           "xaxis": "x",
           "y": [
            "TOYOTA"
           ],
           "yaxis": "y"
          },
          {
           "alignmentgroup": "True",
           "hovertemplate": "EV Make=%{y}<br>Model Year=2015<br>Number of EVs=%{x}<extra></extra>",
           "ids": [
            "TESLA"
           ],
           "legendgroup": "TESLA",
           "marker": {
            "color": "#ab63fa",
            "pattern": {
             "shape": ""
            }
           },
           "name": "TESLA",
           "offsetgroup": "TESLA",
           "orientation": "h",
           "showlegend": true,
           "textposition": "auto",
           "type": "bar",
           "x": [
            1089
           ],
           "xaxis": "x",
           "y": [
            "TESLA"
           ],
           "yaxis": "y"
          },
          {
           "alignmentgroup": "True",
           "hovertemplate": "EV Make=%{y}<br>Model Year=2015<br>Number of EVs=%{x}<extra></extra>",
           "ids": [
            "NISSAN"
           ],
           "legendgroup": "NISSAN",
           "marker": {
            "color": "#FFA15A",
            "pattern": {
             "shape": ""
            }
           },
           "name": "NISSAN",
           "offsetgroup": "NISSAN",
           "orientation": "h",
           "showlegend": true,
           "textposition": "auto",
           "type": "bar",
           "x": [
            1839
           ],
           "xaxis": "x",
           "y": [
            "NISSAN"
           ],
           "yaxis": "y"
          },
          {
           "alignmentgroup": "True",
           "hovertemplate": "EV Make=%{y}<br>Model Year=2015<br>Number of EVs=%{x}<extra></extra>",
           "ids": [
            "BMW"
           ],
           "legendgroup": "BMW",
           "marker": {
            "color": "#19d3f3",
            "pattern": {
             "shape": ""
            }
           },
           "name": "BMW",
           "offsetgroup": "BMW",
           "orientation": "h",
           "showlegend": true,
           "textposition": "auto",
           "type": "bar",
           "x": [
            403
           ],
           "xaxis": "x",
           "y": [
            "BMW"
           ],
           "yaxis": "y"
          },
          {
           "alignmentgroup": "True",
           "hovertemplate": "EV Make=%{y}<br>Model Year=2015<br>Number of EVs=%{x}<extra></extra>",
           "ids": [
            "VOLKSWAGEN"
           ],
           "legendgroup": "VOLKSWAGEN",
           "marker": {
            "color": "#FF6692",
            "pattern": {
             "shape": ""
            }
           },
           "name": "VOLKSWAGEN",
           "offsetgroup": "VOLKSWAGEN",
           "orientation": "h",
           "showlegend": true,
           "textposition": "auto",
           "type": "bar",
           "x": [
            124
           ],
           "xaxis": "x",
           "y": [
            "VOLKSWAGEN"
           ],
           "yaxis": "y"
          },
          {
           "alignmentgroup": "True",
           "hovertemplate": "EV Make=%{y}<br>Model Year=2015<br>Number of EVs=%{x}<extra></extra>",
           "ids": [
            "KIA"
           ],
           "legendgroup": "KIA",
           "marker": {
            "color": "#B6E880",
            "pattern": {
             "shape": ""
            }
           },
           "name": "KIA",
           "offsetgroup": "KIA",
           "orientation": "h",
           "showlegend": true,
           "textposition": "auto",
           "type": "bar",
           "x": [
            22
           ],
           "xaxis": "x",
           "y": [
            "KIA"
           ],
           "yaxis": "y"
          }
         ],
         "name": "2015"
        },
        {
         "data": [
          {
           "alignmentgroup": "True",
           "hovertemplate": "EV Make=%{y}<br>Model Year=2016<br>Number of EVs=%{x}<extra></extra>",
           "ids": [
            "CHEVROLET"
           ],
           "legendgroup": "CHEVROLET",
           "marker": {
            "color": "#636efa",
            "pattern": {
             "shape": ""
            }
           },
           "name": "CHEVROLET",
           "offsetgroup": "CHEVROLET",
           "orientation": "h",
           "showlegend": true,
           "textposition": "auto",
           "type": "bar",
           "x": [
            309
           ],
           "xaxis": "x",
           "y": [
            "CHEVROLET"
           ],
           "yaxis": "y"
          },
          {
           "alignmentgroup": "True",
           "hovertemplate": "EV Make=%{y}<br>Model Year=2016<br>Number of EVs=%{x}<extra></extra>",
           "ids": [
            "FORD"
           ],
           "legendgroup": "FORD",
           "marker": {
            "color": "#EF553B",
            "pattern": {
             "shape": ""
            }
           },
           "name": "FORD",
           "offsetgroup": "FORD",
           "orientation": "h",
           "showlegend": true,
           "textposition": "auto",
           "type": "bar",
           "x": [
            778
           ],
           "xaxis": "x",
           "y": [
            "FORD"
           ],
           "yaxis": "y"
          },
          {
           "alignmentgroup": "True",
           "hovertemplate": "EV Make=%{y}<br>Model Year=2016<br>Number of EVs=%{x}<extra></extra>",
           "ids": [
            "TESLA"
           ],
           "legendgroup": "TESLA",
           "marker": {
            "color": "#ab63fa",
            "pattern": {
             "shape": ""
            }
           },
           "name": "TESLA",
           "offsetgroup": "TESLA",
           "orientation": "h",
           "showlegend": true,
           "textposition": "auto",
           "type": "bar",
           "x": [
            1639
           ],
           "xaxis": "x",
           "y": [
            "TESLA"
           ],
           "yaxis": "y"
          },
          {
           "alignmentgroup": "True",
           "hovertemplate": "EV Make=%{y}<br>Model Year=2016<br>Number of EVs=%{x}<extra></extra>",
           "ids": [
            "NISSAN"
           ],
           "legendgroup": "NISSAN",
           "marker": {
            "color": "#FFA15A",
            "pattern": {
             "shape": ""
            }
           },
           "name": "NISSAN",
           "offsetgroup": "NISSAN",
           "orientation": "h",
           "showlegend": true,
           "textposition": "auto",
           "type": "bar",
           "x": [
            1208
           ],
           "xaxis": "x",
           "y": [
            "NISSAN"
           ],
           "yaxis": "y"
          },
          {
           "alignmentgroup": "True",
           "hovertemplate": "EV Make=%{y}<br>Model Year=2016<br>Number of EVs=%{x}<extra></extra>",
           "ids": [
            "BMW"
           ],
           "legendgroup": "BMW",
           "marker": {
            "color": "#19d3f3",
            "pattern": {
             "shape": ""
            }
           },
           "name": "BMW",
           "offsetgroup": "BMW",
           "orientation": "h",
           "showlegend": true,
           "textposition": "auto",
           "type": "bar",
           "x": [
            383
           ],
           "xaxis": "x",
           "y": [
            "BMW"
           ],
           "yaxis": "y"
          },
          {
           "alignmentgroup": "True",
           "hovertemplate": "EV Make=%{y}<br>Model Year=2016<br>Number of EVs=%{x}<extra></extra>",
           "ids": [
            "VOLKSWAGEN"
           ],
           "legendgroup": "VOLKSWAGEN",
           "marker": {
            "color": "#FF6692",
            "pattern": {
             "shape": ""
            }
           },
           "name": "VOLKSWAGEN",
           "offsetgroup": "VOLKSWAGEN",
           "orientation": "h",
           "showlegend": true,
           "textposition": "auto",
           "type": "bar",
           "x": [
            319
           ],
           "xaxis": "x",
           "y": [
            "VOLKSWAGEN"
           ],
           "yaxis": "y"
          },
          {
           "alignmentgroup": "True",
           "hovertemplate": "EV Make=%{y}<br>Model Year=2016<br>Number of EVs=%{x}<extra></extra>",
           "ids": [
            "KIA"
           ],
           "legendgroup": "KIA",
           "marker": {
            "color": "#B6E880",
            "pattern": {
             "shape": ""
            }
           },
           "name": "KIA",
           "offsetgroup": "KIA",
           "orientation": "h",
           "showlegend": true,
           "textposition": "auto",
           "type": "bar",
           "x": [
            407
           ],
           "xaxis": "x",
           "y": [
            "KIA"
           ],
           "yaxis": "y"
          },
          {
           "alignmentgroup": "True",
           "hovertemplate": "EV Make=%{y}<br>Model Year=2016<br>Number of EVs=%{x}<extra></extra>",
           "ids": [
            "AUDI"
           ],
           "legendgroup": "AUDI",
           "marker": {
            "color": "#FF97FF",
            "pattern": {
             "shape": ""
            }
           },
           "name": "AUDI",
           "offsetgroup": "AUDI",
           "orientation": "h",
           "showlegend": true,
           "textposition": "auto",
           "type": "bar",
           "x": [
            214
           ],
           "xaxis": "x",
           "y": [
            "AUDI"
           ],
           "yaxis": "y"
          },
          {
           "alignmentgroup": "True",
           "hovertemplate": "EV Make=%{y}<br>Model Year=2016<br>Number of EVs=%{x}<extra></extra>",
           "ids": [
            "VOLVO"
           ],
           "legendgroup": "VOLVO",
           "marker": {
            "color": "#FECB52",
            "pattern": {
             "shape": ""
            }
           },
           "name": "VOLVO",
           "offsetgroup": "VOLVO",
           "orientation": "h",
           "showlegend": true,
           "textposition": "auto",
           "type": "bar",
           "x": [
            112
           ],
           "xaxis": "x",
           "y": [
            "VOLVO"
           ],
           "yaxis": "y"
          }
         ],
         "name": "2016"
        },
        {
         "data": [
          {
           "alignmentgroup": "True",
           "hovertemplate": "EV Make=%{y}<br>Model Year=2017<br>Number of EVs=%{x}<extra></extra>",
           "ids": [
            "CHEVROLET"
           ],
           "legendgroup": "CHEVROLET",
           "marker": {
            "color": "#636efa",
            "pattern": {
             "shape": ""
            }
           },
           "name": "CHEVROLET",
           "offsetgroup": "CHEVROLET",
           "orientation": "h",
           "showlegend": true,
           "textposition": "auto",
           "type": "bar",
           "x": [
            2744
           ],
           "xaxis": "x",
           "y": [
            "CHEVROLET"
           ],
           "yaxis": "y"
          },
          {
           "alignmentgroup": "True",
           "hovertemplate": "EV Make=%{y}<br>Model Year=2017<br>Number of EVs=%{x}<extra></extra>",
           "ids": [
            "FORD"
           ],
           "legendgroup": "FORD",
           "marker": {
            "color": "#EF553B",
            "pattern": {
             "shape": ""
            }
           },
           "name": "FORD",
           "offsetgroup": "FORD",
           "orientation": "h",
           "showlegend": true,
           "textposition": "auto",
           "type": "bar",
           "x": [
            659
           ],
           "xaxis": "x",
           "y": [
            "FORD"
           ],
           "yaxis": "y"
          },
          {
           "alignmentgroup": "True",
           "hovertemplate": "EV Make=%{y}<br>Model Year=2017<br>Number of EVs=%{x}<extra></extra>",
           "ids": [
            "TOYOTA"
           ],
           "legendgroup": "TOYOTA",
           "marker": {
            "color": "#00cc96",
            "pattern": {
             "shape": ""
            }
           },
           "name": "TOYOTA",
           "offsetgroup": "TOYOTA",
           "orientation": "h",
           "showlegend": true,
           "textposition": "auto",
           "type": "bar",
           "x": [
            899
           ],
           "xaxis": "x",
           "y": [
            "TOYOTA"
           ],
           "yaxis": "y"
          },
          {
           "alignmentgroup": "True",
           "hovertemplate": "EV Make=%{y}<br>Model Year=2017<br>Number of EVs=%{x}<extra></extra>",
           "ids": [
            "TESLA"
           ],
           "legendgroup": "TESLA",
           "marker": {
            "color": "#ab63fa",
            "pattern": {
             "shape": ""
            }
           },
           "name": "TESLA",
           "offsetgroup": "TESLA",
           "orientation": "h",
           "showlegend": true,
           "textposition": "auto",
           "type": "bar",
           "x": [
            1679
           ],
           "xaxis": "x",
           "y": [
            "TESLA"
           ],
           "yaxis": "y"
          },
          {
           "alignmentgroup": "True",
           "hovertemplate": "EV Make=%{y}<br>Model Year=2017<br>Number of EVs=%{x}<extra></extra>",
           "ids": [
            "NISSAN"
           ],
           "legendgroup": "NISSAN",
           "marker": {
            "color": "#FFA15A",
            "pattern": {
             "shape": ""
            }
           },
           "name": "NISSAN",
           "offsetgroup": "NISSAN",
           "orientation": "h",
           "showlegend": true,
           "textposition": "auto",
           "type": "bar",
           "x": [
            934
           ],
           "xaxis": "x",
           "y": [
            "NISSAN"
           ],
           "yaxis": "y"
          },
          {
           "alignmentgroup": "True",
           "hovertemplate": "EV Make=%{y}<br>Model Year=2017<br>Number of EVs=%{x}<extra></extra>",
           "ids": [
            "BMW"
           ],
           "legendgroup": "BMW",
           "marker": {
            "color": "#19d3f3",
            "pattern": {
             "shape": ""
            }
           },
           "name": "BMW",
           "offsetgroup": "BMW",
           "orientation": "h",
           "showlegend": true,
           "textposition": "auto",
           "type": "bar",
           "x": [
            692
           ],
           "xaxis": "x",
           "y": [
            "BMW"
           ],
           "yaxis": "y"
          },
          {
           "alignmentgroup": "True",
           "hovertemplate": "EV Make=%{y}<br>Model Year=2017<br>Number of EVs=%{x}<extra></extra>",
           "ids": [
            "VOLKSWAGEN"
           ],
           "legendgroup": "VOLKSWAGEN",
           "marker": {
            "color": "#FF6692",
            "pattern": {
             "shape": ""
            }
           },
           "name": "VOLKSWAGEN",
           "offsetgroup": "VOLKSWAGEN",
           "orientation": "h",
           "showlegend": true,
           "textposition": "auto",
           "type": "bar",
           "x": [
            52
           ],
           "xaxis": "x",
           "y": [
            "VOLKSWAGEN"
           ],
           "yaxis": "y"
          },
          {
           "alignmentgroup": "True",
           "hovertemplate": "EV Make=%{y}<br>Model Year=2017<br>Number of EVs=%{x}<extra></extra>",
           "ids": [
            "KIA"
           ],
           "legendgroup": "KIA",
           "marker": {
            "color": "#B6E880",
            "pattern": {
             "shape": ""
            }
           },
           "name": "KIA",
           "offsetgroup": "KIA",
           "orientation": "h",
           "showlegend": true,
           "textposition": "auto",
           "type": "bar",
           "x": [
            210
           ],
           "xaxis": "x",
           "y": [
            "KIA"
           ],
           "yaxis": "y"
          },
          {
           "alignmentgroup": "True",
           "hovertemplate": "EV Make=%{y}<br>Model Year=2017<br>Number of EVs=%{x}<extra></extra>",
           "ids": [
            "AUDI"
           ],
           "legendgroup": "AUDI",
           "marker": {
            "color": "#FF97FF",
            "pattern": {
             "shape": ""
            }
           },
           "name": "AUDI",
           "offsetgroup": "AUDI",
           "orientation": "h",
           "showlegend": true,
           "textposition": "auto",
           "type": "bar",
           "x": [
            187
           ],
           "xaxis": "x",
           "y": [
            "AUDI"
           ],
           "yaxis": "y"
          },
          {
           "alignmentgroup": "True",
           "hovertemplate": "EV Make=%{y}<br>Model Year=2017<br>Number of EVs=%{x}<extra></extra>",
           "ids": [
            "VOLVO"
           ],
           "legendgroup": "VOLVO",
           "marker": {
            "color": "#FECB52",
            "pattern": {
             "shape": ""
            }
           },
           "name": "VOLVO",
           "offsetgroup": "VOLVO",
           "orientation": "h",
           "showlegend": true,
           "textposition": "auto",
           "type": "bar",
           "x": [
            115
           ],
           "xaxis": "x",
           "y": [
            "VOLVO"
           ],
           "yaxis": "y"
          }
         ],
         "name": "2017"
        },
        {
         "data": [
          {
           "alignmentgroup": "True",
           "hovertemplate": "EV Make=%{y}<br>Model Year=2018<br>Number of EVs=%{x}<extra></extra>",
           "ids": [
            "CHEVROLET"
           ],
           "legendgroup": "CHEVROLET",
           "marker": {
            "color": "#636efa",
            "pattern": {
             "shape": ""
            }
           },
           "name": "CHEVROLET",
           "offsetgroup": "CHEVROLET",
           "orientation": "h",
           "showlegend": true,
           "textposition": "auto",
           "type": "bar",
           "x": [
            1126
           ],
           "xaxis": "x",
           "y": [
            "CHEVROLET"
           ],
           "yaxis": "y"
          },
          {
           "alignmentgroup": "True",
           "hovertemplate": "EV Make=%{y}<br>Model Year=2018<br>Number of EVs=%{x}<extra></extra>",
           "ids": [
            "FORD"
           ],
           "legendgroup": "FORD",
           "marker": {
            "color": "#EF553B",
            "pattern": {
             "shape": ""
            }
           },
           "name": "FORD",
           "offsetgroup": "FORD",
           "orientation": "h",
           "showlegend": true,
           "textposition": "auto",
           "type": "bar",
           "x": [
            170
           ],
           "xaxis": "x",
           "y": [
            "FORD"
           ],
           "yaxis": "y"
          },
          {
           "alignmentgroup": "True",
           "hovertemplate": "EV Make=%{y}<br>Model Year=2018<br>Number of EVs=%{x}<extra></extra>",
           "ids": [
            "TOYOTA"
           ],
           "legendgroup": "TOYOTA",
           "marker": {
            "color": "#00cc96",
            "pattern": {
             "shape": ""
            }
           },
           "name": "TOYOTA",
           "offsetgroup": "TOYOTA",
           "orientation": "h",
           "showlegend": true,
           "textposition": "auto",
           "type": "bar",
           "x": [
            659
           ],
           "xaxis": "x",
           "y": [
            "TOYOTA"
           ],
           "yaxis": "y"
          },
          {
           "alignmentgroup": "True",
           "hovertemplate": "EV Make=%{y}<br>Model Year=2018<br>Number of EVs=%{x}<extra></extra>",
           "ids": [
            "TESLA"
           ],
           "legendgroup": "TESLA",
           "marker": {
            "color": "#ab63fa",
            "pattern": {
             "shape": ""
            }
           },
           "name": "TESLA",
           "offsetgroup": "TESLA",
           "orientation": "h",
           "showlegend": true,
           "textposition": "auto",
           "type": "bar",
           "x": [
            7919
           ],
           "xaxis": "x",
           "y": [
            "TESLA"
           ],
           "yaxis": "y"
          },
          {
           "alignmentgroup": "True",
           "hovertemplate": "EV Make=%{y}<br>Model Year=2018<br>Number of EVs=%{x}<extra></extra>",
           "ids": [
            "NISSAN"
           ],
           "legendgroup": "NISSAN",
           "marker": {
            "color": "#FFA15A",
            "pattern": {
             "shape": ""
            }
           },
           "name": "NISSAN",
           "offsetgroup": "NISSAN",
           "orientation": "h",
           "showlegend": true,
           "textposition": "auto",
           "type": "bar",
           "x": [
            1232
           ],
           "xaxis": "x",
           "y": [
            "NISSAN"
           ],
           "yaxis": "y"
          },
          {
           "alignmentgroup": "True",
           "hovertemplate": "EV Make=%{y}<br>Model Year=2018<br>Number of EVs=%{x}<extra></extra>",
           "ids": [
            "BMW"
           ],
           "legendgroup": "BMW",
           "marker": {
            "color": "#19d3f3",
            "pattern": {
             "shape": ""
            }
           },
           "name": "BMW",
           "offsetgroup": "BMW",
           "orientation": "h",
           "showlegend": true,
           "textposition": "auto",
           "type": "bar",
           "x": [
            710
           ],
           "xaxis": "x",
           "y": [
            "BMW"
           ],
           "yaxis": "y"
          },
          {
           "alignmentgroup": "True",
           "hovertemplate": "EV Make=%{y}<br>Model Year=2018<br>Number of EVs=%{x}<extra></extra>",
           "ids": [
            "VOLKSWAGEN"
           ],
           "legendgroup": "VOLKSWAGEN",
           "marker": {
            "color": "#FF6692",
            "pattern": {
             "shape": ""
            }
           },
           "name": "VOLKSWAGEN",
           "offsetgroup": "VOLKSWAGEN",
           "orientation": "h",
           "showlegend": true,
           "textposition": "auto",
           "type": "bar",
           "x": [
            39
           ],
           "xaxis": "x",
           "y": [
            "VOLKSWAGEN"
           ],
           "yaxis": "y"
          },
          {
           "alignmentgroup": "True",
           "hovertemplate": "EV Make=%{y}<br>Model Year=2018<br>Number of EVs=%{x}<extra></extra>",
           "ids": [
            "KIA"
           ],
           "legendgroup": "KIA",
           "marker": {
            "color": "#B6E880",
            "pattern": {
             "shape": ""
            }
           },
           "name": "KIA",
           "offsetgroup": "KIA",
           "orientation": "h",
           "showlegend": true,
           "textposition": "auto",
           "type": "bar",
           "x": [
            322
           ],
           "xaxis": "x",
           "y": [
            "KIA"
           ],
           "yaxis": "y"
          },
          {
           "alignmentgroup": "True",
           "hovertemplate": "EV Make=%{y}<br>Model Year=2018<br>Number of EVs=%{x}<extra></extra>",
           "ids": [
            "AUDI"
           ],
           "legendgroup": "AUDI",
           "marker": {
            "color": "#FF97FF",
            "pattern": {
             "shape": ""
            }
           },
           "name": "AUDI",
           "offsetgroup": "AUDI",
           "orientation": "h",
           "showlegend": true,
           "textposition": "auto",
           "type": "bar",
           "x": [
            174
           ],
           "xaxis": "x",
           "y": [
            "AUDI"
           ],
           "yaxis": "y"
          },
          {
           "alignmentgroup": "True",
           "hovertemplate": "EV Make=%{y}<br>Model Year=2018<br>Number of EVs=%{x}<extra></extra>",
           "ids": [
            "VOLVO"
           ],
           "legendgroup": "VOLVO",
           "marker": {
            "color": "#FECB52",
            "pattern": {
             "shape": ""
            }
           },
           "name": "VOLVO",
           "offsetgroup": "VOLVO",
           "orientation": "h",
           "showlegend": true,
           "textposition": "auto",
           "type": "bar",
           "x": [
            226
           ],
           "xaxis": "x",
           "y": [
            "VOLVO"
           ],
           "yaxis": "y"
          }
         ],
         "name": "2018"
        },
        {
         "data": [
          {
           "alignmentgroup": "True",
           "hovertemplate": "EV Make=%{y}<br>Model Year=2019<br>Number of EVs=%{x}<extra></extra>",
           "ids": [
            "CHEVROLET"
           ],
           "legendgroup": "CHEVROLET",
           "marker": {
            "color": "#636efa",
            "pattern": {
             "shape": ""
            }
           },
           "name": "CHEVROLET",
           "offsetgroup": "CHEVROLET",
           "orientation": "h",
           "showlegend": true,
           "textposition": "auto",
           "type": "bar",
           "x": [
            966
           ],
           "xaxis": "x",
           "y": [
            "CHEVROLET"
           ],
           "yaxis": "y"
          },
          {
           "alignmentgroup": "True",
           "hovertemplate": "EV Make=%{y}<br>Model Year=2019<br>Number of EVs=%{x}<extra></extra>",
           "ids": [
            "FORD"
           ],
           "legendgroup": "FORD",
           "marker": {
            "color": "#EF553B",
            "pattern": {
             "shape": ""
            }
           },
           "name": "FORD",
           "offsetgroup": "FORD",
           "orientation": "h",
           "showlegend": true,
           "textposition": "auto",
           "type": "bar",
           "x": [
            136
           ],
           "xaxis": "x",
           "y": [
            "FORD"
           ],
           "yaxis": "y"
          },
          {
           "alignmentgroup": "True",
           "hovertemplate": "EV Make=%{y}<br>Model Year=2019<br>Number of EVs=%{x}<extra></extra>",
           "ids": [
            "TOYOTA"
           ],
           "legendgroup": "TOYOTA",
           "marker": {
            "color": "#00cc96",
            "pattern": {
             "shape": ""
            }
           },
           "name": "TOYOTA",
           "offsetgroup": "TOYOTA",
           "orientation": "h",
           "showlegend": true,
           "textposition": "auto",
           "type": "bar",
           "x": [
            190
           ],
           "xaxis": "x",
           "y": [
            "TOYOTA"
           ],
           "yaxis": "y"
          },
          {
           "alignmentgroup": "True",
           "hovertemplate": "EV Make=%{y}<br>Model Year=2019<br>Number of EVs=%{x}<extra></extra>",
           "ids": [
            "TESLA"
           ],
           "legendgroup": "TESLA",
           "marker": {
            "color": "#ab63fa",
            "pattern": {
             "shape": ""
            }
           },
           "name": "TESLA",
           "offsetgroup": "TESLA",
           "orientation": "h",
           "showlegend": true,
           "textposition": "auto",
           "type": "bar",
           "x": [
            4583
           ],
           "xaxis": "x",
           "y": [
            "TESLA"
           ],
           "yaxis": "y"
          },
          {
           "alignmentgroup": "True",
           "hovertemplate": "EV Make=%{y}<br>Model Year=2019<br>Number of EVs=%{x}<extra></extra>",
           "ids": [
            "NISSAN"
           ],
           "legendgroup": "NISSAN",
           "marker": {
            "color": "#FFA15A",
            "pattern": {
             "shape": ""
            }
           },
           "name": "NISSAN",
           "offsetgroup": "NISSAN",
           "orientation": "h",
           "showlegend": true,
           "textposition": "auto",
           "type": "bar",
           "x": [
            1409
           ],
           "xaxis": "x",
           "y": [
            "NISSAN"
           ],
           "yaxis": "y"
          },
          {
           "alignmentgroup": "True",
           "hovertemplate": "EV Make=%{y}<br>Model Year=2019<br>Number of EVs=%{x}<extra></extra>",
           "ids": [
            "BMW"
           ],
           "legendgroup": "BMW",
           "marker": {
            "color": "#19d3f3",
            "pattern": {
             "shape": ""
            }
           },
           "name": "BMW",
           "offsetgroup": "BMW",
           "orientation": "h",
           "showlegend": true,
           "textposition": "auto",
           "type": "bar",
           "x": [
            279
           ],
           "xaxis": "x",
           "y": [
            "BMW"
           ],
           "yaxis": "y"
          },
          {
           "alignmentgroup": "True",
           "hovertemplate": "EV Make=%{y}<br>Model Year=2019<br>Number of EVs=%{x}<extra></extra>",
           "ids": [
            "VOLKSWAGEN"
           ],
           "legendgroup": "VOLKSWAGEN",
           "marker": {
            "color": "#FF6692",
            "pattern": {
             "shape": ""
            }
           },
           "name": "VOLKSWAGEN",
           "offsetgroup": "VOLKSWAGEN",
           "orientation": "h",
           "showlegend": true,
           "textposition": "auto",
           "type": "bar",
           "x": [
            495
           ],
           "xaxis": "x",
           "y": [
            "VOLKSWAGEN"
           ],
           "yaxis": "y"
          },
          {
           "alignmentgroup": "True",
           "hovertemplate": "EV Make=%{y}<br>Model Year=2019<br>Number of EVs=%{x}<extra></extra>",
           "ids": [
            "KIA"
           ],
           "legendgroup": "KIA",
           "marker": {
            "color": "#B6E880",
            "pattern": {
             "shape": ""
            }
           },
           "name": "KIA",
           "offsetgroup": "KIA",
           "orientation": "h",
           "showlegend": true,
           "textposition": "auto",
           "type": "bar",
           "x": [
            681
           ],
           "xaxis": "x",
           "y": [
            "KIA"
           ],
           "yaxis": "y"
          },
          {
           "alignmentgroup": "True",
           "hovertemplate": "EV Make=%{y}<br>Model Year=2019<br>Number of EVs=%{x}<extra></extra>",
           "ids": [
            "AUDI"
           ],
           "legendgroup": "AUDI",
           "marker": {
            "color": "#FF97FF",
            "pattern": {
             "shape": ""
            }
           },
           "name": "AUDI",
           "offsetgroup": "AUDI",
           "orientation": "h",
           "showlegend": true,
           "textposition": "auto",
           "type": "bar",
           "x": [
            392
           ],
           "xaxis": "x",
           "y": [
            "AUDI"
           ],
           "yaxis": "y"
          },
          {
           "alignmentgroup": "True",
           "hovertemplate": "EV Make=%{y}<br>Model Year=2019<br>Number of EVs=%{x}<extra></extra>",
           "ids": [
            "VOLVO"
           ],
           "legendgroup": "VOLVO",
           "marker": {
            "color": "#FECB52",
            "pattern": {
             "shape": ""
            }
           },
           "name": "VOLVO",
           "offsetgroup": "VOLVO",
           "orientation": "h",
           "showlegend": true,
           "textposition": "auto",
           "type": "bar",
           "x": [
            190
           ],
           "xaxis": "x",
           "y": [
            "VOLVO"
           ],
           "yaxis": "y"
          }
         ],
         "name": "2019"
        },
        {
         "data": [
          {
           "alignmentgroup": "True",
           "hovertemplate": "EV Make=%{y}<br>Model Year=2020<br>Number of EVs=%{x}<extra></extra>",
           "ids": [
            "CHEVROLET"
           ],
           "legendgroup": "CHEVROLET",
           "marker": {
            "color": "#636efa",
            "pattern": {
             "shape": ""
            }
           },
           "name": "CHEVROLET",
           "offsetgroup": "CHEVROLET",
           "orientation": "h",
           "showlegend": true,
           "textposition": "auto",
           "type": "bar",
           "x": [
            1014
           ],
           "xaxis": "x",
           "y": [
            "CHEVROLET"
           ],
           "yaxis": "y"
          },
          {
           "alignmentgroup": "True",
           "hovertemplate": "EV Make=%{y}<br>Model Year=2020<br>Number of EVs=%{x}<extra></extra>",
           "ids": [
            "FORD"
           ],
           "legendgroup": "FORD",
           "marker": {
            "color": "#EF553B",
            "pattern": {
             "shape": ""
            }
           },
           "name": "FORD",
           "offsetgroup": "FORD",
           "orientation": "h",
           "showlegend": true,
           "textposition": "auto",
           "type": "bar",
           "x": [
            65
           ],
           "xaxis": "x",
           "y": [
            "FORD"
           ],
           "yaxis": "y"
          },
          {
           "alignmentgroup": "True",
           "hovertemplate": "EV Make=%{y}<br>Model Year=2020<br>Number of EVs=%{x}<extra></extra>",
           "ids": [
            "TOYOTA"
           ],
           "legendgroup": "TOYOTA",
           "marker": {
            "color": "#00cc96",
            "pattern": {
             "shape": ""
            }
           },
           "name": "TOYOTA",
           "offsetgroup": "TOYOTA",
           "orientation": "h",
           "showlegend": true,
           "textposition": "auto",
           "type": "bar",
           "x": [
            311
           ],
           "xaxis": "x",
           "y": [
            "TOYOTA"
           ],
           "yaxis": "y"
          },
          {
           "alignmentgroup": "True",
           "hovertemplate": "EV Make=%{y}<br>Model Year=2020<br>Number of EVs=%{x}<extra></extra>",
           "ids": [
            "TESLA"
           ],
           "legendgroup": "TESLA",
           "marker": {
            "color": "#ab63fa",
            "pattern": {
             "shape": ""
            }
           },
           "name": "TESLA",
           "offsetgroup": "TESLA",
           "orientation": "h",
           "showlegend": true,
           "textposition": "auto",
           "type": "bar",
           "x": [
            7018
           ],
           "xaxis": "x",
           "y": [
            "TESLA"
           ],
           "yaxis": "y"
          },
          {
           "alignmentgroup": "True",
           "hovertemplate": "EV Make=%{y}<br>Model Year=2020<br>Number of EVs=%{x}<extra></extra>",
           "ids": [
            "NISSAN"
           ],
           "legendgroup": "NISSAN",
           "marker": {
            "color": "#FFA15A",
            "pattern": {
             "shape": ""
            }
           },
           "name": "NISSAN",
           "offsetgroup": "NISSAN",
           "orientation": "h",
           "showlegend": true,
           "textposition": "auto",
           "type": "bar",
           "x": [
            580
           ],
           "xaxis": "x",
           "y": [
            "NISSAN"
           ],
           "yaxis": "y"
          },
          {
           "alignmentgroup": "True",
           "hovertemplate": "EV Make=%{y}<br>Model Year=2020<br>Number of EVs=%{x}<extra></extra>",
           "ids": [
            "BMW"
           ],
           "legendgroup": "BMW",
           "marker": {
            "color": "#19d3f3",
            "pattern": {
             "shape": ""
            }
           },
           "name": "BMW",
           "offsetgroup": "BMW",
           "orientation": "h",
           "showlegend": true,
           "textposition": "auto",
           "type": "bar",
           "x": [
            143
           ],
           "xaxis": "x",
           "y": [
            "BMW"
           ],
           "yaxis": "y"
          },
          {
           "alignmentgroup": "True",
           "hovertemplate": "EV Make=%{y}<br>Model Year=2020<br>Number of EVs=%{x}<extra></extra>",
           "ids": [
            "KIA"
           ],
           "legendgroup": "KIA",
           "marker": {
            "color": "#B6E880",
            "pattern": {
             "shape": ""
            }
           },
           "name": "KIA",
           "offsetgroup": "KIA",
           "orientation": "h",
           "showlegend": true,
           "textposition": "auto",
           "type": "bar",
           "x": [
            535
           ],
           "xaxis": "x",
           "y": [
            "KIA"
           ],
           "yaxis": "y"
          },
          {
           "alignmentgroup": "True",
           "hovertemplate": "EV Make=%{y}<br>Model Year=2020<br>Number of EVs=%{x}<extra></extra>",
           "ids": [
            "AUDI"
           ],
           "legendgroup": "AUDI",
           "marker": {
            "color": "#FF97FF",
            "pattern": {
             "shape": ""
            }
           },
           "name": "AUDI",
           "offsetgroup": "AUDI",
           "orientation": "h",
           "showlegend": true,
           "textposition": "auto",
           "type": "bar",
           "x": [
            224
           ],
           "xaxis": "x",
           "y": [
            "AUDI"
           ],
           "yaxis": "y"
          },
          {
           "alignmentgroup": "True",
           "hovertemplate": "EV Make=%{y}<br>Model Year=2020<br>Number of EVs=%{x}<extra></extra>",
           "ids": [
            "VOLVO"
           ],
           "legendgroup": "VOLVO",
           "marker": {
            "color": "#FECB52",
            "pattern": {
             "shape": ""
            }
           },
           "name": "VOLVO",
           "offsetgroup": "VOLVO",
           "orientation": "h",
           "showlegend": true,
           "textposition": "auto",
           "type": "bar",
           "x": [
            162
           ],
           "xaxis": "x",
           "y": [
            "VOLVO"
           ],
           "yaxis": "y"
          }
         ],
         "name": "2020"
        },
        {
         "data": [
          {
           "alignmentgroup": "True",
           "hovertemplate": "EV Make=%{y}<br>Model Year=2021<br>Number of EVs=%{x}<extra></extra>",
           "ids": [
            "CHEVROLET"
           ],
           "legendgroup": "CHEVROLET",
           "marker": {
            "color": "#636efa",
            "pattern": {
             "shape": ""
            }
           },
           "name": "CHEVROLET",
           "offsetgroup": "CHEVROLET",
           "orientation": "h",
           "showlegend": true,
           "textposition": "auto",
           "type": "bar",
           "x": [
            377
           ],
           "xaxis": "x",
           "y": [
            "CHEVROLET"
           ],
           "yaxis": "y"
          },
          {
           "alignmentgroup": "True",
           "hovertemplate": "EV Make=%{y}<br>Model Year=2021<br>Number of EVs=%{x}<extra></extra>",
           "ids": [
            "FORD"
           ],
           "legendgroup": "FORD",
           "marker": {
            "color": "#EF553B",
            "pattern": {
             "shape": ""
            }
           },
           "name": "FORD",
           "offsetgroup": "FORD",
           "orientation": "h",
           "showlegend": true,
           "textposition": "auto",
           "type": "bar",
           "x": [
            882
           ],
           "xaxis": "x",
           "y": [
            "FORD"
           ],
           "yaxis": "y"
          },
          {
           "alignmentgroup": "True",
           "hovertemplate": "EV Make=%{y}<br>Model Year=2021<br>Number of EVs=%{x}<extra></extra>",
           "ids": [
            "TOYOTA"
           ],
           "legendgroup": "TOYOTA",
           "marker": {
            "color": "#00cc96",
            "pattern": {
             "shape": ""
            }
           },
           "name": "TOYOTA",
           "offsetgroup": "TOYOTA",
           "orientation": "h",
           "showlegend": true,
           "textposition": "auto",
           "type": "bar",
           "x": [
            935
           ],
           "xaxis": "x",
           "y": [
            "TOYOTA"
           ],
           "yaxis": "y"
          },
          {
           "alignmentgroup": "True",
           "hovertemplate": "EV Make=%{y}<br>Model Year=2021<br>Number of EVs=%{x}<extra></extra>",
           "ids": [
            "TESLA"
           ],
           "legendgroup": "TESLA",
           "marker": {
            "color": "#ab63fa",
            "pattern": {
             "shape": ""
            }
           },
           "name": "TESLA",
           "offsetgroup": "TESLA",
           "orientation": "h",
           "showlegend": true,
           "textposition": "auto",
           "type": "bar",
           "x": [
            11028
           ],
           "xaxis": "x",
           "y": [
            "TESLA"
           ],
           "yaxis": "y"
          },
          {
           "alignmentgroup": "True",
           "hovertemplate": "EV Make=%{y}<br>Model Year=2021<br>Number of EVs=%{x}<extra></extra>",
           "ids": [
            "NISSAN"
           ],
           "legendgroup": "NISSAN",
           "marker": {
            "color": "#FFA15A",
            "pattern": {
             "shape": ""
            }
           },
           "name": "NISSAN",
           "offsetgroup": "NISSAN",
           "orientation": "h",
           "showlegend": true,
           "textposition": "auto",
           "type": "bar",
           "x": [
            534
           ],
           "xaxis": "x",
           "y": [
            "NISSAN"
           ],
           "yaxis": "y"
          },
          {
           "alignmentgroup": "True",
           "hovertemplate": "EV Make=%{y}<br>Model Year=2021<br>Number of EVs=%{x}<extra></extra>",
           "ids": [
            "BMW"
           ],
           "legendgroup": "BMW",
           "marker": {
            "color": "#19d3f3",
            "pattern": {
             "shape": ""
            }
           },
           "name": "BMW",
           "offsetgroup": "BMW",
           "orientation": "h",
           "showlegend": true,
           "textposition": "auto",
           "type": "bar",
           "x": [
            635
           ],
           "xaxis": "x",
           "y": [
            "BMW"
           ],
           "yaxis": "y"
          },
          {
           "alignmentgroup": "True",
           "hovertemplate": "EV Make=%{y}<br>Model Year=2021<br>Number of EVs=%{x}<extra></extra>",
           "ids": [
            "VOLKSWAGEN"
           ],
           "legendgroup": "VOLKSWAGEN",
           "marker": {
            "color": "#FF6692",
            "pattern": {
             "shape": ""
            }
           },
           "name": "VOLKSWAGEN",
           "offsetgroup": "VOLKSWAGEN",
           "orientation": "h",
           "showlegend": true,
           "textposition": "auto",
           "type": "bar",
           "x": [
            988
           ],
           "xaxis": "x",
           "y": [
            "VOLKSWAGEN"
           ],
           "yaxis": "y"
          },
          {
           "alignmentgroup": "True",
           "hovertemplate": "EV Make=%{y}<br>Model Year=2021<br>Number of EVs=%{x}<extra></extra>",
           "ids": [
            "KIA"
           ],
           "legendgroup": "KIA",
           "marker": {
            "color": "#B6E880",
            "pattern": {
             "shape": ""
            }
           },
           "name": "KIA",
           "offsetgroup": "KIA",
           "orientation": "h",
           "showlegend": true,
           "textposition": "auto",
           "type": "bar",
           "x": [
            74
           ],
           "xaxis": "x",
           "y": [
            "KIA"
           ],
           "yaxis": "y"
          },
          {
           "alignmentgroup": "True",
           "hovertemplate": "EV Make=%{y}<br>Model Year=2021<br>Number of EVs=%{x}<extra></extra>",
           "ids": [
            "AUDI"
           ],
           "legendgroup": "AUDI",
           "marker": {
            "color": "#FF97FF",
            "pattern": {
             "shape": ""
            }
           },
           "name": "AUDI",
           "offsetgroup": "AUDI",
           "orientation": "h",
           "showlegend": true,
           "textposition": "auto",
           "type": "bar",
           "x": [
            544
           ],
           "xaxis": "x",
           "y": [
            "AUDI"
           ],
           "yaxis": "y"
          },
          {
           "alignmentgroup": "True",
           "hovertemplate": "EV Make=%{y}<br>Model Year=2021<br>Number of EVs=%{x}<extra></extra>",
           "ids": [
            "VOLVO"
           ],
           "legendgroup": "VOLVO",
           "marker": {
            "color": "#FECB52",
            "pattern": {
             "shape": ""
            }
           },
           "name": "VOLVO",
           "offsetgroup": "VOLVO",
           "orientation": "h",
           "showlegend": true,
           "textposition": "auto",
           "type": "bar",
           "x": [
            580
           ],
           "xaxis": "x",
           "y": [
            "VOLVO"
           ],
           "yaxis": "y"
          }
         ],
         "name": "2021"
        },
        {
         "data": [
          {
           "alignmentgroup": "True",
           "hovertemplate": "EV Make=%{y}<br>Model Year=2022<br>Number of EVs=%{x}<extra></extra>",
           "ids": [
            "CHEVROLET"
           ],
           "legendgroup": "CHEVROLET",
           "marker": {
            "color": "#636efa",
            "pattern": {
             "shape": ""
            }
           },
           "name": "CHEVROLET",
           "offsetgroup": "CHEVROLET",
           "orientation": "h",
           "showlegend": true,
           "textposition": "auto",
           "type": "bar",
           "x": [
            892
           ],
           "xaxis": "x",
           "y": [
            "CHEVROLET"
           ],
           "yaxis": "y"
          },
          {
           "alignmentgroup": "True",
           "hovertemplate": "EV Make=%{y}<br>Model Year=2022<br>Number of EVs=%{x}<extra></extra>",
           "ids": [
            "FORD"
           ],
           "legendgroup": "FORD",
           "marker": {
            "color": "#EF553B",
            "pattern": {
             "shape": ""
            }
           },
           "name": "FORD",
           "offsetgroup": "FORD",
           "orientation": "h",
           "showlegend": true,
           "textposition": "auto",
           "type": "bar",
           "x": [
            1250
           ],
           "xaxis": "x",
           "y": [
            "FORD"
           ],
           "yaxis": "y"
          },
          {
           "alignmentgroup": "True",
           "hovertemplate": "EV Make=%{y}<br>Model Year=2022<br>Number of EVs=%{x}<extra></extra>",
           "ids": [
            "TOYOTA"
           ],
           "legendgroup": "TOYOTA",
           "marker": {
            "color": "#00cc96",
            "pattern": {
             "shape": ""
            }
           },
           "name": "TOYOTA",
           "offsetgroup": "TOYOTA",
           "orientation": "h",
           "showlegend": true,
           "textposition": "auto",
           "type": "bar",
           "x": [
            424
           ],
           "xaxis": "x",
           "y": [
            "TOYOTA"
           ],
           "yaxis": "y"
          },
          {
           "alignmentgroup": "True",
           "hovertemplate": "EV Make=%{y}<br>Model Year=2022<br>Number of EVs=%{x}<extra></extra>",
           "ids": [
            "TESLA"
           ],
           "legendgroup": "TESLA",
           "marker": {
            "color": "#ab63fa",
            "pattern": {
             "shape": ""
            }
           },
           "name": "TESLA",
           "offsetgroup": "TESLA",
           "orientation": "h",
           "showlegend": true,
           "textposition": "auto",
           "type": "bar",
           "x": [
            14548
           ],
           "xaxis": "x",
           "y": [
            "TESLA"
           ],
           "yaxis": "y"
          },
          {
           "alignmentgroup": "True",
           "hovertemplate": "EV Make=%{y}<br>Model Year=2022<br>Number of EVs=%{x}<extra></extra>",
           "ids": [
            "NISSAN"
           ],
           "legendgroup": "NISSAN",
           "marker": {
            "color": "#FFA15A",
            "pattern": {
             "shape": ""
            }
           },
           "name": "NISSAN",
           "offsetgroup": "NISSAN",
           "orientation": "h",
           "showlegend": true,
           "textposition": "auto",
           "type": "bar",
           "x": [
            970
           ],
           "xaxis": "x",
           "y": [
            "NISSAN"
           ],
           "yaxis": "y"
          },
          {
           "alignmentgroup": "True",
           "hovertemplate": "EV Make=%{y}<br>Model Year=2022<br>Number of EVs=%{x}<extra></extra>",
           "ids": [
            "BMW"
           ],
           "legendgroup": "BMW",
           "marker": {
            "color": "#19d3f3",
            "pattern": {
             "shape": ""
            }
           },
           "name": "BMW",
           "offsetgroup": "BMW",
           "orientation": "h",
           "showlegend": true,
           "textposition": "auto",
           "type": "bar",
           "x": [
            905
           ],
           "xaxis": "x",
           "y": [
            "BMW"
           ],
           "yaxis": "y"
          },
          {
           "alignmentgroup": "True",
           "hovertemplate": "EV Make=%{y}<br>Model Year=2022<br>Number of EVs=%{x}<extra></extra>",
           "ids": [
            "VOLKSWAGEN"
           ],
           "legendgroup": "VOLKSWAGEN",
           "marker": {
            "color": "#FF6692",
            "pattern": {
             "shape": ""
            }
           },
           "name": "VOLKSWAGEN",
           "offsetgroup": "VOLKSWAGEN",
           "orientation": "h",
           "showlegend": true,
           "textposition": "auto",
           "type": "bar",
           "x": [
            428
           ],
           "xaxis": "x",
           "y": [
            "VOLKSWAGEN"
           ],
           "yaxis": "y"
          },
          {
           "alignmentgroup": "True",
           "hovertemplate": "EV Make=%{y}<br>Model Year=2022<br>Number of EVs=%{x}<extra></extra>",
           "ids": [
            "KIA"
           ],
           "legendgroup": "KIA",
           "marker": {
            "color": "#B6E880",
            "pattern": {
             "shape": ""
            }
           },
           "name": "KIA",
           "offsetgroup": "KIA",
           "orientation": "h",
           "showlegend": true,
           "textposition": "auto",
           "type": "bar",
           "x": [
            2153
           ],
           "xaxis": "x",
           "y": [
            "KIA"
           ],
           "yaxis": "y"
          },
          {
           "alignmentgroup": "True",
           "hovertemplate": "EV Make=%{y}<br>Model Year=2022<br>Number of EVs=%{x}<extra></extra>",
           "ids": [
            "AUDI"
           ],
           "legendgroup": "AUDI",
           "marker": {
            "color": "#FF97FF",
            "pattern": {
             "shape": ""
            }
           },
           "name": "AUDI",
           "offsetgroup": "AUDI",
           "orientation": "h",
           "showlegend": true,
           "textposition": "auto",
           "type": "bar",
           "x": [
            585
           ],
           "xaxis": "x",
           "y": [
            "AUDI"
           ],
           "yaxis": "y"
          },
          {
           "alignmentgroup": "True",
           "hovertemplate": "EV Make=%{y}<br>Model Year=2022<br>Number of EVs=%{x}<extra></extra>",
           "ids": [
            "VOLVO"
           ],
           "legendgroup": "VOLVO",
           "marker": {
            "color": "#FECB52",
            "pattern": {
             "shape": ""
            }
           },
           "name": "VOLVO",
           "offsetgroup": "VOLVO",
           "orientation": "h",
           "showlegend": true,
           "textposition": "auto",
           "type": "bar",
           "x": [
            882
           ],
           "xaxis": "x",
           "y": [
            "VOLVO"
           ],
           "yaxis": "y"
          }
         ],
         "name": "2022"
        },
        {
         "data": [
          {
           "alignmentgroup": "True",
           "hovertemplate": "EV Make=%{y}<br>Model Year=2023<br>Number of EVs=%{x}<extra></extra>",
           "ids": [
            "CHEVROLET"
           ],
           "legendgroup": "CHEVROLET",
           "marker": {
            "color": "#636efa",
            "pattern": {
             "shape": ""
            }
           },
           "name": "CHEVROLET",
           "offsetgroup": "CHEVROLET",
           "orientation": "h",
           "showlegend": true,
           "textposition": "auto",
           "type": "bar",
           "x": [
            177
           ],
           "xaxis": "x",
           "y": [
            "CHEVROLET"
           ],
           "yaxis": "y"
          },
          {
           "alignmentgroup": "True",
           "hovertemplate": "EV Make=%{y}<br>Model Year=2023<br>Number of EVs=%{x}<extra></extra>",
           "ids": [
            "FORD"
           ],
           "legendgroup": "FORD",
           "marker": {
            "color": "#EF553B",
            "pattern": {
             "shape": ""
            }
           },
           "name": "FORD",
           "offsetgroup": "FORD",
           "orientation": "h",
           "showlegend": true,
           "textposition": "auto",
           "type": "bar",
           "x": [
            4
           ],
           "xaxis": "x",
           "y": [
            "FORD"
           ],
           "yaxis": "y"
          },
          {
           "alignmentgroup": "True",
           "hovertemplate": "EV Make=%{y}<br>Model Year=2023<br>Number of EVs=%{x}<extra></extra>",
           "ids": [
            "TESLA"
           ],
           "legendgroup": "TESLA",
           "marker": {
            "color": "#ab63fa",
            "pattern": {
             "shape": ""
            }
           },
           "name": "TESLA",
           "offsetgroup": "TESLA",
           "orientation": "h",
           "showlegend": true,
           "textposition": "auto",
           "type": "bar",
           "x": [
            890
           ],
           "xaxis": "x",
           "y": [
            "TESLA"
           ],
           "yaxis": "y"
          },
          {
           "alignmentgroup": "True",
           "hovertemplate": "EV Make=%{y}<br>Model Year=2023<br>Number of EVs=%{x}<extra></extra>",
           "ids": [
            "NISSAN"
           ],
           "legendgroup": "NISSAN",
           "marker": {
            "color": "#FFA15A",
            "pattern": {
             "shape": ""
            }
           },
           "name": "NISSAN",
           "offsetgroup": "NISSAN",
           "orientation": "h",
           "showlegend": true,
           "textposition": "auto",
           "type": "bar",
           "x": [
            149
           ],
           "xaxis": "x",
           "y": [
            "NISSAN"
           ],
           "yaxis": "y"
          },
          {
           "alignmentgroup": "True",
           "hovertemplate": "EV Make=%{y}<br>Model Year=2023<br>Number of EVs=%{x}<extra></extra>",
           "ids": [
            "BMW"
           ],
           "legendgroup": "BMW",
           "marker": {
            "color": "#19d3f3",
            "pattern": {
             "shape": ""
            }
           },
           "name": "BMW",
           "offsetgroup": "BMW",
           "orientation": "h",
           "showlegend": true,
           "textposition": "auto",
           "type": "bar",
           "x": [
            73
           ],
           "xaxis": "x",
           "y": [
            "BMW"
           ],
           "yaxis": "y"
          },
          {
           "alignmentgroup": "True",
           "hovertemplate": "EV Make=%{y}<br>Model Year=2023<br>Number of EVs=%{x}<extra></extra>",
           "ids": [
            "VOLKSWAGEN"
           ],
           "legendgroup": "VOLKSWAGEN",
           "marker": {
            "color": "#FF6692",
            "pattern": {
             "shape": ""
            }
           },
           "name": "VOLKSWAGEN",
           "offsetgroup": "VOLKSWAGEN",
           "orientation": "h",
           "showlegend": true,
           "textposition": "auto",
           "type": "bar",
           "x": [
            69
           ],
           "xaxis": "x",
           "y": [
            "VOLKSWAGEN"
           ],
           "yaxis": "y"
          },
          {
           "alignmentgroup": "True",
           "hovertemplate": "EV Make=%{y}<br>Model Year=2023<br>Number of EVs=%{x}<extra></extra>",
           "ids": [
            "KIA"
           ],
           "legendgroup": "KIA",
           "marker": {
            "color": "#B6E880",
            "pattern": {
             "shape": ""
            }
           },
           "name": "KIA",
           "offsetgroup": "KIA",
           "orientation": "h",
           "showlegend": true,
           "textposition": "auto",
           "type": "bar",
           "x": [
            79
           ],
           "xaxis": "x",
           "y": [
            "KIA"
           ],
           "yaxis": "y"
          },
          {
           "alignmentgroup": "True",
           "hovertemplate": "EV Make=%{y}<br>Model Year=2023<br>Number of EVs=%{x}<extra></extra>",
           "ids": [
            "AUDI"
           ],
           "legendgroup": "AUDI",
           "marker": {
            "color": "#FF97FF",
            "pattern": {
             "shape": ""
            }
           },
           "name": "AUDI",
           "offsetgroup": "AUDI",
           "orientation": "h",
           "showlegend": true,
           "textposition": "auto",
           "type": "bar",
           "x": [
            12
           ],
           "xaxis": "x",
           "y": [
            "AUDI"
           ],
           "yaxis": "y"
          },
          {
           "alignmentgroup": "True",
           "hovertemplate": "EV Make=%{y}<br>Model Year=2023<br>Number of EVs=%{x}<extra></extra>",
           "ids": [
            "VOLVO"
           ],
           "legendgroup": "VOLVO",
           "marker": {
            "color": "#FECB52",
            "pattern": {
             "shape": ""
            }
           },
           "name": "VOLVO",
           "offsetgroup": "VOLVO",
           "orientation": "h",
           "showlegend": true,
           "textposition": "auto",
           "type": "bar",
           "x": [
            21
           ],
           "xaxis": "x",
           "y": [
            "VOLVO"
           ],
           "yaxis": "y"
          }
         ],
         "name": "2023"
        }
       ],
       "layout": {
        "autosize": true,
        "barmode": "relative",
        "legend": {
         "title": {
          "text": "EV Make"
         },
         "tracegroupgap": 0
        },
        "sliders": [
         {
          "active": 0,
          "currentvalue": {
           "prefix": "Model Year="
          },
          "len": 0.9,
          "pad": {
           "b": 10,
           "t": 60
          },
          "steps": [
           {
            "args": [
             [
              "1997"
             ],
             {
              "frame": {
               "duration": 0,
               "redraw": true
              },
              "fromcurrent": true,
              "mode": "immediate",
              "transition": {
               "duration": 0,
               "easing": "linear"
              }
             }
            ],
            "label": "1997",
            "method": "animate"
           },
           {
            "args": [
             [
              "1998"
             ],
             {
              "frame": {
               "duration": 0,
               "redraw": true
              },
              "fromcurrent": true,
              "mode": "immediate",
              "transition": {
               "duration": 0,
               "easing": "linear"
              }
             }
            ],
            "label": "1998",
            "method": "animate"
           },
           {
            "args": [
             [
              "1999"
             ],
             {
              "frame": {
               "duration": 0,
               "redraw": true
              },
              "fromcurrent": true,
              "mode": "immediate",
              "transition": {
               "duration": 0,
               "easing": "linear"
              }
             }
            ],
            "label": "1999",
            "method": "animate"
           },
           {
            "args": [
             [
              "2000"
             ],
             {
              "frame": {
               "duration": 0,
               "redraw": true
              },
              "fromcurrent": true,
              "mode": "immediate",
              "transition": {
               "duration": 0,
               "easing": "linear"
              }
             }
            ],
            "label": "2000",
            "method": "animate"
           },
           {
            "args": [
             [
              "2002"
             ],
             {
              "frame": {
               "duration": 0,
               "redraw": true
              },
              "fromcurrent": true,
              "mode": "immediate",
              "transition": {
               "duration": 0,
               "easing": "linear"
              }
             }
            ],
            "label": "2002",
            "method": "animate"
           },
           {
            "args": [
             [
              "2008"
             ],
             {
              "frame": {
               "duration": 0,
               "redraw": true
              },
              "fromcurrent": true,
              "mode": "immediate",
              "transition": {
               "duration": 0,
               "easing": "linear"
              }
             }
            ],
            "label": "2008",
            "method": "animate"
           },
           {
            "args": [
             [
              "2010"
             ],
             {
              "frame": {
               "duration": 0,
               "redraw": true
              },
              "fromcurrent": true,
              "mode": "immediate",
              "transition": {
               "duration": 0,
               "easing": "linear"
              }
             }
            ],
            "label": "2010",
            "method": "animate"
           },
           {
            "args": [
             [
              "2011"
             ],
             {
              "frame": {
               "duration": 0,
               "redraw": true
              },
              "fromcurrent": true,
              "mode": "immediate",
              "transition": {
               "duration": 0,
               "easing": "linear"
              }
             }
            ],
            "label": "2011",
            "method": "animate"
           },
           {
            "args": [
             [
              "2012"
             ],
             {
              "frame": {
               "duration": 0,
               "redraw": true
              },
              "fromcurrent": true,
              "mode": "immediate",
              "transition": {
               "duration": 0,
               "easing": "linear"
              }
             }
            ],
            "label": "2012",
            "method": "animate"
           },
           {
            "args": [
             [
              "2013"
             ],
             {
              "frame": {
               "duration": 0,
               "redraw": true
              },
              "fromcurrent": true,
              "mode": "immediate",
              "transition": {
               "duration": 0,
               "easing": "linear"
              }
             }
            ],
            "label": "2013",
            "method": "animate"
           },
           {
            "args": [
             [
              "2014"
             ],
             {
              "frame": {
               "duration": 0,
               "redraw": true
              },
              "fromcurrent": true,
              "mode": "immediate",
              "transition": {
               "duration": 0,
               "easing": "linear"
              }
             }
            ],
            "label": "2014",
            "method": "animate"
           },
           {
            "args": [
             [
              "2015"
             ],
             {
              "frame": {
               "duration": 0,
               "redraw": true
              },
              "fromcurrent": true,
              "mode": "immediate",
              "transition": {
               "duration": 0,
               "easing": "linear"
              }
             }
            ],
            "label": "2015",
            "method": "animate"
           },
           {
            "args": [
             [
              "2016"
             ],
             {
              "frame": {
               "duration": 0,
               "redraw": true
              },
              "fromcurrent": true,
              "mode": "immediate",
              "transition": {
               "duration": 0,
               "easing": "linear"
              }
             }
            ],
            "label": "2016",
            "method": "animate"
           },
           {
            "args": [
             [
              "2017"
             ],
             {
              "frame": {
               "duration": 0,
               "redraw": true
              },
              "fromcurrent": true,
              "mode": "immediate",
              "transition": {
               "duration": 0,
               "easing": "linear"
              }
             }
            ],
            "label": "2017",
            "method": "animate"
           },
           {
            "args": [
             [
              "2018"
             ],
             {
              "frame": {
               "duration": 0,
               "redraw": true
              },
              "fromcurrent": true,
              "mode": "immediate",
              "transition": {
               "duration": 0,
               "easing": "linear"
              }
             }
            ],
            "label": "2018",
            "method": "animate"
           },
           {
            "args": [
             [
              "2019"
             ],
             {
              "frame": {
               "duration": 0,
               "redraw": true
              },
              "fromcurrent": true,
              "mode": "immediate",
              "transition": {
               "duration": 0,
               "easing": "linear"
              }
             }
            ],
            "label": "2019",
            "method": "animate"
           },
           {
            "args": [
             [
              "2020"
             ],
             {
              "frame": {
               "duration": 0,
               "redraw": true
              },
              "fromcurrent": true,
              "mode": "immediate",
              "transition": {
               "duration": 0,
               "easing": "linear"
              }
             }
            ],
            "label": "2020",
            "method": "animate"
           },
           {
            "args": [
             [
              "2021"
             ],
             {
              "frame": {
               "duration": 0,
               "redraw": true
              },
              "fromcurrent": true,
              "mode": "immediate",
              "transition": {
               "duration": 0,
               "easing": "linear"
              }
             }
            ],
            "label": "2021",
            "method": "animate"
           },
           {
            "args": [
             [
              "2022"
             ],
             {
              "frame": {
               "duration": 0,
               "redraw": true
              },
              "fromcurrent": true,
              "mode": "immediate",
              "transition": {
               "duration": 0,
               "easing": "linear"
              }
             }
            ],
            "label": "2022",
            "method": "animate"
           },
           {
            "args": [
             [
              "2023"
             ],
             {
              "frame": {
               "duration": 0,
               "redraw": true
              },
              "fromcurrent": true,
              "mode": "immediate",
              "transition": {
               "duration": 0,
               "easing": "linear"
              }
             }
            ],
            "label": "2023",
            "method": "animate"
           }
          ],
          "x": 0.1,
          "xanchor": "left",
          "y": 0,
          "yanchor": "top"
         }
        ],
        "template": {
         "data": {
          "bar": [
           {
            "error_x": {
             "color": "#2a3f5f"
            },
            "error_y": {
             "color": "#2a3f5f"
            },
            "marker": {
             "line": {
              "color": "#E5ECF6",
              "width": 0.5
             },
             "pattern": {
              "fillmode": "overlay",
              "size": 10,
              "solidity": 0.2
             }
            },
            "type": "bar"
           }
          ],
          "barpolar": [
           {
            "marker": {
             "line": {
              "color": "#E5ECF6",
              "width": 0.5
             },
             "pattern": {
              "fillmode": "overlay",
              "size": 10,
              "solidity": 0.2
             }
            },
            "type": "barpolar"
           }
          ],
          "carpet": [
           {
            "aaxis": {
             "endlinecolor": "#2a3f5f",
             "gridcolor": "white",
             "linecolor": "white",
             "minorgridcolor": "white",
             "startlinecolor": "#2a3f5f"
            },
            "baxis": {
             "endlinecolor": "#2a3f5f",
             "gridcolor": "white",
             "linecolor": "white",
             "minorgridcolor": "white",
             "startlinecolor": "#2a3f5f"
            },
            "type": "carpet"
           }
          ],
          "choropleth": [
           {
            "colorbar": {
             "outlinewidth": 0,
             "ticks": ""
            },
            "type": "choropleth"
           }
          ],
          "contour": [
           {
            "colorbar": {
             "outlinewidth": 0,
             "ticks": ""
            },
            "colorscale": [
             [
              0,
              "#0d0887"
             ],
             [
              0.1111111111111111,
              "#46039f"
             ],
             [
              0.2222222222222222,
              "#7201a8"
             ],
             [
              0.3333333333333333,
              "#9c179e"
             ],
             [
              0.4444444444444444,
              "#bd3786"
             ],
             [
              0.5555555555555556,
              "#d8576b"
             ],
             [
              0.6666666666666666,
              "#ed7953"
             ],
             [
              0.7777777777777778,
              "#fb9f3a"
             ],
             [
              0.8888888888888888,
              "#fdca26"
             ],
             [
              1,
              "#f0f921"
             ]
            ],
            "type": "contour"
           }
          ],
          "contourcarpet": [
           {
            "colorbar": {
             "outlinewidth": 0,
             "ticks": ""
            },
            "type": "contourcarpet"
           }
          ],
          "heatmap": [
           {
            "colorbar": {
             "outlinewidth": 0,
             "ticks": ""
            },
            "colorscale": [
             [
              0,
              "#0d0887"
             ],
             [
              0.1111111111111111,
              "#46039f"
             ],
             [
              0.2222222222222222,
              "#7201a8"
             ],
             [
              0.3333333333333333,
              "#9c179e"
             ],
             [
              0.4444444444444444,
              "#bd3786"
             ],
             [
              0.5555555555555556,
              "#d8576b"
             ],
             [
              0.6666666666666666,
              "#ed7953"
             ],
             [
              0.7777777777777778,
              "#fb9f3a"
             ],
             [
              0.8888888888888888,
              "#fdca26"
             ],
             [
              1,
              "#f0f921"
             ]
            ],
            "type": "heatmap"
           }
          ],
          "heatmapgl": [
           {
            "colorbar": {
             "outlinewidth": 0,
             "ticks": ""
            },
            "colorscale": [
             [
              0,
              "#0d0887"
             ],
             [
              0.1111111111111111,
              "#46039f"
             ],
             [
              0.2222222222222222,
              "#7201a8"
             ],
             [
              0.3333333333333333,
              "#9c179e"
             ],
             [
              0.4444444444444444,
              "#bd3786"
             ],
             [
              0.5555555555555556,
              "#d8576b"
             ],
             [
              0.6666666666666666,
              "#ed7953"
             ],
             [
              0.7777777777777778,
              "#fb9f3a"
             ],
             [
              0.8888888888888888,
              "#fdca26"
             ],
             [
              1,
              "#f0f921"
             ]
            ],
            "type": "heatmapgl"
           }
          ],
          "histogram": [
           {
            "marker": {
             "pattern": {
              "fillmode": "overlay",
              "size": 10,
              "solidity": 0.2
             }
            },
            "type": "histogram"
           }
          ],
          "histogram2d": [
           {
            "colorbar": {
             "outlinewidth": 0,
             "ticks": ""
            },
            "colorscale": [
             [
              0,
              "#0d0887"
             ],
             [
              0.1111111111111111,
              "#46039f"
             ],
             [
              0.2222222222222222,
              "#7201a8"
             ],
             [
              0.3333333333333333,
              "#9c179e"
             ],
             [
              0.4444444444444444,
              "#bd3786"
             ],
             [
              0.5555555555555556,
              "#d8576b"
             ],
             [
              0.6666666666666666,
              "#ed7953"
             ],
             [
              0.7777777777777778,
              "#fb9f3a"
             ],
             [
              0.8888888888888888,
              "#fdca26"
             ],
             [
              1,
              "#f0f921"
             ]
            ],
            "type": "histogram2d"
           }
          ],
          "histogram2dcontour": [
           {
            "colorbar": {
             "outlinewidth": 0,
             "ticks": ""
            },
            "colorscale": [
             [
              0,
              "#0d0887"
             ],
             [
              0.1111111111111111,
              "#46039f"
             ],
             [
              0.2222222222222222,
              "#7201a8"
             ],
             [
              0.3333333333333333,
              "#9c179e"
             ],
             [
              0.4444444444444444,
              "#bd3786"
             ],
             [
              0.5555555555555556,
              "#d8576b"
             ],
             [
              0.6666666666666666,
              "#ed7953"
             ],
             [
              0.7777777777777778,
              "#fb9f3a"
             ],
             [
              0.8888888888888888,
              "#fdca26"
             ],
             [
              1,
              "#f0f921"
             ]
            ],
            "type": "histogram2dcontour"
           }
          ],
          "mesh3d": [
           {
            "colorbar": {
             "outlinewidth": 0,
             "ticks": ""
            },
            "type": "mesh3d"
           }
          ],
          "parcoords": [
           {
            "line": {
             "colorbar": {
              "outlinewidth": 0,
              "ticks": ""
             }
            },
            "type": "parcoords"
           }
          ],
          "pie": [
           {
            "automargin": true,
            "type": "pie"
           }
          ],
          "scatter": [
           {
            "fillpattern": {
             "fillmode": "overlay",
             "size": 10,
             "solidity": 0.2
            },
            "type": "scatter"
           }
          ],
          "scatter3d": [
           {
            "line": {
             "colorbar": {
              "outlinewidth": 0,
              "ticks": ""
             }
            },
            "marker": {
             "colorbar": {
              "outlinewidth": 0,
              "ticks": ""
             }
            },
            "type": "scatter3d"
           }
          ],
          "scattercarpet": [
           {
            "marker": {
             "colorbar": {
              "outlinewidth": 0,
              "ticks": ""
             }
            },
            "type": "scattercarpet"
           }
          ],
          "scattergeo": [
           {
            "marker": {
             "colorbar": {
              "outlinewidth": 0,
              "ticks": ""
             }
            },
            "type": "scattergeo"
           }
          ],
          "scattergl": [
           {
            "marker": {
             "colorbar": {
              "outlinewidth": 0,
              "ticks": ""
             }
            },
            "type": "scattergl"
           }
          ],
          "scattermapbox": [
           {
            "marker": {
             "colorbar": {
              "outlinewidth": 0,
              "ticks": ""
             }
            },
            "type": "scattermapbox"
           }
          ],
          "scatterpolar": [
           {
            "marker": {
             "colorbar": {
              "outlinewidth": 0,
              "ticks": ""
             }
            },
            "type": "scatterpolar"
           }
          ],
          "scatterpolargl": [
           {
            "marker": {
             "colorbar": {
              "outlinewidth": 0,
              "ticks": ""
             }
            },
            "type": "scatterpolargl"
           }
          ],
          "scatterternary": [
           {
            "marker": {
             "colorbar": {
              "outlinewidth": 0,
              "ticks": ""
             }
            },
            "type": "scatterternary"
           }
          ],
          "surface": [
           {
            "colorbar": {
             "outlinewidth": 0,
             "ticks": ""
            },
            "colorscale": [
             [
              0,
              "#0d0887"
             ],
             [
              0.1111111111111111,
              "#46039f"
             ],
             [
              0.2222222222222222,
              "#7201a8"
             ],
             [
              0.3333333333333333,
              "#9c179e"
             ],
             [
              0.4444444444444444,
              "#bd3786"
             ],
             [
              0.5555555555555556,
              "#d8576b"
             ],
             [
              0.6666666666666666,
              "#ed7953"
             ],
             [
              0.7777777777777778,
              "#fb9f3a"
             ],
             [
              0.8888888888888888,
              "#fdca26"
             ],
             [
              1,
              "#f0f921"
             ]
            ],
            "type": "surface"
           }
          ],
          "table": [
           {
            "cells": {
             "fill": {
              "color": "#EBF0F8"
             },
             "line": {
              "color": "white"
             }
            },
            "header": {
             "fill": {
              "color": "#C8D4E3"
             },
             "line": {
              "color": "white"
             }
            },
            "type": "table"
           }
          ]
         },
         "layout": {
          "annotationdefaults": {
           "arrowcolor": "#2a3f5f",
           "arrowhead": 0,
           "arrowwidth": 1
          },
          "autotypenumbers": "strict",
          "coloraxis": {
           "colorbar": {
            "outlinewidth": 0,
            "ticks": ""
           }
          },
          "colorscale": {
           "diverging": [
            [
             0,
             "#8e0152"
            ],
            [
             0.1,
             "#c51b7d"
            ],
            [
             0.2,
             "#de77ae"
            ],
            [
             0.3,
             "#f1b6da"
            ],
            [
             0.4,
             "#fde0ef"
            ],
            [
             0.5,
             "#f7f7f7"
            ],
            [
             0.6,
             "#e6f5d0"
            ],
            [
             0.7,
             "#b8e186"
            ],
            [
             0.8,
             "#7fbc41"
            ],
            [
             0.9,
             "#4d9221"
            ],
            [
             1,
             "#276419"
            ]
           ],
           "sequential": [
            [
             0,
             "#0d0887"
            ],
            [
             0.1111111111111111,
             "#46039f"
            ],
            [
             0.2222222222222222,
             "#7201a8"
            ],
            [
             0.3333333333333333,
             "#9c179e"
            ],
            [
             0.4444444444444444,
             "#bd3786"
            ],
            [
             0.5555555555555556,
             "#d8576b"
            ],
            [
             0.6666666666666666,
             "#ed7953"
            ],
            [
             0.7777777777777778,
             "#fb9f3a"
            ],
            [
             0.8888888888888888,
             "#fdca26"
            ],
            [
             1,
             "#f0f921"
            ]
           ],
           "sequentialminus": [
            [
             0,
             "#0d0887"
            ],
            [
             0.1111111111111111,
             "#46039f"
            ],
            [
             0.2222222222222222,
             "#7201a8"
            ],
            [
             0.3333333333333333,
             "#9c179e"
            ],
            [
             0.4444444444444444,
             "#bd3786"
            ],
            [
             0.5555555555555556,
             "#d8576b"
            ],
            [
             0.6666666666666666,
             "#ed7953"
            ],
            [
             0.7777777777777778,
             "#fb9f3a"
            ],
            [
             0.8888888888888888,
             "#fdca26"
            ],
            [
             1,
             "#f0f921"
            ]
           ]
          },
          "colorway": [
           "#636efa",
           "#EF553B",
           "#00cc96",
           "#ab63fa",
           "#FFA15A",
           "#19d3f3",
           "#FF6692",
           "#B6E880",
           "#FF97FF",
           "#FECB52"
          ],
          "font": {
           "color": "#2a3f5f"
          },
          "geo": {
           "bgcolor": "white",
           "lakecolor": "white",
           "landcolor": "#E5ECF6",
           "showlakes": true,
           "showland": true,
           "subunitcolor": "white"
          },
          "hoverlabel": {
           "align": "left"
          },
          "hovermode": "closest",
          "mapbox": {
           "style": "light"
          },
          "paper_bgcolor": "white",
          "plot_bgcolor": "#E5ECF6",
          "polar": {
           "angularaxis": {
            "gridcolor": "white",
            "linecolor": "white",
            "ticks": ""
           },
           "bgcolor": "#E5ECF6",
           "radialaxis": {
            "gridcolor": "white",
            "linecolor": "white",
            "ticks": ""
           }
          },
          "scene": {
           "xaxis": {
            "backgroundcolor": "#E5ECF6",
            "gridcolor": "white",
            "gridwidth": 2,
            "linecolor": "white",
            "showbackground": true,
            "ticks": "",
            "zerolinecolor": "white"
           },
           "yaxis": {
            "backgroundcolor": "#E5ECF6",
            "gridcolor": "white",
            "gridwidth": 2,
            "linecolor": "white",
            "showbackground": true,
            "ticks": "",
            "zerolinecolor": "white"
           },
           "zaxis": {
            "backgroundcolor": "#E5ECF6",
            "gridcolor": "white",
            "gridwidth": 2,
            "linecolor": "white",
            "showbackground": true,
            "ticks": "",
            "zerolinecolor": "white"
           }
          },
          "shapedefaults": {
           "line": {
            "color": "#2a3f5f"
           }
          },
          "ternary": {
           "aaxis": {
            "gridcolor": "white",
            "linecolor": "white",
            "ticks": ""
           },
           "baxis": {
            "gridcolor": "white",
            "linecolor": "white",
            "ticks": ""
           },
           "bgcolor": "#E5ECF6",
           "caxis": {
            "gridcolor": "white",
            "linecolor": "white",
            "ticks": ""
           }
          },
          "title": {
           "x": 0.05
          },
          "xaxis": {
           "automargin": true,
           "gridcolor": "white",
           "linecolor": "white",
           "ticks": "",
           "title": {
            "standoff": 15
           },
           "zerolinecolor": "white",
           "zerolinewidth": 2
          },
          "yaxis": {
           "automargin": true,
           "gridcolor": "white",
           "linecolor": "white",
           "ticks": "",
           "title": {
            "standoff": 15
           },
           "zerolinecolor": "white",
           "zerolinewidth": 2
          }
         }
        },
        "title": {
         "text": "EV Make Counts Over Years"
        },
        "updatemenus": [
         {
          "buttons": [
           {
            "args": [
             null,
             {
              "frame": {
               "duration": 500,
               "redraw": true
              },
              "fromcurrent": true,
              "mode": "immediate",
              "transition": {
               "duration": 500,
               "easing": "linear"
              }
             }
            ],
            "label": "&#9654;",
            "method": "animate"
           },
           {
            "args": [
             [
              null
             ],
             {
              "frame": {
               "duration": 0,
               "redraw": true
              },
              "fromcurrent": true,
              "mode": "immediate",
              "transition": {
               "duration": 0,
               "easing": "linear"
              }
             }
            ],
            "label": "&#9724;",
            "method": "animate"
           }
          ],
          "direction": "left",
          "pad": {
           "r": 10,
           "t": 70
          },
          "showactive": false,
          "type": "buttons",
          "x": 0.1,
          "xanchor": "right",
          "y": 0,
          "yanchor": "top"
         }
        ],
        "xaxis": {
         "anchor": "y",
         "domain": [
          0,
          1
         ],
         "range": [
          0,
          14648
         ],
         "title": {
          "text": "Number of EVs"
         },
         "type": "linear"
        },
        "yaxis": {
         "anchor": "x",
         "autorange": true,
         "categoryarray": [
          "VOLVO",
          "AUDI",
          "KIA",
          "VOLKSWAGEN",
          "BMW",
          "NISSAN",
          "TESLA",
          "TOYOTA",
          "FORD",
          "CHEVROLET"
         ],
         "categoryorder": "array",
         "domain": [
          0,
          1
         ],
         "range": [
          9.5,
          8.5
         ],
         "title": {
          "text": "EV Make"
         },
         "type": "category"
        }
       }
      },
      "image/png": "[encoded data removed]",
      "text/html": [
       "<div>                            <div id=\"9c04b8ac-8678-4e32-8e5e-67357c1007ca\" class=\"plotly-graph-div\" style=\"height:600px; width:100%;\"></div>            <script type=\"text/javascript\">                require([\"plotly\"], function(Plotly) {                    window.PLOTLYENV=window.PLOTLYENV || {};                                    if (document.getElementById(\"9c04b8ac-8678-4e32-8e5e-67357c1007ca\")) {                    Plotly.newPlot(                        \"9c04b8ac-8678-4e32-8e5e-67357c1007ca\",                        [{\"alignmentgroup\":\"True\",\"hovertemplate\":\"EV Make=%{y}\\u003cbr\\u003eModel Year=1997\\u003cbr\\u003eNumber of EVs=%{x}\\u003cextra\\u003e\\u003c\\u002fextra\\u003e\",\"ids\":[\"CHEVROLET\"],\"legendgroup\":\"CHEVROLET\",\"marker\":{\"color\":\"#636efa\",\"pattern\":{\"shape\":\"\"}},\"name\":\"CHEVROLET\",\"offsetgroup\":\"CHEVROLET\",\"orientation\":\"h\",\"showlegend\":true,\"textposition\":\"auto\",\"x\":[1],\"xaxis\":\"x\",\"y\":[\"CHEVROLET\"],\"yaxis\":\"y\",\"type\":\"bar\"}],                        {\"template\":{\"data\":{\"histogram2dcontour\":[{\"type\":\"histogram2dcontour\",\"colorbar\":{\"outlinewidth\":0,\"ticks\":\"\"},\"colorscale\":[[0.0,\"#0d0887\"],[0.1111111111111111,\"#46039f\"],[0.2222222222222222,\"#7201a8\"],[0.3333333333333333,\"#9c179e\"],[0.4444444444444444,\"#bd3786\"],[0.5555555555555556,\"#d8576b\"],[0.6666666666666666,\"#ed7953\"],[0.7777777777777778,\"#fb9f3a\"],[0.8888888888888888,\"#fdca26\"],[1.0,\"#f0f921\"]]}],\"choropleth\":[{\"type\":\"choropleth\",\"colorbar\":{\"outlinewidth\":0,\"ticks\":\"\"}}],\"histogram2d\":[{\"type\":\"histogram2d\",\"colorbar\":{\"outlinewidth\":0,\"ticks\":\"\"},\"colorscale\":[[0.0,\"#0d0887\"],[0.1111111111111111,\"#46039f\"],[0.2222222222222222,\"#7201a8\"],[0.3333333333333333,\"#9c179e\"],[0.4444444444444444,\"#bd3786\"],[0.5555555555555556,\"#d8576b\"],[0.6666666666666666,\"#ed7953\"],[0.7777777777777778,\"#fb9f3a\"],[0.8888888888888888,\"#fdca26\"],[1.0,\"#f0f921\"]]}],\"heatmap\":[{\"type\":\"heatmap\",\"colorbar\":{\"outlinewidth\":0,\"ticks\":\"\"},\"colorscale\":[[0.0,\"#0d0887\"],[0.1111111111111111,\"#46039f\"],[0.2222222222222222,\"#7201a8\"],[0.3333333333333333,\"#9c179e\"],[0.4444444444444444,\"#bd3786\"],[0.5555555555555556,\"#d8576b\"],[0.6666666666666666,\"#ed7953\"],[0.7777777777777778,\"#fb9f3a\"],[0.8888888888888888,\"#fdca26\"],[1.0,\"#f0f921\"]]}],\"heatmapgl\":[{\"type\":\"heatmapgl\",\"colorbar\":{\"outlinewidth\":0,\"ticks\":\"\"},\"colorscale\":[[0.0,\"#0d0887\"],[0.1111111111111111,\"#46039f\"],[0.2222222222222222,\"#7201a8\"],[0.3333333333333333,\"#9c179e\"],[0.4444444444444444,\"#bd3786\"],[0.5555555555555556,\"#d8576b\"],[0.6666666666666666,\"#ed7953\"],[0.7777777777777778,\"#fb9f3a\"],[0.8888888888888888,\"#fdca26\"],[1.0,\"#f0f921\"]]}],\"contourcarpet\":[{\"type\":\"contourcarpet\",\"colorbar\":{\"outlinewidth\":0,\"ticks\":\"\"}}],\"contour\":[{\"type\":\"contour\",\"colorbar\":{\"outlinewidth\":0,\"ticks\":\"\"},\"colorscale\":[[0.0,\"#0d0887\"],[0.1111111111111111,\"#46039f\"],[0.2222222222222222,\"#7201a8\"],[0.3333333333333333,\"#9c179e\"],[0.4444444444444444,\"#bd3786\"],[0.5555555555555556,\"#d8576b\"],[0.6666666666666666,\"#ed7953\"],[0.7777777777777778,\"#fb9f3a\"],[0.8888888888888888,\"#fdca26\"],[1.0,\"#f0f921\"]]}],\"surface\":[{\"type\":\"surface\",\"colorbar\":{\"outlinewidth\":0,\"ticks\":\"\"},\"colorscale\":[[0.0,\"#0d0887\"],[0.1111111111111111,\"#46039f\"],[0.2222222222222222,\"#7201a8\"],[0.3333333333333333,\"#9c179e\"],[0.4444444444444444,\"#bd3786\"],[0.5555555555555556,\"#d8576b\"],[0.6666666666666666,\"#ed7953\"],[0.7777777777777778,\"#fb9f3a\"],[0.8888888888888888,\"#fdca26\"],[1.0,\"#f0f921\"]]}],\"mesh3d\":[{\"type\":\"mesh3d\",\"colorbar\":{\"outlinewidth\":0,\"ticks\":\"\"}}],\"scatter\":[{\"fillpattern\":{\"fillmode\":\"overlay\",\"size\":10,\"solidity\":0.2},\"type\":\"scatter\"}],\"parcoords\":[{\"type\":\"parcoords\",\"line\":{\"colorbar\":{\"outlinewidth\":0,\"ticks\":\"\"}}}],\"scatterpolargl\":[{\"type\":\"scatterpolargl\",\"marker\":{\"colorbar\":{\"outlinewidth\":0,\"ticks\":\"\"}}}],\"bar\":[{\"error_x\":{\"color\":\"#2a3f5f\"},\"error_y\":{\"color\":\"#2a3f5f\"},\"marker\":{\"line\":{\"color\":\"#E5ECF6\",\"width\":0.5},\"pattern\":{\"fillmode\":\"overlay\",\"size\":10,\"solidity\":0.2}},\"type\":\"bar\"}],\"scattergeo\":[{\"type\":\"scattergeo\",\"marker\":{\"colorbar\":{\"outlinewidth\":0,\"ticks\":\"\"}}}],\"scatterpolar\":[{\"type\":\"scatterpolar\",\"marker\":{\"colorbar\":{\"outlinewidth\":0,\"ticks\":\"\"}}}],\"histogram\":[{\"marker\":{\"pattern\":{\"fillmode\":\"overlay\",\"size\":10,\"solidity\":0.2}},\"type\":\"histogram\"}],\"scattergl\":[{\"type\":\"scattergl\",\"marker\":{\"colorbar\":{\"outlinewidth\":0,\"ticks\":\"\"}}}],\"scatter3d\":[{\"type\":\"scatter3d\",\"line\":{\"colorbar\":{\"outlinewidth\":0,\"ticks\":\"\"}},\"marker\":{\"colorbar\":{\"outlinewidth\":0,\"ticks\":\"\"}}}],\"scattermapbox\":[{\"type\":\"scattermapbox\",\"marker\":{\"colorbar\":{\"outlinewidth\":0,\"ticks\":\"\"}}}],\"scatterternary\":[{\"type\":\"scatterternary\",\"marker\":{\"colorbar\":{\"outlinewidth\":0,\"ticks\":\"\"}}}],\"scattercarpet\":[{\"type\":\"scattercarpet\",\"marker\":{\"colorbar\":{\"outlinewidth\":0,\"ticks\":\"\"}}}],\"carpet\":[{\"aaxis\":{\"endlinecolor\":\"#2a3f5f\",\"gridcolor\":\"white\",\"linecolor\":\"white\",\"minorgridcolor\":\"white\",\"startlinecolor\":\"#2a3f5f\"},\"baxis\":{\"endlinecolor\":\"#2a3f5f\",\"gridcolor\":\"white\",\"linecolor\":\"white\",\"minorgridcolor\":\"white\",\"startlinecolor\":\"#2a3f5f\"},\"type\":\"carpet\"}],\"table\":[{\"cells\":{\"fill\":{\"color\":\"#EBF0F8\"},\"line\":{\"color\":\"white\"}},\"header\":{\"fill\":{\"color\":\"#C8D4E3\"},\"line\":{\"color\":\"white\"}},\"type\":\"table\"}],\"barpolar\":[{\"marker\":{\"line\":{\"color\":\"#E5ECF6\",\"width\":0.5},\"pattern\":{\"fillmode\":\"overlay\",\"size\":10,\"solidity\":0.2}},\"type\":\"barpolar\"}],\"pie\":[{\"automargin\":true,\"type\":\"pie\"}]},\"layout\":{\"autotypenumbers\":\"strict\",\"colorway\":[\"#636efa\",\"#EF553B\",\"#00cc96\",\"#ab63fa\",\"#FFA15A\",\"#19d3f3\",\"#FF6692\",\"#B6E880\",\"#FF97FF\",\"#FECB52\"],\"font\":{\"color\":\"#2a3f5f\"},\"hovermode\":\"closest\",\"hoverlabel\":{\"align\":\"left\"},\"paper_bgcolor\":\"white\",\"plot_bgcolor\":\"#E5ECF6\",\"polar\":{\"bgcolor\":\"#E5ECF6\",\"angularaxis\":{\"gridcolor\":\"white\",\"linecolor\":\"white\",\"ticks\":\"\"},\"radialaxis\":{\"gridcolor\":\"white\",\"linecolor\":\"white\",\"ticks\":\"\"}},\"ternary\":{\"bgcolor\":\"#E5ECF6\",\"aaxis\":{\"gridcolor\":\"white\",\"linecolor\":\"white\",\"ticks\":\"\"},\"baxis\":{\"gridcolor\":\"white\",\"linecolor\":\"white\",\"ticks\":\"\"},\"caxis\":{\"gridcolor\":\"white\",\"linecolor\":\"white\",\"ticks\":\"\"}},\"coloraxis\":{\"colorbar\":{\"outlinewidth\":0,\"ticks\":\"\"}},\"colorscale\":{\"sequential\":[[0.0,\"#0d0887\"],[0.1111111111111111,\"#46039f\"],[0.2222222222222222,\"#7201a8\"],[0.3333333333333333,\"#9c179e\"],[0.4444444444444444,\"#bd3786\"],[0.5555555555555556,\"#d8576b\"],[0.6666666666666666,\"#ed7953\"],[0.7777777777777778,\"#fb9f3a\"],[0.8888888888888888,\"#fdca26\"],[1.0,\"#f0f921\"]],\"sequentialminus\":[[0.0,\"#0d0887\"],[0.1111111111111111,\"#46039f\"],[0.2222222222222222,\"#7201a8\"],[0.3333333333333333,\"#9c179e\"],[0.4444444444444444,\"#bd3786\"],[0.5555555555555556,\"#d8576b\"],[0.6666666666666666,\"#ed7953\"],[0.7777777777777778,\"#fb9f3a\"],[0.8888888888888888,\"#fdca26\"],[1.0,\"#f0f921\"]],\"diverging\":[[0,\"#8e0152\"],[0.1,\"#c51b7d\"],[0.2,\"#de77ae\"],[0.3,\"#f1b6da\"],[0.4,\"#fde0ef\"],[0.5,\"#f7f7f7\"],[0.6,\"#e6f5d0\"],[0.7,\"#b8e186\"],[0.8,\"#7fbc41\"],[0.9,\"#4d9221\"],[1,\"#276419\"]]},\"xaxis\":{\"gridcolor\":\"white\",\"linecolor\":\"white\",\"ticks\":\"\",\"title\":{\"standoff\":15},\"zerolinecolor\":\"white\",\"automargin\":true,\"zerolinewidth\":2},\"yaxis\":{\"gridcolor\":\"white\",\"linecolor\":\"white\",\"ticks\":\"\",\"title\":{\"standoff\":15},\"zerolinecolor\":\"white\",\"automargin\":true,\"zerolinewidth\":2},\"scene\":{\"xaxis\":{\"backgroundcolor\":\"#E5ECF6\",\"gridcolor\":\"white\",\"linecolor\":\"white\",\"showbackground\":true,\"ticks\":\"\",\"zerolinecolor\":\"white\",\"gridwidth\":2},\"yaxis\":{\"backgroundcolor\":\"#E5ECF6\",\"gridcolor\":\"white\",\"linecolor\":\"white\",\"showbackground\":true,\"ticks\":\"\",\"zerolinecolor\":\"white\",\"gridwidth\":2},\"zaxis\":{\"backgroundcolor\":\"#E5ECF6\",\"gridcolor\":\"white\",\"linecolor\":\"white\",\"showbackground\":true,\"ticks\":\"\",\"zerolinecolor\":\"white\",\"gridwidth\":2}},\"shapedefaults\":{\"line\":{\"color\":\"#2a3f5f\"}},\"annotationdefaults\":{\"arrowcolor\":\"#2a3f5f\",\"arrowhead\":0,\"arrowwidth\":1},\"geo\":{\"bgcolor\":\"white\",\"landcolor\":\"#E5ECF6\",\"subunitcolor\":\"white\",\"showland\":true,\"showlakes\":true,\"lakecolor\":\"white\"},\"title\":{\"x\":0.05},\"mapbox\":{\"style\":\"light\"}}},\"xaxis\":{\"anchor\":\"y\",\"domain\":[0.0,1.0],\"title\":{\"text\":\"Number of EVs\"},\"range\":[0,14648]},\"yaxis\":{\"anchor\":\"x\",\"domain\":[0.0,1.0],\"title\":{\"text\":\"EV Make\"},\"categoryorder\":\"array\",\"categoryarray\":[\"VOLVO\",\"AUDI\",\"KIA\",\"VOLKSWAGEN\",\"BMW\",\"NISSAN\",\"TESLA\",\"TOYOTA\",\"FORD\",\"CHEVROLET\"],\"autorange\":\"reversed\"},\"legend\":{\"title\":{\"text\":\"EV Make\"},\"tracegroupgap\":0},\"title\":{\"text\":\"EV Make Counts Over Years\"},\"barmode\":\"relative\",\"height\":600,\"updatemenus\":[{\"buttons\":[{\"args\":[null,{\"frame\":{\"duration\":500,\"redraw\":true},\"mode\":\"immediate\",\"fromcurrent\":true,\"transition\":{\"duration\":500,\"easing\":\"linear\"}}],\"label\":\"&#9654;\",\"method\":\"animate\"},{\"args\":[[null],{\"frame\":{\"duration\":0,\"redraw\":true},\"mode\":\"immediate\",\"fromcurrent\":true,\"transition\":{\"duration\":0,\"easing\":\"linear\"}}],\"label\":\"&#9724;\",\"method\":\"animate\"}],\"direction\":\"left\",\"pad\":{\"r\":10,\"t\":70},\"showactive\":false,\"type\":\"buttons\",\"x\":0.1,\"xanchor\":\"right\",\"y\":0,\"yanchor\":\"top\"}],\"sliders\":[{\"active\":0,\"currentvalue\":{\"prefix\":\"Model Year=\"},\"len\":0.9,\"pad\":{\"b\":10,\"t\":60},\"steps\":[{\"args\":[[\"1997\"],{\"frame\":{\"duration\":0,\"redraw\":true},\"mode\":\"immediate\",\"fromcurrent\":true,\"transition\":{\"duration\":0,\"easing\":\"linear\"}}],\"label\":\"1997\",\"method\":\"animate\"},{\"args\":[[\"1998\"],{\"frame\":{\"duration\":0,\"redraw\":true},\"mode\":\"immediate\",\"fromcurrent\":true,\"transition\":{\"duration\":0,\"easing\":\"linear\"}}],\"label\":\"1998\",\"method\":\"animate\"},{\"args\":[[\"1999\"],{\"frame\":{\"duration\":0,\"redraw\":true},\"mode\":\"immediate\",\"fromcurrent\":true,\"transition\":{\"duration\":0,\"easing\":\"linear\"}}],\"label\":\"1999\",\"method\":\"animate\"},{\"args\":[[\"2000\"],{\"frame\":{\"duration\":0,\"redraw\":true},\"mode\":\"immediate\",\"fromcurrent\":true,\"transition\":{\"duration\":0,\"easing\":\"linear\"}}],\"label\":\"2000\",\"method\":\"animate\"},{\"args\":[[\"2002\"],{\"frame\":{\"duration\":0,\"redraw\":true},\"mode\":\"immediate\",\"fromcurrent\":true,\"transition\":{\"duration\":0,\"easing\":\"linear\"}}],\"label\":\"2002\",\"method\":\"animate\"},{\"args\":[[\"2008\"],{\"frame\":{\"duration\":0,\"redraw\":true},\"mode\":\"immediate\",\"fromcurrent\":true,\"transition\":{\"duration\":0,\"easing\":\"linear\"}}],\"label\":\"2008\",\"method\":\"animate\"},{\"args\":[[\"2010\"],{\"frame\":{\"duration\":0,\"redraw\":true},\"mode\":\"immediate\",\"fromcurrent\":true,\"transition\":{\"duration\":0,\"easing\":\"linear\"}}],\"label\":\"2010\",\"method\":\"animate\"},{\"args\":[[\"2011\"],{\"frame\":{\"duration\":0,\"redraw\":true},\"mode\":\"immediate\",\"fromcurrent\":true,\"transition\":{\"duration\":0,\"easing\":\"linear\"}}],\"label\":\"2011\",\"method\":\"animate\"},{\"args\":[[\"2012\"],{\"frame\":{\"duration\":0,\"redraw\":true},\"mode\":\"immediate\",\"fromcurrent\":true,\"transition\":{\"duration\":0,\"easing\":\"linear\"}}],\"label\":\"2012\",\"method\":\"animate\"},{\"args\":[[\"2013\"],{\"frame\":{\"duration\":0,\"redraw\":true},\"mode\":\"immediate\",\"fromcurrent\":true,\"transition\":{\"duration\":0,\"easing\":\"linear\"}}],\"label\":\"2013\",\"method\":\"animate\"},{\"args\":[[\"2014\"],{\"frame\":{\"duration\":0,\"redraw\":true},\"mode\":\"immediate\",\"fromcurrent\":true,\"transition\":{\"duration\":0,\"easing\":\"linear\"}}],\"label\":\"2014\",\"method\":\"animate\"},{\"args\":[[\"2015\"],{\"frame\":{\"duration\":0,\"redraw\":true},\"mode\":\"immediate\",\"fromcurrent\":true,\"transition\":{\"duration\":0,\"easing\":\"linear\"}}],\"label\":\"2015\",\"method\":\"animate\"},{\"args\":[[\"2016\"],{\"frame\":{\"duration\":0,\"redraw\":true},\"mode\":\"immediate\",\"fromcurrent\":true,\"transition\":{\"duration\":0,\"easing\":\"linear\"}}],\"label\":\"2016\",\"method\":\"animate\"},{\"args\":[[\"2017\"],{\"frame\":{\"duration\":0,\"redraw\":true},\"mode\":\"immediate\",\"fromcurrent\":true,\"transition\":{\"duration\":0,\"easing\":\"linear\"}}],\"label\":\"2017\",\"method\":\"animate\"},{\"args\":[[\"2018\"],{\"frame\":{\"duration\":0,\"redraw\":true},\"mode\":\"immediate\",\"fromcurrent\":true,\"transition\":{\"duration\":0,\"easing\":\"linear\"}}],\"label\":\"2018\",\"method\":\"animate\"},{\"args\":[[\"2019\"],{\"frame\":{\"duration\":0,\"redraw\":true},\"mode\":\"immediate\",\"fromcurrent\":true,\"transition\":{\"duration\":0,\"easing\":\"linear\"}}],\"label\":\"2019\",\"method\":\"animate\"},{\"args\":[[\"2020\"],{\"frame\":{\"duration\":0,\"redraw\":true},\"mode\":\"immediate\",\"fromcurrent\":true,\"transition\":{\"duration\":0,\"easing\":\"linear\"}}],\"label\":\"2020\",\"method\":\"animate\"},{\"args\":[[\"2021\"],{\"frame\":{\"duration\":0,\"redraw\":true},\"mode\":\"immediate\",\"fromcurrent\":true,\"transition\":{\"duration\":0,\"easing\":\"linear\"}}],\"label\":\"2021\",\"method\":\"animate\"},{\"args\":[[\"2022\"],{\"frame\":{\"duration\":0,\"redraw\":true},\"mode\":\"immediate\",\"fromcurrent\":true,\"transition\":{\"duration\":0,\"easing\":\"linear\"}}],\"label\":\"2022\",\"method\":\"animate\"},{\"args\":[[\"2023\"],{\"frame\":{\"duration\":0,\"redraw\":true},\"mode\":\"immediate\",\"fromcurrent\":true,\"transition\":{\"duration\":0,\"easing\":\"linear\"}}],\"label\":\"2023\",\"method\":\"animate\"}],\"x\":0.1,\"xanchor\":\"left\",\"y\":0,\"yanchor\":\"top\"}]},                        {\"responsive\": true}                    ).then(function(){\n",
       "                            Plotly.addFrames('9c04b8ac-8678-4e32-8e5e-67357c1007ca', [{\"data\":[{\"alignmentgroup\":\"True\",\"hovertemplate\":\"EV Make=%{y}\\u003cbr\\u003eModel Year=1997\\u003cbr\\u003eNumber of EVs=%{x}\\u003cextra\\u003e\\u003c\\u002fextra\\u003e\",\"ids\":[\"CHEVROLET\"],\"legendgroup\":\"CHEVROLET\",\"marker\":{\"color\":\"#636efa\",\"pattern\":{\"shape\":\"\"}},\"name\":\"CHEVROLET\",\"offsetgroup\":\"CHEVROLET\",\"orientation\":\"h\",\"showlegend\":true,\"textposition\":\"auto\",\"x\":[1],\"xaxis\":\"x\",\"y\":[\"CHEVROLET\"],\"yaxis\":\"y\",\"type\":\"bar\"}],\"name\":\"1997\"},{\"data\":[{\"alignmentgroup\":\"True\",\"hovertemplate\":\"EV Make=%{y}\\u003cbr\\u003eModel Year=1998\\u003cbr\\u003eNumber of EVs=%{x}\\u003cextra\\u003e\\u003c\\u002fextra\\u003e\",\"ids\":[\"FORD\"],\"legendgroup\":\"FORD\",\"marker\":{\"color\":\"#EF553B\",\"pattern\":{\"shape\":\"\"}},\"name\":\"FORD\",\"offsetgroup\":\"FORD\",\"orientation\":\"h\",\"showlegend\":true,\"textposition\":\"auto\",\"x\":[1],\"xaxis\":\"x\",\"y\":[\"FORD\"],\"yaxis\":\"y\",\"type\":\"bar\"}],\"name\":\"1998\"},{\"data\":[{\"alignmentgroup\":\"True\",\"hovertemplate\":\"EV Make=%{y}\\u003cbr\\u003eModel Year=1999\\u003cbr\\u003eNumber of EVs=%{x}\\u003cextra\\u003e\\u003c\\u002fextra\\u003e\",\"ids\":[\"FORD\"],\"legendgroup\":\"FORD\",\"marker\":{\"color\":\"#EF553B\",\"pattern\":{\"shape\":\"\"}},\"name\":\"FORD\",\"offsetgroup\":\"FORD\",\"orientation\":\"h\",\"showlegend\":true,\"textposition\":\"auto\",\"x\":[3],\"xaxis\":\"x\",\"y\":[\"FORD\"],\"yaxis\":\"y\",\"type\":\"bar\"}],\"name\":\"1999\"},{\"data\":[{\"alignmentgroup\":\"True\",\"hovertemplate\":\"EV Make=%{y}\\u003cbr\\u003eModel Year=2000\\u003cbr\\u003eNumber of EVs=%{x}\\u003cextra\\u003e\\u003c\\u002fextra\\u003e\",\"ids\":[\"FORD\"],\"legendgroup\":\"FORD\",\"marker\":{\"color\":\"#EF553B\",\"pattern\":{\"shape\":\"\"}},\"name\":\"FORD\",\"offsetgroup\":\"FORD\",\"orientation\":\"h\",\"showlegend\":true,\"textposition\":\"auto\",\"x\":[10],\"xaxis\":\"x\",\"y\":[\"FORD\"],\"yaxis\":\"y\",\"type\":\"bar\"}],\"name\":\"2000\"},{\"data\":[{\"alignmentgroup\":\"True\",\"hovertemplate\":\"EV Make=%{y}\\u003cbr\\u003eModel Year=2002\\u003cbr\\u003eNumber of EVs=%{x}\\u003cextra\\u003e\\u003c\\u002fextra\\u003e\",\"ids\":[\"TOYOTA\"],\"legendgroup\":\"TOYOTA\",\"marker\":{\"color\":\"#00cc96\",\"pattern\":{\"shape\":\"\"}},\"name\":\"TOYOTA\",\"offsetgroup\":\"TOYOTA\",\"orientation\":\"h\",\"showlegend\":true,\"textposition\":\"auto\",\"x\":[2],\"xaxis\":\"x\",\"y\":[\"TOYOTA\"],\"yaxis\":\"y\",\"type\":\"bar\"}],\"name\":\"2002\"},{\"data\":[{\"alignmentgroup\":\"True\",\"hovertemplate\":\"EV Make=%{y}\\u003cbr\\u003eModel Year=2008\\u003cbr\\u003eNumber of EVs=%{x}\\u003cextra\\u003e\\u003c\\u002fextra\\u003e\",\"ids\":[\"TESLA\"],\"legendgroup\":\"TESLA\",\"marker\":{\"color\":\"#ab63fa\",\"pattern\":{\"shape\":\"\"}},\"name\":\"TESLA\",\"offsetgroup\":\"TESLA\",\"orientation\":\"h\",\"showlegend\":true,\"textposition\":\"auto\",\"x\":[23],\"xaxis\":\"x\",\"y\":[\"TESLA\"],\"yaxis\":\"y\",\"type\":\"bar\"}],\"name\":\"2008\"},{\"data\":[{\"alignmentgroup\":\"True\",\"hovertemplate\":\"EV Make=%{y}\\u003cbr\\u003eModel Year=2010\\u003cbr\\u003eNumber of EVs=%{x}\\u003cextra\\u003e\\u003c\\u002fextra\\u003e\",\"ids\":[\"TESLA\"],\"legendgroup\":\"TESLA\",\"marker\":{\"color\":\"#ab63fa\",\"pattern\":{\"shape\":\"\"}},\"name\":\"TESLA\",\"offsetgroup\":\"TESLA\",\"orientation\":\"h\",\"showlegend\":true,\"textposition\":\"auto\",\"x\":[24],\"xaxis\":\"x\",\"y\":[\"TESLA\"],\"yaxis\":\"y\",\"type\":\"bar\"}],\"name\":\"2010\"},{\"data\":[{\"alignmentgroup\":\"True\",\"hovertemplate\":\"EV Make=%{y}\\u003cbr\\u003eModel Year=2011\\u003cbr\\u003eNumber of EVs=%{x}\\u003cextra\\u003e\\u003c\\u002fextra\\u003e\",\"ids\":[\"CHEVROLET\"],\"legendgroup\":\"CHEVROLET\",\"marker\":{\"color\":\"#636efa\",\"pattern\":{\"shape\":\"\"}},\"name\":\"CHEVROLET\",\"offsetgroup\":\"CHEVROLET\",\"orientation\":\"h\",\"showlegend\":true,\"textposition\":\"auto\",\"x\":[71],\"xaxis\":\"x\",\"y\":[\"CHEVROLET\"],\"yaxis\":\"y\",\"type\":\"bar\"},{\"alignmentgroup\":\"True\",\"hovertemplate\":\"EV Make=%{y}\\u003cbr\\u003eModel Year=2011\\u003cbr\\u003eNumber of EVs=%{x}\\u003cextra\\u003e\\u003c\\u002fextra\\u003e\",\"ids\":[\"TESLA\"],\"legendgroup\":\"TESLA\",\"marker\":{\"color\":\"#ab63fa\",\"pattern\":{\"shape\":\"\"}},\"name\":\"TESLA\",\"offsetgroup\":\"TESLA\",\"orientation\":\"h\",\"showlegend\":true,\"textposition\":\"auto\",\"x\":[7],\"xaxis\":\"x\",\"y\":[\"TESLA\"],\"yaxis\":\"y\",\"type\":\"bar\"},{\"alignmentgroup\":\"True\",\"hovertemplate\":\"EV Make=%{y}\\u003cbr\\u003eModel Year=2011\\u003cbr\\u003eNumber of EVs=%{x}\\u003cextra\\u003e\\u003c\\u002fextra\\u003e\",\"ids\":[\"NISSAN\"],\"legendgroup\":\"NISSAN\",\"marker\":{\"color\":\"#FFA15A\",\"pattern\":{\"shape\":\"\"}},\"name\":\"NISSAN\",\"offsetgroup\":\"NISSAN\",\"orientation\":\"h\",\"showlegend\":true,\"textposition\":\"auto\",\"x\":[755],\"xaxis\":\"x\",\"y\":[\"NISSAN\"],\"yaxis\":\"y\",\"type\":\"bar\"}],\"name\":\"2011\"},{\"data\":[{\"alignmentgroup\":\"True\",\"hovertemplate\":\"EV Make=%{y}\\u003cbr\\u003eModel Year=2012\\u003cbr\\u003eNumber of EVs=%{x}\\u003cextra\\u003e\\u003c\\u002fextra\\u003e\",\"ids\":[\"CHEVROLET\"],\"legendgroup\":\"CHEVROLET\",\"marker\":{\"color\":\"#636efa\",\"pattern\":{\"shape\":\"\"}},\"name\":\"CHEVROLET\",\"offsetgroup\":\"CHEVROLET\",\"orientation\":\"h\",\"showlegend\":true,\"textposition\":\"auto\",\"x\":[496],\"xaxis\":\"x\",\"y\":[\"CHEVROLET\"],\"yaxis\":\"y\",\"type\":\"bar\"},{\"alignmentgroup\":\"True\",\"hovertemplate\":\"EV Make=%{y}\\u003cbr\\u003eModel Year=2012\\u003cbr\\u003eNumber of EVs=%{x}\\u003cextra\\u003e\\u003c\\u002fextra\\u003e\",\"ids\":[\"FORD\"],\"legendgroup\":\"FORD\",\"marker\":{\"color\":\"#EF553B\",\"pattern\":{\"shape\":\"\"}},\"name\":\"FORD\",\"offsetgroup\":\"FORD\",\"orientation\":\"h\",\"showlegend\":true,\"textposition\":\"auto\",\"x\":[15],\"xaxis\":\"x\",\"y\":[\"FORD\"],\"yaxis\":\"y\",\"type\":\"bar\"},{\"alignmentgroup\":\"True\",\"hovertemplate\":\"EV Make=%{y}\\u003cbr\\u003eModel Year=2012\\u003cbr\\u003eNumber of EVs=%{x}\\u003cextra\\u003e\\u003c\\u002fextra\\u003e\",\"ids\":[\"TOYOTA\"],\"legendgroup\":\"TOYOTA\",\"marker\":{\"color\":\"#00cc96\",\"pattern\":{\"shape\":\"\"}},\"name\":\"TOYOTA\",\"offsetgroup\":\"TOYOTA\",\"orientation\":\"h\",\"showlegend\":true,\"textposition\":\"auto\",\"x\":[385],\"xaxis\":\"x\",\"y\":[\"TOYOTA\"],\"yaxis\":\"y\",\"type\":\"bar\"},{\"alignmentgroup\":\"True\",\"hovertemplate\":\"EV Make=%{y}\\u003cbr\\u003eModel Year=2012\\u003cbr\\u003eNumber of EVs=%{x}\\u003cextra\\u003e\\u003c\\u002fextra\\u003e\",\"ids\":[\"TESLA\"],\"legendgroup\":\"TESLA\",\"marker\":{\"color\":\"#ab63fa\",\"pattern\":{\"shape\":\"\"}},\"name\":\"TESLA\",\"offsetgroup\":\"TESLA\",\"orientation\":\"h\",\"showlegend\":true,\"textposition\":\"auto\",\"x\":[134],\"xaxis\":\"x\",\"y\":[\"TESLA\"],\"yaxis\":\"y\",\"type\":\"bar\"},{\"alignmentgroup\":\"True\",\"hovertemplate\":\"EV Make=%{y}\\u003cbr\\u003eModel Year=2012\\u003cbr\\u003eNumber of EVs=%{x}\\u003cextra\\u003e\\u003c\\u002fextra\\u003e\",\"ids\":[\"NISSAN\"],\"legendgroup\":\"NISSAN\",\"marker\":{\"color\":\"#FFA15A\",\"pattern\":{\"shape\":\"\"}},\"name\":\"NISSAN\",\"offsetgroup\":\"NISSAN\",\"orientation\":\"h\",\"showlegend\":true,\"textposition\":\"auto\",\"x\":[610],\"xaxis\":\"x\",\"y\":[\"NISSAN\"],\"yaxis\":\"y\",\"type\":\"bar\"}],\"name\":\"2012\"},{\"data\":[{\"alignmentgroup\":\"True\",\"hovertemplate\":\"EV Make=%{y}\\u003cbr\\u003eModel Year=2013\\u003cbr\\u003eNumber of EVs=%{x}\\u003cextra\\u003e\\u003c\\u002fextra\\u003e\",\"ids\":[\"CHEVROLET\"],\"legendgroup\":\"CHEVROLET\",\"marker\":{\"color\":\"#636efa\",\"pattern\":{\"shape\":\"\"}},\"name\":\"CHEVROLET\",\"offsetgroup\":\"CHEVROLET\",\"orientation\":\"h\",\"showlegend\":true,\"textposition\":\"auto\",\"x\":[818],\"xaxis\":\"x\",\"y\":[\"CHEVROLET\"],\"yaxis\":\"y\",\"type\":\"bar\"},{\"alignmentgroup\":\"True\",\"hovertemplate\":\"EV Make=%{y}\\u003cbr\\u003eModel Year=2013\\u003cbr\\u003eNumber of EVs=%{x}\\u003cextra\\u003e\\u003c\\u002fextra\\u003e\",\"ids\":[\"FORD\"],\"legendgroup\":\"FORD\",\"marker\":{\"color\":\"#EF553B\",\"pattern\":{\"shape\":\"\"}},\"name\":\"FORD\",\"offsetgroup\":\"FORD\",\"orientation\":\"h\",\"showlegend\":true,\"textposition\":\"auto\",\"x\":[662],\"xaxis\":\"x\",\"y\":[\"FORD\"],\"yaxis\":\"y\",\"type\":\"bar\"},{\"alignmentgroup\":\"True\",\"hovertemplate\":\"EV Make=%{y}\\u003cbr\\u003eModel Year=2013\\u003cbr\\u003eNumber of EVs=%{x}\\u003cextra\\u003e\\u003c\\u002fextra\\u003e\",\"ids\":[\"TOYOTA\"],\"legendgroup\":\"TOYOTA\",\"marker\":{\"color\":\"#00cc96\",\"pattern\":{\"shape\":\"\"}},\"name\":\"TOYOTA\",\"offsetgroup\":\"TOYOTA\",\"orientation\":\"h\",\"showlegend\":true,\"textposition\":\"auto\",\"x\":[296],\"xaxis\":\"x\",\"y\":[\"TOYOTA\"],\"yaxis\":\"y\",\"type\":\"bar\"},{\"alignmentgroup\":\"True\",\"hovertemplate\":\"EV Make=%{y}\\u003cbr\\u003eModel Year=2013\\u003cbr\\u003eNumber of EVs=%{x}\\u003cextra\\u003e\\u003c\\u002fextra\\u003e\",\"ids\":[\"TESLA\"],\"legendgroup\":\"TESLA\",\"marker\":{\"color\":\"#ab63fa\",\"pattern\":{\"shape\":\"\"}},\"name\":\"TESLA\",\"offsetgroup\":\"TESLA\",\"orientation\":\"h\",\"showlegend\":true,\"textposition\":\"auto\",\"x\":[814],\"xaxis\":\"x\",\"y\":[\"TESLA\"],\"yaxis\":\"y\",\"type\":\"bar\"},{\"alignmentgroup\":\"True\",\"hovertemplate\":\"EV Make=%{y}\\u003cbr\\u003eModel Year=2013\\u003cbr\\u003eNumber of EVs=%{x}\\u003cextra\\u003e\\u003c\\u002fextra\\u003e\",\"ids\":[\"NISSAN\"],\"legendgroup\":\"NISSAN\",\"marker\":{\"color\":\"#FFA15A\",\"pattern\":{\"shape\":\"\"}},\"name\":\"NISSAN\",\"offsetgroup\":\"NISSAN\",\"orientation\":\"h\",\"showlegend\":true,\"textposition\":\"auto\",\"x\":[1966],\"xaxis\":\"x\",\"y\":[\"NISSAN\"],\"yaxis\":\"y\",\"type\":\"bar\"}],\"name\":\"2013\"},{\"data\":[{\"alignmentgroup\":\"True\",\"hovertemplate\":\"EV Make=%{y}\\u003cbr\\u003eModel Year=2014\\u003cbr\\u003eNumber of EVs=%{x}\\u003cextra\\u003e\\u003c\\u002fextra\\u003e\",\"ids\":[\"CHEVROLET\"],\"legendgroup\":\"CHEVROLET\",\"marker\":{\"color\":\"#636efa\",\"pattern\":{\"shape\":\"\"}},\"name\":\"CHEVROLET\",\"offsetgroup\":\"CHEVROLET\",\"orientation\":\"h\",\"showlegend\":true,\"textposition\":\"auto\",\"x\":[724],\"xaxis\":\"x\",\"y\":[\"CHEVROLET\"],\"yaxis\":\"y\",\"type\":\"bar\"},{\"alignmentgroup\":\"True\",\"hovertemplate\":\"EV Make=%{y}\\u003cbr\\u003eModel Year=2014\\u003cbr\\u003eNumber of EVs=%{x}\\u003cextra\\u003e\\u003c\\u002fextra\\u003e\",\"ids\":[\"FORD\"],\"legendgroup\":\"FORD\",\"marker\":{\"color\":\"#EF553B\",\"pattern\":{\"shape\":\"\"}},\"name\":\"FORD\",\"offsetgroup\":\"FORD\",\"orientation\":\"h\",\"showlegend\":true,\"textposition\":\"auto\",\"x\":[628],\"xaxis\":\"x\",\"y\":[\"FORD\"],\"yaxis\":\"y\",\"type\":\"bar\"},{\"alignmentgroup\":\"True\",\"hovertemplate\":\"EV Make=%{y}\\u003cbr\\u003eModel Year=2014\\u003cbr\\u003eNumber of EVs=%{x}\\u003cextra\\u003e\\u003c\\u002fextra\\u003e\",\"ids\":[\"TOYOTA\"],\"legendgroup\":\"TOYOTA\",\"marker\":{\"color\":\"#00cc96\",\"pattern\":{\"shape\":\"\"}},\"name\":\"TOYOTA\",\"offsetgroup\":\"TOYOTA\",\"orientation\":\"h\",\"showlegend\":true,\"textposition\":\"auto\",\"x\":[215],\"xaxis\":\"x\",\"y\":[\"TOYOTA\"],\"yaxis\":\"y\",\"type\":\"bar\"},{\"alignmentgroup\":\"True\",\"hovertemplate\":\"EV Make=%{y}\\u003cbr\\u003eModel Year=2014\\u003cbr\\u003eNumber of EVs=%{x}\\u003cextra\\u003e\\u003c\\u002fextra\\u003e\",\"ids\":[\"TESLA\"],\"legendgroup\":\"TESLA\",\"marker\":{\"color\":\"#ab63fa\",\"pattern\":{\"shape\":\"\"}},\"name\":\"TESLA\",\"offsetgroup\":\"TESLA\",\"orientation\":\"h\",\"showlegend\":true,\"textposition\":\"auto\",\"x\":[683],\"xaxis\":\"x\",\"y\":[\"TESLA\"],\"yaxis\":\"y\",\"type\":\"bar\"},{\"alignmentgroup\":\"True\",\"hovertemplate\":\"EV Make=%{y}\\u003cbr\\u003eModel Year=2014\\u003cbr\\u003eNumber of EVs=%{x}\\u003cextra\\u003e\\u003c\\u002fextra\\u003e\",\"ids\":[\"NISSAN\"],\"legendgroup\":\"NISSAN\",\"marker\":{\"color\":\"#FFA15A\",\"pattern\":{\"shape\":\"\"}},\"name\":\"NISSAN\",\"offsetgroup\":\"NISSAN\",\"orientation\":\"h\",\"showlegend\":true,\"textposition\":\"auto\",\"x\":[694],\"xaxis\":\"x\",\"y\":[\"NISSAN\"],\"yaxis\":\"y\",\"type\":\"bar\"},{\"alignmentgroup\":\"True\",\"hovertemplate\":\"EV Make=%{y}\\u003cbr\\u003eModel Year=2014\\u003cbr\\u003eNumber of EVs=%{x}\\u003cextra\\u003e\\u003c\\u002fextra\\u003e\",\"ids\":[\"BMW\"],\"legendgroup\":\"BMW\",\"marker\":{\"color\":\"#19d3f3\",\"pattern\":{\"shape\":\"\"}},\"name\":\"BMW\",\"offsetgroup\":\"BMW\",\"orientation\":\"h\",\"showlegend\":true,\"textposition\":\"auto\",\"x\":[457],\"xaxis\":\"x\",\"y\":[\"BMW\"],\"yaxis\":\"y\",\"type\":\"bar\"}],\"name\":\"2014\"},{\"data\":[{\"alignmentgroup\":\"True\",\"hovertemplate\":\"EV Make=%{y}\\u003cbr\\u003eModel Year=2015\\u003cbr\\u003eNumber of EVs=%{x}\\u003cextra\\u003e\\u003c\\u002fextra\\u003e\",\"ids\":[\"CHEVROLET\"],\"legendgroup\":\"CHEVROLET\",\"marker\":{\"color\":\"#636efa\",\"pattern\":{\"shape\":\"\"}},\"name\":\"CHEVROLET\",\"offsetgroup\":\"CHEVROLET\",\"orientation\":\"h\",\"showlegend\":true,\"textposition\":\"auto\",\"x\":[467],\"xaxis\":\"x\",\"y\":[\"CHEVROLET\"],\"yaxis\":\"y\",\"type\":\"bar\"},{\"alignmentgroup\":\"True\",\"hovertemplate\":\"EV Make=%{y}\\u003cbr\\u003eModel Year=2015\\u003cbr\\u003eNumber of EVs=%{x}\\u003cextra\\u003e\\u003c\\u002fextra\\u003e\",\"ids\":[\"FORD\"],\"legendgroup\":\"FORD\",\"marker\":{\"color\":\"#EF553B\",\"pattern\":{\"shape\":\"\"}},\"name\":\"FORD\",\"offsetgroup\":\"FORD\",\"orientation\":\"h\",\"showlegend\":true,\"textposition\":\"auto\",\"x\":[556],\"xaxis\":\"x\",\"y\":[\"FORD\"],\"yaxis\":\"y\",\"type\":\"bar\"},{\"alignmentgroup\":\"True\",\"hovertemplate\":\"EV Make=%{y}\\u003cbr\\u003eModel Year=2015\\u003cbr\\u003eNumber of EVs=%{x}\\u003cextra\\u003e\\u003c\\u002fextra\\u003e\",\"ids\":[\"TOYOTA\"],\"legendgroup\":\"TOYOTA\",\"marker\":{\"color\":\"#00cc96\",\"pattern\":{\"shape\":\"\"}},\"name\":\"TOYOTA\",\"offsetgroup\":\"TOYOTA\",\"orientation\":\"h\",\"showlegend\":true,\"textposition\":\"auto\",\"x\":[89],\"xaxis\":\"x\",\"y\":[\"TOYOTA\"],\"yaxis\":\"y\",\"type\":\"bar\"},{\"alignmentgroup\":\"True\",\"hovertemplate\":\"EV Make=%{y}\\u003cbr\\u003eModel Year=2015\\u003cbr\\u003eNumber of EVs=%{x}\\u003cextra\\u003e\\u003c\\u002fextra\\u003e\",\"ids\":[\"TESLA\"],\"legendgroup\":\"TESLA\",\"marker\":{\"color\":\"#ab63fa\",\"pattern\":{\"shape\":\"\"}},\"name\":\"TESLA\",\"offsetgroup\":\"TESLA\",\"orientation\":\"h\",\"showlegend\":true,\"textposition\":\"auto\",\"x\":[1089],\"xaxis\":\"x\",\"y\":[\"TESLA\"],\"yaxis\":\"y\",\"type\":\"bar\"},{\"alignmentgroup\":\"True\",\"hovertemplate\":\"EV Make=%{y}\\u003cbr\\u003eModel Year=2015\\u003cbr\\u003eNumber of EVs=%{x}\\u003cextra\\u003e\\u003c\\u002fextra\\u003e\",\"ids\":[\"NISSAN\"],\"legendgroup\":\"NISSAN\",\"marker\":{\"color\":\"#FFA15A\",\"pattern\":{\"shape\":\"\"}},\"name\":\"NISSAN\",\"offsetgroup\":\"NISSAN\",\"orientation\":\"h\",\"showlegend\":true,\"textposition\":\"auto\",\"x\":[1839],\"xaxis\":\"x\",\"y\":[\"NISSAN\"],\"yaxis\":\"y\",\"type\":\"bar\"},{\"alignmentgroup\":\"True\",\"hovertemplate\":\"EV Make=%{y}\\u003cbr\\u003eModel Year=2015\\u003cbr\\u003eNumber of EVs=%{x}\\u003cextra\\u003e\\u003c\\u002fextra\\u003e\",\"ids\":[\"BMW\"],\"legendgroup\":\"BMW\",\"marker\":{\"color\":\"#19d3f3\",\"pattern\":{\"shape\":\"\"}},\"name\":\"BMW\",\"offsetgroup\":\"BMW\",\"orientation\":\"h\",\"showlegend\":true,\"textposition\":\"auto\",\"x\":[403],\"xaxis\":\"x\",\"y\":[\"BMW\"],\"yaxis\":\"y\",\"type\":\"bar\"},{\"alignmentgroup\":\"True\",\"hovertemplate\":\"EV Make=%{y}\\u003cbr\\u003eModel Year=2015\\u003cbr\\u003eNumber of EVs=%{x}\\u003cextra\\u003e\\u003c\\u002fextra\\u003e\",\"ids\":[\"VOLKSWAGEN\"],\"legendgroup\":\"VOLKSWAGEN\",\"marker\":{\"color\":\"#FF6692\",\"pattern\":{\"shape\":\"\"}},\"name\":\"VOLKSWAGEN\",\"offsetgroup\":\"VOLKSWAGEN\",\"orientation\":\"h\",\"showlegend\":true,\"textposition\":\"auto\",\"x\":[124],\"xaxis\":\"x\",\"y\":[\"VOLKSWAGEN\"],\"yaxis\":\"y\",\"type\":\"bar\"},{\"alignmentgroup\":\"True\",\"hovertemplate\":\"EV Make=%{y}\\u003cbr\\u003eModel Year=2015\\u003cbr\\u003eNumber of EVs=%{x}\\u003cextra\\u003e\\u003c\\u002fextra\\u003e\",\"ids\":[\"KIA\"],\"legendgroup\":\"KIA\",\"marker\":{\"color\":\"#B6E880\",\"pattern\":{\"shape\":\"\"}},\"name\":\"KIA\",\"offsetgroup\":\"KIA\",\"orientation\":\"h\",\"showlegend\":true,\"textposition\":\"auto\",\"x\":[22],\"xaxis\":\"x\",\"y\":[\"KIA\"],\"yaxis\":\"y\",\"type\":\"bar\"}],\"name\":\"2015\"},{\"data\":[{\"alignmentgroup\":\"True\",\"hovertemplate\":\"EV Make=%{y}\\u003cbr\\u003eModel Year=2016\\u003cbr\\u003eNumber of EVs=%{x}\\u003cextra\\u003e\\u003c\\u002fextra\\u003e\",\"ids\":[\"CHEVROLET\"],\"legendgroup\":\"CHEVROLET\",\"marker\":{\"color\":\"#636efa\",\"pattern\":{\"shape\":\"\"}},\"name\":\"CHEVROLET\",\"offsetgroup\":\"CHEVROLET\",\"orientation\":\"h\",\"showlegend\":true,\"textposition\":\"auto\",\"x\":[309],\"xaxis\":\"x\",\"y\":[\"CHEVROLET\"],\"yaxis\":\"y\",\"type\":\"bar\"},{\"alignmentgroup\":\"True\",\"hovertemplate\":\"EV Make=%{y}\\u003cbr\\u003eModel Year=2016\\u003cbr\\u003eNumber of EVs=%{x}\\u003cextra\\u003e\\u003c\\u002fextra\\u003e\",\"ids\":[\"FORD\"],\"legendgroup\":\"FORD\",\"marker\":{\"color\":\"#EF553B\",\"pattern\":{\"shape\":\"\"}},\"name\":\"FORD\",\"offsetgroup\":\"FORD\",\"orientation\":\"h\",\"showlegend\":true,\"textposition\":\"auto\",\"x\":[778],\"xaxis\":\"x\",\"y\":[\"FORD\"],\"yaxis\":\"y\",\"type\":\"bar\"},{\"alignmentgroup\":\"True\",\"hovertemplate\":\"EV Make=%{y}\\u003cbr\\u003eModel Year=2016\\u003cbr\\u003eNumber of EVs=%{x}\\u003cextra\\u003e\\u003c\\u002fextra\\u003e\",\"ids\":[\"TESLA\"],\"legendgroup\":\"TESLA\",\"marker\":{\"color\":\"#ab63fa\",\"pattern\":{\"shape\":\"\"}},\"name\":\"TESLA\",\"offsetgroup\":\"TESLA\",\"orientation\":\"h\",\"showlegend\":true,\"textposition\":\"auto\",\"x\":[1639],\"xaxis\":\"x\",\"y\":[\"TESLA\"],\"yaxis\":\"y\",\"type\":\"bar\"},{\"alignmentgroup\":\"True\",\"hovertemplate\":\"EV Make=%{y}\\u003cbr\\u003eModel Year=2016\\u003cbr\\u003eNumber of EVs=%{x}\\u003cextra\\u003e\\u003c\\u002fextra\\u003e\",\"ids\":[\"NISSAN\"],\"legendgroup\":\"NISSAN\",\"marker\":{\"color\":\"#FFA15A\",\"pattern\":{\"shape\":\"\"}},\"name\":\"NISSAN\",\"offsetgroup\":\"NISSAN\",\"orientation\":\"h\",\"showlegend\":true,\"textposition\":\"auto\",\"x\":[1208],\"xaxis\":\"x\",\"y\":[\"NISSAN\"],\"yaxis\":\"y\",\"type\":\"bar\"},{\"alignmentgroup\":\"True\",\"hovertemplate\":\"EV Make=%{y}\\u003cbr\\u003eModel Year=2016\\u003cbr\\u003eNumber of EVs=%{x}\\u003cextra\\u003e\\u003c\\u002fextra\\u003e\",\"ids\":[\"BMW\"],\"legendgroup\":\"BMW\",\"marker\":{\"color\":\"#19d3f3\",\"pattern\":{\"shape\":\"\"}},\"name\":\"BMW\",\"offsetgroup\":\"BMW\",\"orientation\":\"h\",\"showlegend\":true,\"textposition\":\"auto\",\"x\":[383],\"xaxis\":\"x\",\"y\":[\"BMW\"],\"yaxis\":\"y\",\"type\":\"bar\"},{\"alignmentgroup\":\"True\",\"hovertemplate\":\"EV Make=%{y}\\u003cbr\\u003eModel Year=2016\\u003cbr\\u003eNumber of EVs=%{x}\\u003cextra\\u003e\\u003c\\u002fextra\\u003e\",\"ids\":[\"VOLKSWAGEN\"],\"legendgroup\":\"VOLKSWAGEN\",\"marker\":{\"color\":\"#FF6692\",\"pattern\":{\"shape\":\"\"}},\"name\":\"VOLKSWAGEN\",\"offsetgroup\":\"VOLKSWAGEN\",\"orientation\":\"h\",\"showlegend\":true,\"textposition\":\"auto\",\"x\":[319],\"xaxis\":\"x\",\"y\":[\"VOLKSWAGEN\"],\"yaxis\":\"y\",\"type\":\"bar\"},{\"alignmentgroup\":\"True\",\"hovertemplate\":\"EV Make=%{y}\\u003cbr\\u003eModel Year=2016\\u003cbr\\u003eNumber of EVs=%{x}\\u003cextra\\u003e\\u003c\\u002fextra\\u003e\",\"ids\":[\"KIA\"],\"legendgroup\":\"KIA\",\"marker\":{\"color\":\"#B6E880\",\"pattern\":{\"shape\":\"\"}},\"name\":\"KIA\",\"offsetgroup\":\"KIA\",\"orientation\":\"h\",\"showlegend\":true,\"textposition\":\"auto\",\"x\":[407],\"xaxis\":\"x\",\"y\":[\"KIA\"],\"yaxis\":\"y\",\"type\":\"bar\"},{\"alignmentgroup\":\"True\",\"hovertemplate\":\"EV Make=%{y}\\u003cbr\\u003eModel Year=2016\\u003cbr\\u003eNumber of EVs=%{x}\\u003cextra\\u003e\\u003c\\u002fextra\\u003e\",\"ids\":[\"AUDI\"],\"legendgroup\":\"AUDI\",\"marker\":{\"color\":\"#FF97FF\",\"pattern\":{\"shape\":\"\"}},\"name\":\"AUDI\",\"offsetgroup\":\"AUDI\",\"orientation\":\"h\",\"showlegend\":true,\"textposition\":\"auto\",\"x\":[214],\"xaxis\":\"x\",\"y\":[\"AUDI\"],\"yaxis\":\"y\",\"type\":\"bar\"},{\"alignmentgroup\":\"True\",\"hovertemplate\":\"EV Make=%{y}\\u003cbr\\u003eModel Year=2016\\u003cbr\\u003eNumber of EVs=%{x}\\u003cextra\\u003e\\u003c\\u002fextra\\u003e\",\"ids\":[\"VOLVO\"],\"legendgroup\":\"VOLVO\",\"marker\":{\"color\":\"#FECB52\",\"pattern\":{\"shape\":\"\"}},\"name\":\"VOLVO\",\"offsetgroup\":\"VOLVO\",\"orientation\":\"h\",\"showlegend\":true,\"textposition\":\"auto\",\"x\":[112],\"xaxis\":\"x\",\"y\":[\"VOLVO\"],\"yaxis\":\"y\",\"type\":\"bar\"}],\"name\":\"2016\"},{\"data\":[{\"alignmentgroup\":\"True\",\"hovertemplate\":\"EV Make=%{y}\\u003cbr\\u003eModel Year=2017\\u003cbr\\u003eNumber of EVs=%{x}\\u003cextra\\u003e\\u003c\\u002fextra\\u003e\",\"ids\":[\"CHEVROLET\"],\"legendgroup\":\"CHEVROLET\",\"marker\":{\"color\":\"#636efa\",\"pattern\":{\"shape\":\"\"}},\"name\":\"CHEVROLET\",\"offsetgroup\":\"CHEVROLET\",\"orientation\":\"h\",\"showlegend\":true,\"textposition\":\"auto\",\"x\":[2744],\"xaxis\":\"x\",\"y\":[\"CHEVROLET\"],\"yaxis\":\"y\",\"type\":\"bar\"},{\"alignmentgroup\":\"True\",\"hovertemplate\":\"EV Make=%{y}\\u003cbr\\u003eModel Year=2017\\u003cbr\\u003eNumber of EVs=%{x}\\u003cextra\\u003e\\u003c\\u002fextra\\u003e\",\"ids\":[\"FORD\"],\"legendgroup\":\"FORD\",\"marker\":{\"color\":\"#EF553B\",\"pattern\":{\"shape\":\"\"}},\"name\":\"FORD\",\"offsetgroup\":\"FORD\",\"orientation\":\"h\",\"showlegend\":true,\"textposition\":\"auto\",\"x\":[659],\"xaxis\":\"x\",\"y\":[\"FORD\"],\"yaxis\":\"y\",\"type\":\"bar\"},{\"alignmentgroup\":\"True\",\"hovertemplate\":\"EV Make=%{y}\\u003cbr\\u003eModel Year=2017\\u003cbr\\u003eNumber of EVs=%{x}\\u003cextra\\u003e\\u003c\\u002fextra\\u003e\",\"ids\":[\"TOYOTA\"],\"legendgroup\":\"TOYOTA\",\"marker\":{\"color\":\"#00cc96\",\"pattern\":{\"shape\":\"\"}},\"name\":\"TOYOTA\",\"offsetgroup\":\"TOYOTA\",\"orientation\":\"h\",\"showlegend\":true,\"textposition\":\"auto\",\"x\":[899],\"xaxis\":\"x\",\"y\":[\"TOYOTA\"],\"yaxis\":\"y\",\"type\":\"bar\"},{\"alignmentgroup\":\"True\",\"hovertemplate\":\"EV Make=%{y}\\u003cbr\\u003eModel Year=2017\\u003cbr\\u003eNumber of EVs=%{x}\\u003cextra\\u003e\\u003c\\u002fextra\\u003e\",\"ids\":[\"TESLA\"],\"legendgroup\":\"TESLA\",\"marker\":{\"color\":\"#ab63fa\",\"pattern\":{\"shape\":\"\"}},\"name\":\"TESLA\",\"offsetgroup\":\"TESLA\",\"orientation\":\"h\",\"showlegend\":true,\"textposition\":\"auto\",\"x\":[1679],\"xaxis\":\"x\",\"y\":[\"TESLA\"],\"yaxis\":\"y\",\"type\":\"bar\"},{\"alignmentgroup\":\"True\",\"hovertemplate\":\"EV Make=%{y}\\u003cbr\\u003eModel Year=2017\\u003cbr\\u003eNumber of EVs=%{x}\\u003cextra\\u003e\\u003c\\u002fextra\\u003e\",\"ids\":[\"NISSAN\"],\"legendgroup\":\"NISSAN\",\"marker\":{\"color\":\"#FFA15A\",\"pattern\":{\"shape\":\"\"}},\"name\":\"NISSAN\",\"offsetgroup\":\"NISSAN\",\"orientation\":\"h\",\"showlegend\":true,\"textposition\":\"auto\",\"x\":[934],\"xaxis\":\"x\",\"y\":[\"NISSAN\"],\"yaxis\":\"y\",\"type\":\"bar\"},{\"alignmentgroup\":\"True\",\"hovertemplate\":\"EV Make=%{y}\\u003cbr\\u003eModel Year=2017\\u003cbr\\u003eNumber of EVs=%{x}\\u003cextra\\u003e\\u003c\\u002fextra\\u003e\",\"ids\":[\"BMW\"],\"legendgroup\":\"BMW\",\"marker\":{\"color\":\"#19d3f3\",\"pattern\":{\"shape\":\"\"}},\"name\":\"BMW\",\"offsetgroup\":\"BMW\",\"orientation\":\"h\",\"showlegend\":true,\"textposition\":\"auto\",\"x\":[692],\"xaxis\":\"x\",\"y\":[\"BMW\"],\"yaxis\":\"y\",\"type\":\"bar\"},{\"alignmentgroup\":\"True\",\"hovertemplate\":\"EV Make=%{y}\\u003cbr\\u003eModel Year=2017\\u003cbr\\u003eNumber of EVs=%{x}\\u003cextra\\u003e\\u003c\\u002fextra\\u003e\",\"ids\":[\"VOLKSWAGEN\"],\"legendgroup\":\"VOLKSWAGEN\",\"marker\":{\"color\":\"#FF6692\",\"pattern\":{\"shape\":\"\"}},\"name\":\"VOLKSWAGEN\",\"offsetgroup\":\"VOLKSWAGEN\",\"orientation\":\"h\",\"showlegend\":true,\"textposition\":\"auto\",\"x\":[52],\"xaxis\":\"x\",\"y\":[\"VOLKSWAGEN\"],\"yaxis\":\"y\",\"type\":\"bar\"},{\"alignmentgroup\":\"True\",\"hovertemplate\":\"EV Make=%{y}\\u003cbr\\u003eModel Year=2017\\u003cbr\\u003eNumber of EVs=%{x}\\u003cextra\\u003e\\u003c\\u002fextra\\u003e\",\"ids\":[\"KIA\"],\"legendgroup\":\"KIA\",\"marker\":{\"color\":\"#B6E880\",\"pattern\":{\"shape\":\"\"}},\"name\":\"KIA\",\"offsetgroup\":\"KIA\",\"orientation\":\"h\",\"showlegend\":true,\"textposition\":\"auto\",\"x\":[210],\"xaxis\":\"x\",\"y\":[\"KIA\"],\"yaxis\":\"y\",\"type\":\"bar\"},{\"alignmentgroup\":\"True\",\"hovertemplate\":\"EV Make=%{y}\\u003cbr\\u003eModel Year=2017\\u003cbr\\u003eNumber of EVs=%{x}\\u003cextra\\u003e\\u003c\\u002fextra\\u003e\",\"ids\":[\"AUDI\"],\"legendgroup\":\"AUDI\",\"marker\":{\"color\":\"#FF97FF\",\"pattern\":{\"shape\":\"\"}},\"name\":\"AUDI\",\"offsetgroup\":\"AUDI\",\"orientation\":\"h\",\"showlegend\":true,\"textposition\":\"auto\",\"x\":[187],\"xaxis\":\"x\",\"y\":[\"AUDI\"],\"yaxis\":\"y\",\"type\":\"bar\"},{\"alignmentgroup\":\"True\",\"hovertemplate\":\"EV Make=%{y}\\u003cbr\\u003eModel Year=2017\\u003cbr\\u003eNumber of EVs=%{x}\\u003cextra\\u003e\\u003c\\u002fextra\\u003e\",\"ids\":[\"VOLVO\"],\"legendgroup\":\"VOLVO\",\"marker\":{\"color\":\"#FECB52\",\"pattern\":{\"shape\":\"\"}},\"name\":\"VOLVO\",\"offsetgroup\":\"VOLVO\",\"orientation\":\"h\",\"showlegend\":true,\"textposition\":\"auto\",\"x\":[115],\"xaxis\":\"x\",\"y\":[\"VOLVO\"],\"yaxis\":\"y\",\"type\":\"bar\"}],\"name\":\"2017\"},{\"data\":[{\"alignmentgroup\":\"True\",\"hovertemplate\":\"EV Make=%{y}\\u003cbr\\u003eModel Year=2018\\u003cbr\\u003eNumber of EVs=%{x}\\u003cextra\\u003e\\u003c\\u002fextra\\u003e\",\"ids\":[\"CHEVROLET\"],\"legendgroup\":\"CHEVROLET\",\"marker\":{\"color\":\"#636efa\",\"pattern\":{\"shape\":\"\"}},\"name\":\"CHEVROLET\",\"offsetgroup\":\"CHEVROLET\",\"orientation\":\"h\",\"showlegend\":true,\"textposition\":\"auto\",\"x\":[1126],\"xaxis\":\"x\",\"y\":[\"CHEVROLET\"],\"yaxis\":\"y\",\"type\":\"bar\"},{\"alignmentgroup\":\"True\",\"hovertemplate\":\"EV Make=%{y}\\u003cbr\\u003eModel Year=2018\\u003cbr\\u003eNumber of EVs=%{x}\\u003cextra\\u003e\\u003c\\u002fextra\\u003e\",\"ids\":[\"FORD\"],\"legendgroup\":\"FORD\",\"marker\":{\"color\":\"#EF553B\",\"pattern\":{\"shape\":\"\"}},\"name\":\"FORD\",\"offsetgroup\":\"FORD\",\"orientation\":\"h\",\"showlegend\":true,\"textposition\":\"auto\",\"x\":[170],\"xaxis\":\"x\",\"y\":[\"FORD\"],\"yaxis\":\"y\",\"type\":\"bar\"},{\"alignmentgroup\":\"True\",\"hovertemplate\":\"EV Make=%{y}\\u003cbr\\u003eModel Year=2018\\u003cbr\\u003eNumber of EVs=%{x}\\u003cextra\\u003e\\u003c\\u002fextra\\u003e\",\"ids\":[\"TOYOTA\"],\"legendgroup\":\"TOYOTA\",\"marker\":{\"color\":\"#00cc96\",\"pattern\":{\"shape\":\"\"}},\"name\":\"TOYOTA\",\"offsetgroup\":\"TOYOTA\",\"orientation\":\"h\",\"showlegend\":true,\"textposition\":\"auto\",\"x\":[659],\"xaxis\":\"x\",\"y\":[\"TOYOTA\"],\"yaxis\":\"y\",\"type\":\"bar\"},{\"alignmentgroup\":\"True\",\"hovertemplate\":\"EV Make=%{y}\\u003cbr\\u003eModel Year=2018\\u003cbr\\u003eNumber of EVs=%{x}\\u003cextra\\u003e\\u003c\\u002fextra\\u003e\",\"ids\":[\"TESLA\"],\"legendgroup\":\"TESLA\",\"marker\":{\"color\":\"#ab63fa\",\"pattern\":{\"shape\":\"\"}},\"name\":\"TESLA\",\"offsetgroup\":\"TESLA\",\"orientation\":\"h\",\"showlegend\":true,\"textposition\":\"auto\",\"x\":[7919],\"xaxis\":\"x\",\"y\":[\"TESLA\"],\"yaxis\":\"y\",\"type\":\"bar\"},{\"alignmentgroup\":\"True\",\"hovertemplate\":\"EV Make=%{y}\\u003cbr\\u003eModel Year=2018\\u003cbr\\u003eNumber of EVs=%{x}\\u003cextra\\u003e\\u003c\\u002fextra\\u003e\",\"ids\":[\"NISSAN\"],\"legendgroup\":\"NISSAN\",\"marker\":{\"color\":\"#FFA15A\",\"pattern\":{\"shape\":\"\"}},\"name\":\"NISSAN\",\"offsetgroup\":\"NISSAN\",\"orientation\":\"h\",\"showlegend\":true,\"textposition\":\"auto\",\"x\":[1232],\"xaxis\":\"x\",\"y\":[\"NISSAN\"],\"yaxis\":\"y\",\"type\":\"bar\"},{\"alignmentgroup\":\"True\",\"hovertemplate\":\"EV Make=%{y}\\u003cbr\\u003eModel Year=2018\\u003cbr\\u003eNumber of EVs=%{x}\\u003cextra\\u003e\\u003c\\u002fextra\\u003e\",\"ids\":[\"BMW\"],\"legendgroup\":\"BMW\",\"marker\":{\"color\":\"#19d3f3\",\"pattern\":{\"shape\":\"\"}},\"name\":\"BMW\",\"offsetgroup\":\"BMW\",\"orientation\":\"h\",\"showlegend\":true,\"textposition\":\"auto\",\"x\":[710],\"xaxis\":\"x\",\"y\":[\"BMW\"],\"yaxis\":\"y\",\"type\":\"bar\"},{\"alignmentgroup\":\"True\",\"hovertemplate\":\"EV Make=%{y}\\u003cbr\\u003eModel Year=2018\\u003cbr\\u003eNumber of EVs=%{x}\\u003cextra\\u003e\\u003c\\u002fextra\\u003e\",\"ids\":[\"VOLKSWAGEN\"],\"legendgroup\":\"VOLKSWAGEN\",\"marker\":{\"color\":\"#FF6692\",\"pattern\":{\"shape\":\"\"}},\"name\":\"VOLKSWAGEN\",\"offsetgroup\":\"VOLKSWAGEN\",\"orientation\":\"h\",\"showlegend\":true,\"textposition\":\"auto\",\"x\":[39],\"xaxis\":\"x\",\"y\":[\"VOLKSWAGEN\"],\"yaxis\":\"y\",\"type\":\"bar\"},{\"alignmentgroup\":\"True\",\"hovertemplate\":\"EV Make=%{y}\\u003cbr\\u003eModel Year=2018\\u003cbr\\u003eNumber of EVs=%{x}\\u003cextra\\u003e\\u003c\\u002fextra\\u003e\",\"ids\":[\"KIA\"],\"legendgroup\":\"KIA\",\"marker\":{\"color\":\"#B6E880\",\"pattern\":{\"shape\":\"\"}},\"name\":\"KIA\",\"offsetgroup\":\"KIA\",\"orientation\":\"h\",\"showlegend\":true,\"textposition\":\"auto\",\"x\":[322],\"xaxis\":\"x\",\"y\":[\"KIA\"],\"yaxis\":\"y\",\"type\":\"bar\"},{\"alignmentgroup\":\"True\",\"hovertemplate\":\"EV Make=%{y}\\u003cbr\\u003eModel Year=2018\\u003cbr\\u003eNumber of EVs=%{x}\\u003cextra\\u003e\\u003c\\u002fextra\\u003e\",\"ids\":[\"AUDI\"],\"legendgroup\":\"AUDI\",\"marker\":{\"color\":\"#FF97FF\",\"pattern\":{\"shape\":\"\"}},\"name\":\"AUDI\",\"offsetgroup\":\"AUDI\",\"orientation\":\"h\",\"showlegend\":true,\"textposition\":\"auto\",\"x\":[174],\"xaxis\":\"x\",\"y\":[\"AUDI\"],\"yaxis\":\"y\",\"type\":\"bar\"},{\"alignmentgroup\":\"True\",\"hovertemplate\":\"EV Make=%{y}\\u003cbr\\u003eModel Year=2018\\u003cbr\\u003eNumber of EVs=%{x}\\u003cextra\\u003e\\u003c\\u002fextra\\u003e\",\"ids\":[\"VOLVO\"],\"legendgroup\":\"VOLVO\",\"marker\":{\"color\":\"#FECB52\",\"pattern\":{\"shape\":\"\"}},\"name\":\"VOLVO\",\"offsetgroup\":\"VOLVO\",\"orientation\":\"h\",\"showlegend\":true,\"textposition\":\"auto\",\"x\":[226],\"xaxis\":\"x\",\"y\":[\"VOLVO\"],\"yaxis\":\"y\",\"type\":\"bar\"}],\"name\":\"2018\"},{\"data\":[{\"alignmentgroup\":\"True\",\"hovertemplate\":\"EV Make=%{y}\\u003cbr\\u003eModel Year=2019\\u003cbr\\u003eNumber of EVs=%{x}\\u003cextra\\u003e\\u003c\\u002fextra\\u003e\",\"ids\":[\"CHEVROLET\"],\"legendgroup\":\"CHEVROLET\",\"marker\":{\"color\":\"#636efa\",\"pattern\":{\"shape\":\"\"}},\"name\":\"CHEVROLET\",\"offsetgroup\":\"CHEVROLET\",\"orientation\":\"h\",\"showlegend\":true,\"textposition\":\"auto\",\"x\":[966],\"xaxis\":\"x\",\"y\":[\"CHEVROLET\"],\"yaxis\":\"y\",\"type\":\"bar\"},{\"alignmentgroup\":\"True\",\"hovertemplate\":\"EV Make=%{y}\\u003cbr\\u003eModel Year=2019\\u003cbr\\u003eNumber of EVs=%{x}\\u003cextra\\u003e\\u003c\\u002fextra\\u003e\",\"ids\":[\"FORD\"],\"legendgroup\":\"FORD\",\"marker\":{\"color\":\"#EF553B\",\"pattern\":{\"shape\":\"\"}},\"name\":\"FORD\",\"offsetgroup\":\"FORD\",\"orientation\":\"h\",\"showlegend\":true,\"textposition\":\"auto\",\"x\":[136],\"xaxis\":\"x\",\"y\":[\"FORD\"],\"yaxis\":\"y\",\"type\":\"bar\"},{\"alignmentgroup\":\"True\",\"hovertemplate\":\"EV Make=%{y}\\u003cbr\\u003eModel Year=2019\\u003cbr\\u003eNumber of EVs=%{x}\\u003cextra\\u003e\\u003c\\u002fextra\\u003e\",\"ids\":[\"TOYOTA\"],\"legendgroup\":\"TOYOTA\",\"marker\":{\"color\":\"#00cc96\",\"pattern\":{\"shape\":\"\"}},\"name\":\"TOYOTA\",\"offsetgroup\":\"TOYOTA\",\"orientation\":\"h\",\"showlegend\":true,\"textposition\":\"auto\",\"x\":[190],\"xaxis\":\"x\",\"y\":[\"TOYOTA\"],\"yaxis\":\"y\",\"type\":\"bar\"},{\"alignmentgroup\":\"True\",\"hovertemplate\":\"EV Make=%{y}\\u003cbr\\u003eModel Year=2019\\u003cbr\\u003eNumber of EVs=%{x}\\u003cextra\\u003e\\u003c\\u002fextra\\u003e\",\"ids\":[\"TESLA\"],\"legendgroup\":\"TESLA\",\"marker\":{\"color\":\"#ab63fa\",\"pattern\":{\"shape\":\"\"}},\"name\":\"TESLA\",\"offsetgroup\":\"TESLA\",\"orientation\":\"h\",\"showlegend\":true,\"textposition\":\"auto\",\"x\":[4583],\"xaxis\":\"x\",\"y\":[\"TESLA\"],\"yaxis\":\"y\",\"type\":\"bar\"},{\"alignmentgroup\":\"True\",\"hovertemplate\":\"EV Make=%{y}\\u003cbr\\u003eModel Year=2019\\u003cbr\\u003eNumber of EVs=%{x}\\u003cextra\\u003e\\u003c\\u002fextra\\u003e\",\"ids\":[\"NISSAN\"],\"legendgroup\":\"NISSAN\",\"marker\":{\"color\":\"#FFA15A\",\"pattern\":{\"shape\":\"\"}},\"name\":\"NISSAN\",\"offsetgroup\":\"NISSAN\",\"orientation\":\"h\",\"showlegend\":true,\"textposition\":\"auto\",\"x\":[1409],\"xaxis\":\"x\",\"y\":[\"NISSAN\"],\"yaxis\":\"y\",\"type\":\"bar\"},{\"alignmentgroup\":\"True\",\"hovertemplate\":\"EV Make=%{y}\\u003cbr\\u003eModel Year=2019\\u003cbr\\u003eNumber of EVs=%{x}\\u003cextra\\u003e\\u003c\\u002fextra\\u003e\",\"ids\":[\"BMW\"],\"legendgroup\":\"BMW\",\"marker\":{\"color\":\"#19d3f3\",\"pattern\":{\"shape\":\"\"}},\"name\":\"BMW\",\"offsetgroup\":\"BMW\",\"orientation\":\"h\",\"showlegend\":true,\"textposition\":\"auto\",\"x\":[279],\"xaxis\":\"x\",\"y\":[\"BMW\"],\"yaxis\":\"y\",\"type\":\"bar\"},{\"alignmentgroup\":\"True\",\"hovertemplate\":\"EV Make=%{y}\\u003cbr\\u003eModel Year=2019\\u003cbr\\u003eNumber of EVs=%{x}\\u003cextra\\u003e\\u003c\\u002fextra\\u003e\",\"ids\":[\"VOLKSWAGEN\"],\"legendgroup\":\"VOLKSWAGEN\",\"marker\":{\"color\":\"#FF6692\",\"pattern\":{\"shape\":\"\"}},\"name\":\"VOLKSWAGEN\",\"offsetgroup\":\"VOLKSWAGEN\",\"orientation\":\"h\",\"showlegend\":true,\"textposition\":\"auto\",\"x\":[495],\"xaxis\":\"x\",\"y\":[\"VOLKSWAGEN\"],\"yaxis\":\"y\",\"type\":\"bar\"},{\"alignmentgroup\":\"True\",\"hovertemplate\":\"EV Make=%{y}\\u003cbr\\u003eModel Year=2019\\u003cbr\\u003eNumber of EVs=%{x}\\u003cextra\\u003e\\u003c\\u002fextra\\u003e\",\"ids\":[\"KIA\"],\"legendgroup\":\"KIA\",\"marker\":{\"color\":\"#B6E880\",\"pattern\":{\"shape\":\"\"}},\"name\":\"KIA\",\"offsetgroup\":\"KIA\",\"orientation\":\"h\",\"showlegend\":true,\"textposition\":\"auto\",\"x\":[681],\"xaxis\":\"x\",\"y\":[\"KIA\"],\"yaxis\":\"y\",\"type\":\"bar\"},{\"alignmentgroup\":\"True\",\"hovertemplate\":\"EV Make=%{y}\\u003cbr\\u003eModel Year=2019\\u003cbr\\u003eNumber of EVs=%{x}\\u003cextra\\u003e\\u003c\\u002fextra\\u003e\",\"ids\":[\"AUDI\"],\"legendgroup\":\"AUDI\",\"marker\":{\"color\":\"#FF97FF\",\"pattern\":{\"shape\":\"\"}},\"name\":\"AUDI\",\"offsetgroup\":\"AUDI\",\"orientation\":\"h\",\"showlegend\":true,\"textposition\":\"auto\",\"x\":[392],\"xaxis\":\"x\",\"y\":[\"AUDI\"],\"yaxis\":\"y\",\"type\":\"bar\"},{\"alignmentgroup\":\"True\",\"hovertemplate\":\"EV Make=%{y}\\u003cbr\\u003eModel Year=2019\\u003cbr\\u003eNumber of EVs=%{x}\\u003cextra\\u003e\\u003c\\u002fextra\\u003e\",\"ids\":[\"VOLVO\"],\"legendgroup\":\"VOLVO\",\"marker\":{\"color\":\"#FECB52\",\"pattern\":{\"shape\":\"\"}},\"name\":\"VOLVO\",\"offsetgroup\":\"VOLVO\",\"orientation\":\"h\",\"showlegend\":true,\"textposition\":\"auto\",\"x\":[190],\"xaxis\":\"x\",\"y\":[\"VOLVO\"],\"yaxis\":\"y\",\"type\":\"bar\"}],\"name\":\"2019\"},{\"data\":[{\"alignmentgroup\":\"True\",\"hovertemplate\":\"EV Make=%{y}\\u003cbr\\u003eModel Year=2020\\u003cbr\\u003eNumber of EVs=%{x}\\u003cextra\\u003e\\u003c\\u002fextra\\u003e\",\"ids\":[\"CHEVROLET\"],\"legendgroup\":\"CHEVROLET\",\"marker\":{\"color\":\"#636efa\",\"pattern\":{\"shape\":\"\"}},\"name\":\"CHEVROLET\",\"offsetgroup\":\"CHEVROLET\",\"orientation\":\"h\",\"showlegend\":true,\"textposition\":\"auto\",\"x\":[1014],\"xaxis\":\"x\",\"y\":[\"CHEVROLET\"],\"yaxis\":\"y\",\"type\":\"bar\"},{\"alignmentgroup\":\"True\",\"hovertemplate\":\"EV Make=%{y}\\u003cbr\\u003eModel Year=2020\\u003cbr\\u003eNumber of EVs=%{x}\\u003cextra\\u003e\\u003c\\u002fextra\\u003e\",\"ids\":[\"FORD\"],\"legendgroup\":\"FORD\",\"marker\":{\"color\":\"#EF553B\",\"pattern\":{\"shape\":\"\"}},\"name\":\"FORD\",\"offsetgroup\":\"FORD\",\"orientation\":\"h\",\"showlegend\":true,\"textposition\":\"auto\",\"x\":[65],\"xaxis\":\"x\",\"y\":[\"FORD\"],\"yaxis\":\"y\",\"type\":\"bar\"},{\"alignmentgroup\":\"True\",\"hovertemplate\":\"EV Make=%{y}\\u003cbr\\u003eModel Year=2020\\u003cbr\\u003eNumber of EVs=%{x}\\u003cextra\\u003e\\u003c\\u002fextra\\u003e\",\"ids\":[\"TOYOTA\"],\"legendgroup\":\"TOYOTA\",\"marker\":{\"color\":\"#00cc96\",\"pattern\":{\"shape\":\"\"}},\"name\":\"TOYOTA\",\"offsetgroup\":\"TOYOTA\",\"orientation\":\"h\",\"showlegend\":true,\"textposition\":\"auto\",\"x\":[311],\"xaxis\":\"x\",\"y\":[\"TOYOTA\"],\"yaxis\":\"y\",\"type\":\"bar\"},{\"alignmentgroup\":\"True\",\"hovertemplate\":\"EV Make=%{y}\\u003cbr\\u003eModel Year=2020\\u003cbr\\u003eNumber of EVs=%{x}\\u003cextra\\u003e\\u003c\\u002fextra\\u003e\",\"ids\":[\"TESLA\"],\"legendgroup\":\"TESLA\",\"marker\":{\"color\":\"#ab63fa\",\"pattern\":{\"shape\":\"\"}},\"name\":\"TESLA\",\"offsetgroup\":\"TESLA\",\"orientation\":\"h\",\"showlegend\":true,\"textposition\":\"auto\",\"x\":[7018],\"xaxis\":\"x\",\"y\":[\"TESLA\"],\"yaxis\":\"y\",\"type\":\"bar\"},{\"alignmentgroup\":\"True\",\"hovertemplate\":\"EV Make=%{y}\\u003cbr\\u003eModel Year=2020\\u003cbr\\u003eNumber of EVs=%{x}\\u003cextra\\u003e\\u003c\\u002fextra\\u003e\",\"ids\":[\"NISSAN\"],\"legendgroup\":\"NISSAN\",\"marker\":{\"color\":\"#FFA15A\",\"pattern\":{\"shape\":\"\"}},\"name\":\"NISSAN\",\"offsetgroup\":\"NISSAN\",\"orientation\":\"h\",\"showlegend\":true,\"textposition\":\"auto\",\"x\":[580],\"xaxis\":\"x\",\"y\":[\"NISSAN\"],\"yaxis\":\"y\",\"type\":\"bar\"},{\"alignmentgroup\":\"True\",\"hovertemplate\":\"EV Make=%{y}\\u003cbr\\u003eModel Year=2020\\u003cbr\\u003eNumber of EVs=%{x}\\u003cextra\\u003e\\u003c\\u002fextra\\u003e\",\"ids\":[\"BMW\"],\"legendgroup\":\"BMW\",\"marker\":{\"color\":\"#19d3f3\",\"pattern\":{\"shape\":\"\"}},\"name\":\"BMW\",\"offsetgroup\":\"BMW\",\"orientation\":\"h\",\"showlegend\":true,\"textposition\":\"auto\",\"x\":[143],\"xaxis\":\"x\",\"y\":[\"BMW\"],\"yaxis\":\"y\",\"type\":\"bar\"},{\"alignmentgroup\":\"True\",\"hovertemplate\":\"EV Make=%{y}\\u003cbr\\u003eModel Year=2020\\u003cbr\\u003eNumber of EVs=%{x}\\u003cextra\\u003e\\u003c\\u002fextra\\u003e\",\"ids\":[\"KIA\"],\"legendgroup\":\"KIA\",\"marker\":{\"color\":\"#B6E880\",\"pattern\":{\"shape\":\"\"}},\"name\":\"KIA\",\"offsetgroup\":\"KIA\",\"orientation\":\"h\",\"showlegend\":true,\"textposition\":\"auto\",\"x\":[535],\"xaxis\":\"x\",\"y\":[\"KIA\"],\"yaxis\":\"y\",\"type\":\"bar\"},{\"alignmentgroup\":\"True\",\"hovertemplate\":\"EV Make=%{y}\\u003cbr\\u003eModel Year=2020\\u003cbr\\u003eNumber of EVs=%{x}\\u003cextra\\u003e\\u003c\\u002fextra\\u003e\",\"ids\":[\"AUDI\"],\"legendgroup\":\"AUDI\",\"marker\":{\"color\":\"#FF97FF\",\"pattern\":{\"shape\":\"\"}},\"name\":\"AUDI\",\"offsetgroup\":\"AUDI\",\"orientation\":\"h\",\"showlegend\":true,\"textposition\":\"auto\",\"x\":[224],\"xaxis\":\"x\",\"y\":[\"AUDI\"],\"yaxis\":\"y\",\"type\":\"bar\"},{\"alignmentgroup\":\"True\",\"hovertemplate\":\"EV Make=%{y}\\u003cbr\\u003eModel Year=2020\\u003cbr\\u003eNumber of EVs=%{x}\\u003cextra\\u003e\\u003c\\u002fextra\\u003e\",\"ids\":[\"VOLVO\"],\"legendgroup\":\"VOLVO\",\"marker\":{\"color\":\"#FECB52\",\"pattern\":{\"shape\":\"\"}},\"name\":\"VOLVO\",\"offsetgroup\":\"VOLVO\",\"orientation\":\"h\",\"showlegend\":true,\"textposition\":\"auto\",\"x\":[162],\"xaxis\":\"x\",\"y\":[\"VOLVO\"],\"yaxis\":\"y\",\"type\":\"bar\"}],\"name\":\"2020\"},{\"data\":[{\"alignmentgroup\":\"True\",\"hovertemplate\":\"EV Make=%{y}\\u003cbr\\u003eModel Year=2021\\u003cbr\\u003eNumber of EVs=%{x}\\u003cextra\\u003e\\u003c\\u002fextra\\u003e\",\"ids\":[\"CHEVROLET\"],\"legendgroup\":\"CHEVROLET\",\"marker\":{\"color\":\"#636efa\",\"pattern\":{\"shape\":\"\"}},\"name\":\"CHEVROLET\",\"offsetgroup\":\"CHEVROLET\",\"orientation\":\"h\",\"showlegend\":true,\"textposition\":\"auto\",\"x\":[377],\"xaxis\":\"x\",\"y\":[\"CHEVROLET\"],\"yaxis\":\"y\",\"type\":\"bar\"},{\"alignmentgroup\":\"True\",\"hovertemplate\":\"EV Make=%{y}\\u003cbr\\u003eModel Year=2021\\u003cbr\\u003eNumber of EVs=%{x}\\u003cextra\\u003e\\u003c\\u002fextra\\u003e\",\"ids\":[\"FORD\"],\"legendgroup\":\"FORD\",\"marker\":{\"color\":\"#EF553B\",\"pattern\":{\"shape\":\"\"}},\"name\":\"FORD\",\"offsetgroup\":\"FORD\",\"orientation\":\"h\",\"showlegend\":true,\"textposition\":\"auto\",\"x\":[882],\"xaxis\":\"x\",\"y\":[\"FORD\"],\"yaxis\":\"y\",\"type\":\"bar\"},{\"alignmentgroup\":\"True\",\"hovertemplate\":\"EV Make=%{y}\\u003cbr\\u003eModel Year=2021\\u003cbr\\u003eNumber of EVs=%{x}\\u003cextra\\u003e\\u003c\\u002fextra\\u003e\",\"ids\":[\"TOYOTA\"],\"legendgroup\":\"TOYOTA\",\"marker\":{\"color\":\"#00cc96\",\"pattern\":{\"shape\":\"\"}},\"name\":\"TOYOTA\",\"offsetgroup\":\"TOYOTA\",\"orientation\":\"h\",\"showlegend\":true,\"textposition\":\"auto\",\"x\":[935],\"xaxis\":\"x\",\"y\":[\"TOYOTA\"],\"yaxis\":\"y\",\"type\":\"bar\"},{\"alignmentgroup\":\"True\",\"hovertemplate\":\"EV Make=%{y}\\u003cbr\\u003eModel Year=2021\\u003cbr\\u003eNumber of EVs=%{x}\\u003cextra\\u003e\\u003c\\u002fextra\\u003e\",\"ids\":[\"TESLA\"],\"legendgroup\":\"TESLA\",\"marker\":{\"color\":\"#ab63fa\",\"pattern\":{\"shape\":\"\"}},\"name\":\"TESLA\",\"offsetgroup\":\"TESLA\",\"orientation\":\"h\",\"showlegend\":true,\"textposition\":\"auto\",\"x\":[11028],\"xaxis\":\"x\",\"y\":[\"TESLA\"],\"yaxis\":\"y\",\"type\":\"bar\"},{\"alignmentgroup\":\"True\",\"hovertemplate\":\"EV Make=%{y}\\u003cbr\\u003eModel Year=2021\\u003cbr\\u003eNumber of EVs=%{x}\\u003cextra\\u003e\\u003c\\u002fextra\\u003e\",\"ids\":[\"NISSAN\"],\"legendgroup\":\"NISSAN\",\"marker\":{\"color\":\"#FFA15A\",\"pattern\":{\"shape\":\"\"}},\"name\":\"NISSAN\",\"offsetgroup\":\"NISSAN\",\"orientation\":\"h\",\"showlegend\":true,\"textposition\":\"auto\",\"x\":[534],\"xaxis\":\"x\",\"y\":[\"NISSAN\"],\"yaxis\":\"y\",\"type\":\"bar\"},{\"alignmentgroup\":\"True\",\"hovertemplate\":\"EV Make=%{y}\\u003cbr\\u003eModel Year=2021\\u003cbr\\u003eNumber of EVs=%{x}\\u003cextra\\u003e\\u003c\\u002fextra\\u003e\",\"ids\":[\"BMW\"],\"legendgroup\":\"BMW\",\"marker\":{\"color\":\"#19d3f3\",\"pattern\":{\"shape\":\"\"}},\"name\":\"BMW\",\"offsetgroup\":\"BMW\",\"orientation\":\"h\",\"showlegend\":true,\"textposition\":\"auto\",\"x\":[635],\"xaxis\":\"x\",\"y\":[\"BMW\"],\"yaxis\":\"y\",\"type\":\"bar\"},{\"alignmentgroup\":\"True\",\"hovertemplate\":\"EV Make=%{y}\\u003cbr\\u003eModel Year=2021\\u003cbr\\u003eNumber of EVs=%{x}\\u003cextra\\u003e\\u003c\\u002fextra\\u003e\",\"ids\":[\"VOLKSWAGEN\"],\"legendgroup\":\"VOLKSWAGEN\",\"marker\":{\"color\":\"#FF6692\",\"pattern\":{\"shape\":\"\"}},\"name\":\"VOLKSWAGEN\",\"offsetgroup\":\"VOLKSWAGEN\",\"orientation\":\"h\",\"showlegend\":true,\"textposition\":\"auto\",\"x\":[988],\"xaxis\":\"x\",\"y\":[\"VOLKSWAGEN\"],\"yaxis\":\"y\",\"type\":\"bar\"},{\"alignmentgroup\":\"True\",\"hovertemplate\":\"EV Make=%{y}\\u003cbr\\u003eModel Year=2021\\u003cbr\\u003eNumber of EVs=%{x}\\u003cextra\\u003e\\u003c\\u002fextra\\u003e\",\"ids\":[\"KIA\"],\"legendgroup\":\"KIA\",\"marker\":{\"color\":\"#B6E880\",\"pattern\":{\"shape\":\"\"}},\"name\":\"KIA\",\"offsetgroup\":\"KIA\",\"orientation\":\"h\",\"showlegend\":true,\"textposition\":\"auto\",\"x\":[74],\"xaxis\":\"x\",\"y\":[\"KIA\"],\"yaxis\":\"y\",\"type\":\"bar\"},{\"alignmentgroup\":\"True\",\"hovertemplate\":\"EV Make=%{y}\\u003cbr\\u003eModel Year=2021\\u003cbr\\u003eNumber of EVs=%{x}\\u003cextra\\u003e\\u003c\\u002fextra\\u003e\",\"ids\":[\"AUDI\"],\"legendgroup\":\"AUDI\",\"marker\":{\"color\":\"#FF97FF\",\"pattern\":{\"shape\":\"\"}},\"name\":\"AUDI\",\"offsetgroup\":\"AUDI\",\"orientation\":\"h\",\"showlegend\":true,\"textposition\":\"auto\",\"x\":[544],\"xaxis\":\"x\",\"y\":[\"AUDI\"],\"yaxis\":\"y\",\"type\":\"bar\"},{\"alignmentgroup\":\"True\",\"hovertemplate\":\"EV Make=%{y}\\u003cbr\\u003eModel Year=2021\\u003cbr\\u003eNumber of EVs=%{x}\\u003cextra\\u003e\\u003c\\u002fextra\\u003e\",\"ids\":[\"VOLVO\"],\"legendgroup\":\"VOLVO\",\"marker\":{\"color\":\"#FECB52\",\"pattern\":{\"shape\":\"\"}},\"name\":\"VOLVO\",\"offsetgroup\":\"VOLVO\",\"orientation\":\"h\",\"showlegend\":true,\"textposition\":\"auto\",\"x\":[580],\"xaxis\":\"x\",\"y\":[\"VOLVO\"],\"yaxis\":\"y\",\"type\":\"bar\"}],\"name\":\"2021\"},{\"data\":[{\"alignmentgroup\":\"True\",\"hovertemplate\":\"EV Make=%{y}\\u003cbr\\u003eModel Year=2022\\u003cbr\\u003eNumber of EVs=%{x}\\u003cextra\\u003e\\u003c\\u002fextra\\u003e\",\"ids\":[\"CHEVROLET\"],\"legendgroup\":\"CHEVROLET\",\"marker\":{\"color\":\"#636efa\",\"pattern\":{\"shape\":\"\"}},\"name\":\"CHEVROLET\",\"offsetgroup\":\"CHEVROLET\",\"orientation\":\"h\",\"showlegend\":true,\"textposition\":\"auto\",\"x\":[892],\"xaxis\":\"x\",\"y\":[\"CHEVROLET\"],\"yaxis\":\"y\",\"type\":\"bar\"},{\"alignmentgroup\":\"True\",\"hovertemplate\":\"EV Make=%{y}\\u003cbr\\u003eModel Year=2022\\u003cbr\\u003eNumber of EVs=%{x}\\u003cextra\\u003e\\u003c\\u002fextra\\u003e\",\"ids\":[\"FORD\"],\"legendgroup\":\"FORD\",\"marker\":{\"color\":\"#EF553B\",\"pattern\":{\"shape\":\"\"}},\"name\":\"FORD\",\"offsetgroup\":\"FORD\",\"orientation\":\"h\",\"showlegend\":true,\"textposition\":\"auto\",\"x\":[1250],\"xaxis\":\"x\",\"y\":[\"FORD\"],\"yaxis\":\"y\",\"type\":\"bar\"},{\"alignmentgroup\":\"True\",\"hovertemplate\":\"EV Make=%{y}\\u003cbr\\u003eModel Year=2022\\u003cbr\\u003eNumber of EVs=%{x}\\u003cextra\\u003e\\u003c\\u002fextra\\u003e\",\"ids\":[\"TOYOTA\"],\"legendgroup\":\"TOYOTA\",\"marker\":{\"color\":\"#00cc96\",\"pattern\":{\"shape\":\"\"}},\"name\":\"TOYOTA\",\"offsetgroup\":\"TOYOTA\",\"orientation\":\"h\",\"showlegend\":true,\"textposition\":\"auto\",\"x\":[424],\"xaxis\":\"x\",\"y\":[\"TOYOTA\"],\"yaxis\":\"y\",\"type\":\"bar\"},{\"alignmentgroup\":\"True\",\"hovertemplate\":\"EV Make=%{y}\\u003cbr\\u003eModel Year=2022\\u003cbr\\u003eNumber of EVs=%{x}\\u003cextra\\u003e\\u003c\\u002fextra\\u003e\",\"ids\":[\"TESLA\"],\"legendgroup\":\"TESLA\",\"marker\":{\"color\":\"#ab63fa\",\"pattern\":{\"shape\":\"\"}},\"name\":\"TESLA\",\"offsetgroup\":\"TESLA\",\"orientation\":\"h\",\"showlegend\":true,\"textposition\":\"auto\",\"x\":[14548],\"xaxis\":\"x\",\"y\":[\"TESLA\"],\"yaxis\":\"y\",\"type\":\"bar\"},{\"alignmentgroup\":\"True\",\"hovertemplate\":\"EV Make=%{y}\\u003cbr\\u003eModel Year=2022\\u003cbr\\u003eNumber of EVs=%{x}\\u003cextra\\u003e\\u003c\\u002fextra\\u003e\",\"ids\":[\"NISSAN\"],\"legendgroup\":\"NISSAN\",\"marker\":{\"color\":\"#FFA15A\",\"pattern\":{\"shape\":\"\"}},\"name\":\"NISSAN\",\"offsetgroup\":\"NISSAN\",\"orientation\":\"h\",\"showlegend\":true,\"textposition\":\"auto\",\"x\":[970],\"xaxis\":\"x\",\"y\":[\"NISSAN\"],\"yaxis\":\"y\",\"type\":\"bar\"},{\"alignmentgroup\":\"True\",\"hovertemplate\":\"EV Make=%{y}\\u003cbr\\u003eModel Year=2022\\u003cbr\\u003eNumber of EVs=%{x}\\u003cextra\\u003e\\u003c\\u002fextra\\u003e\",\"ids\":[\"BMW\"],\"legendgroup\":\"BMW\",\"marker\":{\"color\":\"#19d3f3\",\"pattern\":{\"shape\":\"\"}},\"name\":\"BMW\",\"offsetgroup\":\"BMW\",\"orientation\":\"h\",\"showlegend\":true,\"textposition\":\"auto\",\"x\":[905],\"xaxis\":\"x\",\"y\":[\"BMW\"],\"yaxis\":\"y\",\"type\":\"bar\"},{\"alignmentgroup\":\"True\",\"hovertemplate\":\"EV Make=%{y}\\u003cbr\\u003eModel Year=2022\\u003cbr\\u003eNumber of EVs=%{x}\\u003cextra\\u003e\\u003c\\u002fextra\\u003e\",\"ids\":[\"VOLKSWAGEN\"],\"legendgroup\":\"VOLKSWAGEN\",\"marker\":{\"color\":\"#FF6692\",\"pattern\":{\"shape\":\"\"}},\"name\":\"VOLKSWAGEN\",\"offsetgroup\":\"VOLKSWAGEN\",\"orientation\":\"h\",\"showlegend\":true,\"textposition\":\"auto\",\"x\":[428],\"xaxis\":\"x\",\"y\":[\"VOLKSWAGEN\"],\"yaxis\":\"y\",\"type\":\"bar\"},{\"alignmentgroup\":\"True\",\"hovertemplate\":\"EV Make=%{y}\\u003cbr\\u003eModel Year=2022\\u003cbr\\u003eNumber of EVs=%{x}\\u003cextra\\u003e\\u003c\\u002fextra\\u003e\",\"ids\":[\"KIA\"],\"legendgroup\":\"KIA\",\"marker\":{\"color\":\"#B6E880\",\"pattern\":{\"shape\":\"\"}},\"name\":\"KIA\",\"offsetgroup\":\"KIA\",\"orientation\":\"h\",\"showlegend\":true,\"textposition\":\"auto\",\"x\":[2153],\"xaxis\":\"x\",\"y\":[\"KIA\"],\"yaxis\":\"y\",\"type\":\"bar\"},{\"alignmentgroup\":\"True\",\"hovertemplate\":\"EV Make=%{y}\\u003cbr\\u003eModel Year=2022\\u003cbr\\u003eNumber of EVs=%{x}\\u003cextra\\u003e\\u003c\\u002fextra\\u003e\",\"ids\":[\"AUDI\"],\"legendgroup\":\"AUDI\",\"marker\":{\"color\":\"#FF97FF\",\"pattern\":{\"shape\":\"\"}},\"name\":\"AUDI\",\"offsetgroup\":\"AUDI\",\"orientation\":\"h\",\"showlegend\":true,\"textposition\":\"auto\",\"x\":[585],\"xaxis\":\"x\",\"y\":[\"AUDI\"],\"yaxis\":\"y\",\"type\":\"bar\"},{\"alignmentgroup\":\"True\",\"hovertemplate\":\"EV Make=%{y}\\u003cbr\\u003eModel Year=2022\\u003cbr\\u003eNumber of EVs=%{x}\\u003cextra\\u003e\\u003c\\u002fextra\\u003e\",\"ids\":[\"VOLVO\"],\"legendgroup\":\"VOLVO\",\"marker\":{\"color\":\"#FECB52\",\"pattern\":{\"shape\":\"\"}},\"name\":\"VOLVO\",\"offsetgroup\":\"VOLVO\",\"orientation\":\"h\",\"showlegend\":true,\"textposition\":\"auto\",\"x\":[882],\"xaxis\":\"x\",\"y\":[\"VOLVO\"],\"yaxis\":\"y\",\"type\":\"bar\"}],\"name\":\"2022\"},{\"data\":[{\"alignmentgroup\":\"True\",\"hovertemplate\":\"EV Make=%{y}\\u003cbr\\u003eModel Year=2023\\u003cbr\\u003eNumber of EVs=%{x}\\u003cextra\\u003e\\u003c\\u002fextra\\u003e\",\"ids\":[\"CHEVROLET\"],\"legendgroup\":\"CHEVROLET\",\"marker\":{\"color\":\"#636efa\",\"pattern\":{\"shape\":\"\"}},\"name\":\"CHEVROLET\",\"offsetgroup\":\"CHEVROLET\",\"orientation\":\"h\",\"showlegend\":true,\"textposition\":\"auto\",\"x\":[177],\"xaxis\":\"x\",\"y\":[\"CHEVROLET\"],\"yaxis\":\"y\",\"type\":\"bar\"},{\"alignmentgroup\":\"True\",\"hovertemplate\":\"EV Make=%{y}\\u003cbr\\u003eModel Year=2023\\u003cbr\\u003eNumber of EVs=%{x}\\u003cextra\\u003e\\u003c\\u002fextra\\u003e\",\"ids\":[\"FORD\"],\"legendgroup\":\"FORD\",\"marker\":{\"color\":\"#EF553B\",\"pattern\":{\"shape\":\"\"}},\"name\":\"FORD\",\"offsetgroup\":\"FORD\",\"orientation\":\"h\",\"showlegend\":true,\"textposition\":\"auto\",\"x\":[4],\"xaxis\":\"x\",\"y\":[\"FORD\"],\"yaxis\":\"y\",\"type\":\"bar\"},{\"alignmentgroup\":\"True\",\"hovertemplate\":\"EV Make=%{y}\\u003cbr\\u003eModel Year=2023\\u003cbr\\u003eNumber of EVs=%{x}\\u003cextra\\u003e\\u003c\\u002fextra\\u003e\",\"ids\":[\"TESLA\"],\"legendgroup\":\"TESLA\",\"marker\":{\"color\":\"#ab63fa\",\"pattern\":{\"shape\":\"\"}},\"name\":\"TESLA\",\"offsetgroup\":\"TESLA\",\"orientation\":\"h\",\"showlegend\":true,\"textposition\":\"auto\",\"x\":[890],\"xaxis\":\"x\",\"y\":[\"TESLA\"],\"yaxis\":\"y\",\"type\":\"bar\"},{\"alignmentgroup\":\"True\",\"hovertemplate\":\"EV Make=%{y}\\u003cbr\\u003eModel Year=2023\\u003cbr\\u003eNumber of EVs=%{x}\\u003cextra\\u003e\\u003c\\u002fextra\\u003e\",\"ids\":[\"NISSAN\"],\"legendgroup\":\"NISSAN\",\"marker\":{\"color\":\"#FFA15A\",\"pattern\":{\"shape\":\"\"}},\"name\":\"NISSAN\",\"offsetgroup\":\"NISSAN\",\"orientation\":\"h\",\"showlegend\":true,\"textposition\":\"auto\",\"x\":[149],\"xaxis\":\"x\",\"y\":[\"NISSAN\"],\"yaxis\":\"y\",\"type\":\"bar\"},{\"alignmentgroup\":\"True\",\"hovertemplate\":\"EV Make=%{y}\\u003cbr\\u003eModel Year=2023\\u003cbr\\u003eNumber of EVs=%{x}\\u003cextra\\u003e\\u003c\\u002fextra\\u003e\",\"ids\":[\"BMW\"],\"legendgroup\":\"BMW\",\"marker\":{\"color\":\"#19d3f3\",\"pattern\":{\"shape\":\"\"}},\"name\":\"BMW\",\"offsetgroup\":\"BMW\",\"orientation\":\"h\",\"showlegend\":true,\"textposition\":\"auto\",\"x\":[73],\"xaxis\":\"x\",\"y\":[\"BMW\"],\"yaxis\":\"y\",\"type\":\"bar\"},{\"alignmentgroup\":\"True\",\"hovertemplate\":\"EV Make=%{y}\\u003cbr\\u003eModel Year=2023\\u003cbr\\u003eNumber of EVs=%{x}\\u003cextra\\u003e\\u003c\\u002fextra\\u003e\",\"ids\":[\"VOLKSWAGEN\"],\"legendgroup\":\"VOLKSWAGEN\",\"marker\":{\"color\":\"#FF6692\",\"pattern\":{\"shape\":\"\"}},\"name\":\"VOLKSWAGEN\",\"offsetgroup\":\"VOLKSWAGEN\",\"orientation\":\"h\",\"showlegend\":true,\"textposition\":\"auto\",\"x\":[69],\"xaxis\":\"x\",\"y\":[\"VOLKSWAGEN\"],\"yaxis\":\"y\",\"type\":\"bar\"},{\"alignmentgroup\":\"True\",\"hovertemplate\":\"EV Make=%{y}\\u003cbr\\u003eModel Year=2023\\u003cbr\\u003eNumber of EVs=%{x}\\u003cextra\\u003e\\u003c\\u002fextra\\u003e\",\"ids\":[\"KIA\"],\"legendgroup\":\"KIA\",\"marker\":{\"color\":\"#B6E880\",\"pattern\":{\"shape\":\"\"}},\"name\":\"KIA\",\"offsetgroup\":\"KIA\",\"orientation\":\"h\",\"showlegend\":true,\"textposition\":\"auto\",\"x\":[79],\"xaxis\":\"x\",\"y\":[\"KIA\"],\"yaxis\":\"y\",\"type\":\"bar\"},{\"alignmentgroup\":\"True\",\"hovertemplate\":\"EV Make=%{y}\\u003cbr\\u003eModel Year=2023\\u003cbr\\u003eNumber of EVs=%{x}\\u003cextra\\u003e\\u003c\\u002fextra\\u003e\",\"ids\":[\"AUDI\"],\"legendgroup\":\"AUDI\",\"marker\":{\"color\":\"#FF97FF\",\"pattern\":{\"shape\":\"\"}},\"name\":\"AUDI\",\"offsetgroup\":\"AUDI\",\"orientation\":\"h\",\"showlegend\":true,\"textposition\":\"auto\",\"x\":[12],\"xaxis\":\"x\",\"y\":[\"AUDI\"],\"yaxis\":\"y\",\"type\":\"bar\"},{\"alignmentgroup\":\"True\",\"hovertemplate\":\"EV Make=%{y}\\u003cbr\\u003eModel Year=2023\\u003cbr\\u003eNumber of EVs=%{x}\\u003cextra\\u003e\\u003c\\u002fextra\\u003e\",\"ids\":[\"VOLVO\"],\"legendgroup\":\"VOLVO\",\"marker\":{\"color\":\"#FECB52\",\"pattern\":{\"shape\":\"\"}},\"name\":\"VOLVO\",\"offsetgroup\":\"VOLVO\",\"orientation\":\"h\",\"showlegend\":true,\"textposition\":\"auto\",\"x\":[21],\"xaxis\":\"x\",\"y\":[\"VOLVO\"],\"yaxis\":\"y\",\"type\":\"bar\"}],\"name\":\"2023\"}]);\n",
       "                        }).then(function(){\n",
       "                            \n",
       "var gd = document.getElementById('9c04b8ac-8678-4e32-8e5e-67357c1007ca');\n",
       "var x = new MutationObserver(function (mutations, observer) {{\n",
       "        var display = window.getComputedStyle(gd).display;\n",
       "        if (!display || display === 'none') {{\n",
       "            console.log([gd, 'removed!']);\n",
       "            Plotly.purge(gd);\n",
       "            observer.disconnect();\n",
       "        }}\n",
       "}});\n",
       "\n",
       "// Listen for the removal of the full notebook cells\n",
       "var notebookContainer = gd.closest('#notebook-container');\n",
       "if (notebookContainer) {{\n",
       "    x.observe(notebookContainer, {childList: true});\n",
       "}}\n",
       "\n",
       "// Listen for the clearing of the current output cell\n",
       "var outputEl = gd.closest('.output');\n",
       "if (outputEl) {{\n",
       "    x.observe(outputEl, {childList: true});\n",
       "}}\n",
       "\n",
       "                        })                };                });            </script>        </div>"
      ]
     },
     "metadata": {},
     "output_type": "display_data"
    }
   ],
   "source": [
    "fig = px.bar(\n",
    "    racing_data,\n",
    "    x='Count',\n",
    "    y='Make',\n",
    "    color='Make',\n",
    "    animation_frame='Model Year',\n",
    "    animation_group='Make',\n",
    "    orientation='h',\n",
    "    range_x=[0, racing_data['Count'].max() + 100],  # Adjust range as needed\n",
    "    title='EV Make Counts Over Years',\n",
    "    labels={'Count': 'Number of EVs', 'Make': 'EV Make'},\n",
    "    height=600\n",
    ")\n",
    "\n",
    "fig.update_layout(\n",
    "    xaxis_title='Number of EVs',\n",
    "    yaxis_title='EV Make',\n",
    "    yaxis=dict(autorange=\"reversed\")  # To display the highest bar at the top\n",
    ")\n",
    "fig.show()"
   ]
  },
  {
   "cell_type": "code",
   "execution_count": null,
   "id": "0336bbf8-682e-42cb-9f8a-404ae7dd7693",
   "metadata": {},
   "outputs": [],
   "source": [
    "import pandas as pd\n",
    "import bar_chart_race as bcr\n",
    "\n",
    "# Sample DataFrame (replace with your actual DataFrame)\n",
    "# Assuming df has 'Make', 'Model Year', and 'VIN (1-10)' columns\n",
    "# Create the aggregated data\n",
    "racing_data = df.groupby(['Make', 'Model Year']).agg({'VIN (1-10)': 'count'}).reset_index()\n",
    "racing_data.rename(columns={'VIN (1-10)': 'EV_Count'}, inplace=True)\n",
    "\n",
    "# Pivot the DataFrame to create a wide format for bar_chart_race\n",
    "racing_data_pivot = racing_data.pivot(index='Make', columns='Model Year', values='EV_Count').fillna(0)\n",
    "\n",
    "# Create the Racing Bar Plot\n",
    "bcr.bar_chart_race(\n",
    "    df=racing_data_pivot,\n",
    "    filename='racing_bar_plot.gif',  # Save the animation as a GIF\n",
    "    title='Electric Vehicle Counts by Make and Model Year',\n",
    "    bar_label_size=12,\n",
    "    tick_label_size=10,\n",
    "    figsize=(10, 6),\n",
    "    cmap='viridis',  # Choose a color map\n",
    "    dpi=144,\n",
    "    period_length=2000,  # Length of each frame in milliseconds\n",
    "    bar_size=0.8,  # Size of the bars\n",
    "    sort='desc',  # Sort bars in descending order\n",
    ")\n",
    "from IPython.display import Image\n",
    "Image(filename='racing_bar_plot.gif')\n"
   ]
  },
  {
   "cell_type": "code",
   "execution_count": 85,
   "id": "f1f5b4e0-cc3a-46df-af77-2a0d1a950e78",
   "metadata": {},
   "outputs": [
    {
     "data": {
      "text/html": [
       "<a href='racing_bar_plot.gif' target='_blank'>racing_bar_plot.gif</a><br>"
      ],
      "text/plain": [
       "C:\\Users\\Soberr\\racing_bar_plot.gif"
      ]
     },
     "execution_count": 85,
     "metadata": {},
     "output_type": "execute_result"
    }
   ],
   "source": [
    "from IPython.display import FileLink\n",
    "FileLink('racing_bar_plot.gif')\n"
   ]
  },
  {
   "cell_type": "code",
   "execution_count": null,
   "id": "55af96f5-a328-4301-9909-5af0f797de5a",
   "metadata": {},
   "outputs": [],
   "source": []
  }
 ],
 "metadata": {
  "kernelspec": {
   "display_name": "Python 3 (ipykernel)",
   "language": "python",
   "name": "python3"
  },
  "language_info": {
   "codemirror_mode": {
    "name": "ipython",
    "version": 3
   },
   "file_extension": ".py",
   "mimetype": "text/x-python",
   "name": "python",
   "nbconvert_exporter": "python",
   "pygments_lexer": "ipython3",
   "version": "3.11.5"
  }
 },
 "nbformat": 4,
 "nbformat_minor": 5
}
